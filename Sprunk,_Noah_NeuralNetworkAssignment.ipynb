{
  "nbformat": 4,
  "nbformat_minor": 0,
  "metadata": {
    "colab": {
      "provenance": [],
      "machine_shape": "hm",
      "include_colab_link": true
    },
    "kernelspec": {
      "name": "python3",
      "display_name": "Python 3"
    },
    "language_info": {
      "name": "python"
    },
    "gpuClass": "standard"
  },
  "cells": [
    {
      "cell_type": "markdown",
      "metadata": {
        "id": "view-in-github",
        "colab_type": "text"
      },
      "source": [
        "<a href=\"https://colab.research.google.com/github/NoahSprunk/Advanced-Machine-Learning/blob/main/Sprunk%2C_Noah_NeuralNetworkAssignment.ipynb\" target=\"_parent\"><img src=\"https://colab.research.google.com/assets/colab-badge.svg\" alt=\"Open In Colab\"/></a>"
      ]
    },
    {
      "cell_type": "code",
      "execution_count": 1,
      "metadata": {
        "id": "fve5EqumMsPy",
        "colab": {
          "base_uri": "https://localhost:8080/"
        },
        "outputId": "907626d9-287f-4747-e45c-8c8fd287a611"
      },
      "outputs": [
        {
          "output_type": "stream",
          "name": "stdout",
          "text": [
            "Downloading data from https://storage.googleapis.com/tensorflow/tf-keras-datasets/imdb.npz\n",
            "17464789/17464789 [==============================] - 1s 0us/step\n"
          ]
        }
      ],
      "source": [
        "from keras.datasets import imdb\n",
        "\n",
        "(train_data, train_labels), (test_data, test_labels) = imdb.load_data(num_words=10000)\n"
      ]
    },
    {
      "cell_type": "code",
      "source": [
        "train_labels[19]"
      ],
      "metadata": {
        "colab": {
          "base_uri": "https://localhost:8080/"
        },
        "id": "P_jYsFEwXBxP",
        "outputId": "e431dc92-9927-4428-ef14-27f6182ddf12"
      },
      "execution_count": 2,
      "outputs": [
        {
          "output_type": "execute_result",
          "data": {
            "text/plain": [
              "1"
            ]
          },
          "metadata": {},
          "execution_count": 2
        }
      ]
    },
    {
      "cell_type": "code",
      "source": [
        "max([max(sequence) for sequence in train_data])\n"
      ],
      "metadata": {
        "colab": {
          "base_uri": "https://localhost:8080/"
        },
        "id": "oB0BoQBjdYui",
        "outputId": "f7f159fc-647e-4c78-daa0-52df2b793613"
      },
      "execution_count": 3,
      "outputs": [
        {
          "output_type": "execute_result",
          "data": {
            "text/plain": [
              "9999"
            ]
          },
          "metadata": {},
          "execution_count": 3
        }
      ]
    },
    {
      "cell_type": "code",
      "source": [
        "# word_index is a dictionary mapping words to an integer index\n",
        "word_index = imdb.get_word_index()\n",
        "# We reverse it, mapping integer indices to words\n",
        "reverse_word_index = dict([(value, key) for (key, value) in word_index.items()])\n",
        "# We decode the review; note that our indices were offset by 3\n",
        "# because 0, 1 and 2 are reserved indices for \"padding\", \"start of sequence\", and \"unknown\".\n",
        "decoded_review = ' '.join([reverse_word_index.get(i - 3, '?') for i in train_data[0]])\n"
      ],
      "metadata": {
        "colab": {
          "base_uri": "https://localhost:8080/"
        },
        "id": "shlapHGedeJw",
        "outputId": "cc3442fe-d6b6-4512-8094-074c4f328098"
      },
      "execution_count": null,
      "outputs": [
        {
          "output_type": "stream",
          "name": "stdout",
          "text": [
            "Downloading data from https://storage.googleapis.com/tensorflow/tf-keras-datasets/imdb_word_index.json\n",
            "1641221/1641221 [==============================] - 0s 0us/step\n"
          ]
        }
      ]
    },
    {
      "cell_type": "code",
      "source": [
        "decoded_review"
      ],
      "metadata": {
        "colab": {
          "base_uri": "https://localhost:8080/",
          "height": 105
        },
        "id": "Gn5XrHd1dihC",
        "outputId": "a5974cd9-7627-4c60-e916-70901aff6934"
      },
      "execution_count": null,
      "outputs": [
        {
          "output_type": "execute_result",
          "data": {
            "text/plain": [
              "\"? this film was just brilliant casting location scenery story direction everyone's really suited the part they played and you could just imagine being there robert ? is an amazing actor and now the same being director ? father came from the same scottish island as myself so i loved the fact there was a real connection with this film the witty remarks throughout the film were great it was just brilliant so much that i bought the film as soon as it was released for ? and would recommend it to everyone to watch and the fly fishing was amazing really cried at the end it was so sad and you know what they say if you cry at a film it must have been good and this definitely was also ? to the two little boy's that played the ? of norman and paul they were just brilliant children are often left out of the ? list i think because the stars that play them all grown up are such a big profile for the whole film but these children are amazing and should be praised for what they have done don't you think the whole story was so lovely because it was true and was someone's life after all that was shared with us all\""
            ],
            "application/vnd.google.colaboratory.intrinsic+json": {
              "type": "string"
            }
          },
          "metadata": {},
          "execution_count": 6
        }
      ]
    },
    {
      "cell_type": "code",
      "source": [
        "import numpy as np\n",
        "\n",
        "def vectorize_sequences(sequences, dimension=10000):\n",
        "    # Create an all-zero matrix of shape (len(sequences), dimension)\n",
        "    results = np.zeros((len(sequences), dimension))\n",
        "    for i, sequence in enumerate(sequences):\n",
        "        results[i, sequence] = 1.  # set specific indices of results[i] to 1s\n",
        "    return results\n",
        "\n",
        "# Our vectorized training data\n",
        "x_train = vectorize_sequences(train_data)\n",
        "# Our vectorized test data\n",
        "x_test = vectorize_sequences(test_data)"
      ],
      "metadata": {
        "id": "l7HXo8LRdp_e"
      },
      "execution_count": 4,
      "outputs": []
    },
    {
      "cell_type": "code",
      "source": [
        "x_train[19]"
      ],
      "metadata": {
        "colab": {
          "base_uri": "https://localhost:8080/"
        },
        "id": "r_soMqXPdt-g",
        "outputId": "d1404c94-0647-4c06-9a54-9b199270f158"
      },
      "execution_count": 5,
      "outputs": [
        {
          "output_type": "execute_result",
          "data": {
            "text/plain": [
              "array([0., 1., 1., ..., 0., 0., 0.])"
            ]
          },
          "metadata": {},
          "execution_count": 5
        }
      ]
    },
    {
      "cell_type": "code",
      "source": [
        "# Vectorizing the labels\n",
        "\n",
        "y_train = np.asarray(train_labels).astype('float32')\n",
        "y_test = np.asarray(test_labels).astype('float32')"
      ],
      "metadata": {
        "id": "dYPfhatcd0UO"
      },
      "execution_count": 6,
      "outputs": []
    },
    {
      "cell_type": "code",
      "source": [
        "from keras import models\n",
        "from keras import layers\n",
        "\n",
        "model = models.Sequential()\n",
        "model.add(layers.Dense(16, activation='relu', input_shape=(10000,)))\n",
        "model.add(layers.Dense(16, activation='relu'))\n",
        "model.add(layers.Dense(1, activation='sigmoid'))"
      ],
      "metadata": {
        "id": "rTXqolPaAzXA"
      },
      "execution_count": 7,
      "outputs": []
    },
    {
      "cell_type": "code",
      "source": [
        "model.compile(optimizer='rmsprop',\n",
        "              loss='binary_crossentropy',\n",
        "              metrics=['accuracy'])"
      ],
      "metadata": {
        "id": "NsaxLt1eA8_z"
      },
      "execution_count": 8,
      "outputs": []
    },
    {
      "cell_type": "code",
      "source": [
        "from keras import optimizers\n",
        "from keras import losses\n",
        "from keras import metrics\n",
        "\n",
        "from tensorflow import keras\n",
        "from keras import optimizers\n",
        "from tensorflow.keras import optimizers\n",
        "from tensorflow.keras import optimizers\n",
        "\n",
        "model.compile(optimizer=optimizers.RMSprop(learning_rate=0.001),\n",
        "              loss = losses.binary_crossentropy,\n",
        "              metrics = [metrics.binary_accuracy])"
      ],
      "metadata": {
        "id": "z9UyhEN9BHVT"
      },
      "execution_count": 9,
      "outputs": []
    },
    {
      "cell_type": "code",
      "source": [
        "x_val = x_train[:10000]\n",
        "partial_x_train = x_train[10000:]\n",
        "\n",
        "y_val = y_train[:10000]\n",
        "partial_y_train = y_train[10000:]"
      ],
      "metadata": {
        "id": "izpjtNdzBMiP"
      },
      "execution_count": 10,
      "outputs": []
    },
    {
      "cell_type": "code",
      "source": [
        "history = model.fit(partial_x_train,\n",
        "                    partial_y_train,\n",
        "                    epochs=20,\n",
        "                    batch_size=512,\n",
        "                    validation_data=(x_val, y_val))"
      ],
      "metadata": {
        "colab": {
          "base_uri": "https://localhost:8080/"
        },
        "id": "JRqL4uL-BbL0",
        "outputId": "9443d587-a9cf-49cd-9c39-2a49a317ce9b"
      },
      "execution_count": 11,
      "outputs": [
        {
          "output_type": "stream",
          "name": "stdout",
          "text": [
            "Epoch 1/20\n",
            "30/30 [==============================] - 2s 44ms/step - loss: 0.4972 - binary_accuracy: 0.7799 - val_loss: 0.3630 - val_binary_accuracy: 0.8745\n",
            "Epoch 2/20\n",
            "30/30 [==============================] - 1s 20ms/step - loss: 0.2922 - binary_accuracy: 0.8991 - val_loss: 0.2976 - val_binary_accuracy: 0.8853\n",
            "Epoch 3/20\n",
            "30/30 [==============================] - 1s 20ms/step - loss: 0.2210 - binary_accuracy: 0.9238 - val_loss: 0.2931 - val_binary_accuracy: 0.8801\n",
            "Epoch 4/20\n",
            "30/30 [==============================] - 1s 19ms/step - loss: 0.1808 - binary_accuracy: 0.9388 - val_loss: 0.2954 - val_binary_accuracy: 0.8812\n",
            "Epoch 5/20\n",
            "30/30 [==============================] - 1s 24ms/step - loss: 0.1492 - binary_accuracy: 0.9508 - val_loss: 0.3841 - val_binary_accuracy: 0.8518\n",
            "Epoch 6/20\n",
            "30/30 [==============================] - 1s 22ms/step - loss: 0.1248 - binary_accuracy: 0.9605 - val_loss: 0.3029 - val_binary_accuracy: 0.8829\n",
            "Epoch 7/20\n",
            "30/30 [==============================] - 1s 23ms/step - loss: 0.1079 - binary_accuracy: 0.9673 - val_loss: 0.3237 - val_binary_accuracy: 0.8810\n",
            "Epoch 8/20\n",
            "30/30 [==============================] - 1s 21ms/step - loss: 0.0892 - binary_accuracy: 0.9748 - val_loss: 0.3248 - val_binary_accuracy: 0.8828\n",
            "Epoch 9/20\n",
            "30/30 [==============================] - 1s 19ms/step - loss: 0.0792 - binary_accuracy: 0.9760 - val_loss: 0.3530 - val_binary_accuracy: 0.8728\n",
            "Epoch 10/20\n",
            "30/30 [==============================] - 1s 19ms/step - loss: 0.0658 - binary_accuracy: 0.9826 - val_loss: 0.3588 - val_binary_accuracy: 0.8776\n",
            "Epoch 11/20\n",
            "30/30 [==============================] - 1s 19ms/step - loss: 0.0536 - binary_accuracy: 0.9876 - val_loss: 0.3807 - val_binary_accuracy: 0.8794\n",
            "Epoch 12/20\n",
            "30/30 [==============================] - 1s 20ms/step - loss: 0.0475 - binary_accuracy: 0.9888 - val_loss: 0.4029 - val_binary_accuracy: 0.8736\n",
            "Epoch 13/20\n",
            "30/30 [==============================] - 1s 20ms/step - loss: 0.0382 - binary_accuracy: 0.9922 - val_loss: 0.4231 - val_binary_accuracy: 0.8768\n",
            "Epoch 14/20\n",
            "30/30 [==============================] - 1s 19ms/step - loss: 0.0318 - binary_accuracy: 0.9944 - val_loss: 0.4655 - val_binary_accuracy: 0.8666\n",
            "Epoch 15/20\n",
            "30/30 [==============================] - 1s 19ms/step - loss: 0.0306 - binary_accuracy: 0.9932 - val_loss: 0.4699 - val_binary_accuracy: 0.8718\n",
            "Epoch 16/20\n",
            "30/30 [==============================] - 1s 20ms/step - loss: 0.0243 - binary_accuracy: 0.9960 - val_loss: 0.4906 - val_binary_accuracy: 0.8699\n",
            "Epoch 17/20\n",
            "30/30 [==============================] - 1s 26ms/step - loss: 0.0215 - binary_accuracy: 0.9965 - val_loss: 0.5113 - val_binary_accuracy: 0.8727\n",
            "Epoch 18/20\n",
            "30/30 [==============================] - 1s 20ms/step - loss: 0.0158 - binary_accuracy: 0.9975 - val_loss: 0.5327 - val_binary_accuracy: 0.8726\n",
            "Epoch 19/20\n",
            "30/30 [==============================] - 1s 26ms/step - loss: 0.0106 - binary_accuracy: 0.9995 - val_loss: 0.6506 - val_binary_accuracy: 0.8608\n",
            "Epoch 20/20\n",
            "30/30 [==============================] - 1s 20ms/step - loss: 0.0153 - binary_accuracy: 0.9971 - val_loss: 0.5818 - val_binary_accuracy: 0.8694\n"
          ]
        }
      ]
    },
    {
      "cell_type": "code",
      "source": [
        "history_dict = history.history\n",
        "history_dict.keys()"
      ],
      "metadata": {
        "colab": {
          "base_uri": "https://localhost:8080/"
        },
        "id": "eejNopPlBtA_",
        "outputId": "d720af80-cd8a-4472-8505-1fb134ead14d"
      },
      "execution_count": 12,
      "outputs": [
        {
          "output_type": "execute_result",
          "data": {
            "text/plain": [
              "dict_keys(['loss', 'binary_accuracy', 'val_loss', 'val_binary_accuracy'])"
            ]
          },
          "metadata": {},
          "execution_count": 12
        }
      ]
    },
    {
      "cell_type": "code",
      "source": [
        "import matplotlib.pyplot as plt\n",
        "\n",
        "Loss_Values = history_dict['loss']\n",
        "Val_Loss_Values = history_dict['val_loss']\n",
        "\n",
        "epochs = range(1, len(Loss_Values) + 1)\n",
        "\n",
        "plt.plot(epochs, Loss_Values, 'bo', label=\"Training Loss\")\n",
        "plt.plot(epochs, Val_Loss_Values, 'b', label=\"Validation Loss\")\n",
        "\n",
        "plt.title('Training and Validation Loss')\n",
        "plt.xlabel('Epochs')\n",
        "plt.ylabel('Loss Value')\n",
        "plt.legend()\n",
        "\n",
        "plt.show()"
      ],
      "metadata": {
        "colab": {
          "base_uri": "https://localhost:8080/",
          "height": 295
        },
        "id": "Y0cLFu7_Bu-3",
        "outputId": "c1ccb2f6-cdb1-4505-c457-f0e1123b2812"
      },
      "execution_count": null,
      "outputs": [
        {
          "output_type": "display_data",
          "data": {
            "text/plain": [
              "<Figure size 432x288 with 1 Axes>"
            ],
            "image/png": "[encoded data removed]"
          },
          "metadata": {
            "needs_background": "light"
          }
        }
      ]
    },
    {
      "cell_type": "code",
      "source": [
        "Acc_Values = history_dict['binary_accuracy']\n",
        "Val_Acc_Values = history_dict['val_binary_accuracy']\n",
        "\n",
        "epochs = range(1, len(Loss_Values) + 1)\n",
        "\n",
        "plt.plot(epochs, Acc_Values, 'go', label = \"Training Accuracy\")\n",
        "plt.plot(epochs, Val_Acc_Values, 'g', label = \"Validation Accuracy\")\n",
        "\n",
        "plt.title('Training and Validation Loss')\n",
        "plt.xlabel('Epochs')\n",
        "plt.ylabel('Loss Value')\n",
        "plt.legend()\n",
        "\n",
        "plt.show()"
      ],
      "metadata": {
        "colab": {
          "base_uri": "https://localhost:8080/",
          "height": 295
        },
        "id": "WNuIxoRgEMJo",
        "outputId": "ca7fc963-1604-4205-c4cf-5c4b29cfea75"
      },
      "execution_count": null,
      "outputs": [
        {
          "output_type": "display_data",
          "data": {
            "text/plain": [
              "<Figure size 432x288 with 1 Axes>"
            ],
            "image/png": "[encoded data removed]"
          },
          "metadata": {
            "needs_background": "light"
          }
        }
      ]
    },
    {
      "cell_type": "code",
      "source": [
        "Val_Acc_Values"
      ],
      "metadata": {
        "colab": {
          "base_uri": "https://localhost:8080/"
        },
        "id": "AMoyL4yUI5zE",
        "outputId": "4cf45053-df7b-49b3-e128-8945387d0fac"
      },
      "execution_count": 32,
      "outputs": [
        {
          "output_type": "execute_result",
          "data": {
            "text/plain": [
              "[0.8751000165939331,\n",
              " 0.8429999947547913,\n",
              " 0.8270000219345093,\n",
              " 0.8845000267028809,\n",
              " 0.8658999800682068,\n",
              " 0.8830999732017517,\n",
              " 0.8637999892234802,\n",
              " 0.8781999945640564,\n",
              " 0.8776999711990356,\n",
              " 0.8766999840736389,\n",
              " 0.8787999749183655,\n",
              " 0.8759999871253967,\n",
              " 0.8756999969482422,\n",
              " 0.8747000098228455,\n",
              " 0.8744000196456909,\n",
              " 0.8751000165939331,\n",
              " 0.8737000226974487,\n",
              " 0.8741999864578247,\n",
              " 0.8093000054359436,\n",
              " 0.8719000220298767]"
            ]
          },
          "metadata": {},
          "execution_count": 32
        }
      ]
    },
    {
      "cell_type": "markdown",
      "source": [
        "We can see that the validation accuracy (Val_Acc_Values = 0.8894 at 3 epochs) of this model increaces up until the 3rd epoch then dips but then comes back up. Going to make a model that is 3 epochs to see the accuracy"
      ],
      "metadata": {
        "id": "6eyMsU9FIjqf"
      }
    },
    {
      "cell_type": "code",
      "source": [
        "model = models.Sequential()\n",
        "model.add(layers.Dense(16, activation='relu', input_shape=(10000,)))\n",
        "model.add(layers.Dense(16, activation='relu'))\n",
        "model.add(layers.Dense(1, activation='sigmoid'))\n",
        "\n",
        "model.compile(optimizer='rmsprop',\n",
        "              loss='binary_crossentropy',\n",
        "              metrics=['accuracy'])\n",
        "\n",
        "model.fit(x_train, y_train, epochs=3, batch_size=512)\n",
        "results = model.evaluate(x_test, y_test)"
      ],
      "metadata": {
        "colab": {
          "base_uri": "https://localhost:8080/"
        },
        "id": "XqacF7BmJXV2",
        "outputId": "1d0e5817-2f91-4fa6-872f-633586a3b2e8"
      },
      "execution_count": null,
      "outputs": [
        {
          "output_type": "stream",
          "name": "stdout",
          "text": [
            "Epoch 1/3\n",
            "49/49 [==============================] - 3s 33ms/step - loss: 0.4728 - accuracy: 0.8082\n",
            "Epoch 2/3\n",
            "49/49 [==============================] - 2s 35ms/step - loss: 0.2816 - accuracy: 0.9037\n",
            "Epoch 3/3\n",
            "49/49 [==============================] - 2s 33ms/step - loss: 0.2182 - accuracy: 0.9230\n",
            "782/782 [==============================] - 2s 3ms/step - loss: 0.2817 - accuracy: 0.8872\n"
          ]
        }
      ]
    },
    {
      "cell_type": "markdown",
      "source": [
        "I will now use the 3 hidden layer method to create a model."
      ],
      "metadata": {
        "id": "_BE0S4ptjVV-"
      }
    },
    {
      "cell_type": "code",
      "source": [
        "from keras import models\n",
        "from tensorflow.keras import layers\n",
        "\n",
        "model = models.Sequential()\n",
        "model.add(layers.Dense(16, activation='relu', input_shape=(10000,)))\n",
        "model.add(layers.Dense(16, activation='relu'))\n",
        "model.add(layers.Dense(16, activation='relu'))\n",
        "model.add(layers.Dense(1, activation='sigmoid'))\n",
        "\n",
        "model.compile(optimizer='rmsprop',\n",
        "              loss='binary_crossentropy',\n",
        "              metrics=['accuracy'])\n",
        "\n",
        "from keras import optimizers\n",
        "from keras import losses\n",
        "from keras import metrics\n",
        "\n",
        "from tensorflow import keras\n",
        "from keras import optimizers\n",
        "from tensorflow.keras import optimizers\n",
        "from tensorflow.keras import optimizers\n",
        "\n",
        "model.compile(optimizer=optimizers.RMSprop(learning_rate=0.001),\n",
        "              loss = losses.binary_crossentropy,\n",
        "              metrics = [metrics.binary_accuracy])\n",
        "\n",
        "x_val = x_train[:10000]\n",
        "partial_x_train = x_train[10000:]\n",
        "\n",
        "y_val = y_train[:10000]\n",
        "partial_y_train = y_train[10000:]\n",
        "\n",
        "history = model.fit(partial_x_train,\n",
        "                    partial_y_train,\n",
        "                    epochs=20,\n",
        "                    batch_size=512,\n",
        "                    validation_data=(x_val, y_val))\n",
        "\n",
        "history_dict = history.history\n",
        "history_dict.keys()\n",
        "\n",
        "# Plotting the training and validation loss\n",
        "\n",
        "import matplotlib.pyplot as plt\n",
        "\n",
        "Loss_Values = history_dict['loss']\n",
        "Val_Loss_Values = history_dict['val_loss']\n",
        "\n",
        "epochs = range(1, len(Loss_Values) + 1)\n",
        "\n",
        "plt.plot(epochs, Loss_Values, 'bo', label=\"Training Loss\")\n",
        "plt.plot(epochs, Val_Loss_Values, 'b', label=\"Validation Loss\")\n",
        "\n",
        "plt.title('Training and Validation Loss')\n",
        "plt.xlabel('Epochs')\n",
        "plt.ylabel('Loss Value')\n",
        "plt.legend()\n",
        "\n",
        "plt.show()\n",
        "\n",
        "\n",
        "# Plotting the training and validation accuracy\n",
        "# Training and Validation Accuracy\n",
        "\n",
        "Acc_values = history_dict['binary_accuracy']\n",
        "Val_Acc_Values = history_dict['val_binary_accuracy']\n",
        "\n",
        "epochs = range(1, len(Loss_Values) + 1)\n",
        "\n",
        "plt.plot(epochs, Acc_Values, 'go', label=\"Training Accuracy\")\n",
        "plt.plot(epochs, Val_Acc_Values, 'g', label=\"Validation Accuracy\")\n",
        "\n",
        "plt.title('Training and Validation Accuraccy')\n",
        "plt.xlabel('Epochs')\n",
        "plt.ylabel('Accuracy')\n",
        "plt.legend()\n",
        "\n",
        "plt.show()\n",
        "\n",
        "\n",
        "model = models.Sequential()\n",
        "model.add(layers.Dense(16, activation='relu', input_shape=(10000,)))\n",
        "model.add(layers.Dense(16, activation='relu'))\n",
        "model.add(layers.Dense(16, activation='relu'))\n",
        "model.add(layers.Dense(1, activation='sigmoid'))\n",
        "\n",
        "model.compile(optimizer='rmsprop',\n",
        "              loss='binary_crossentropy',\n",
        "              metrics=['accuracy'])\n",
        "\n",
        "model.fit(x_train, y_train, epochs=3, batch_size=512)\n",
        "results = model.evaluate(x_test, y_test)\n",
        "\n",
        "results"
      ],
      "metadata": {
        "colab": {
          "base_uri": "https://localhost:8080/",
          "height": 1000
        },
        "id": "H0P1eXQoOzZq",
        "outputId": "2758d4c1-c7a9-4743-d7ea-641b8384a715"
      },
      "execution_count": null,
      "outputs": [
        {
          "output_type": "stream",
          "name": "stdout",
          "text": [
            "Epoch 1/20\n",
            "30/30 [==============================] - 3s 84ms/step - loss: 0.5454 - binary_accuracy: 0.7703 - val_loss: 0.4317 - val_binary_accuracy: 0.8413\n",
            "Epoch 2/20\n",
            "30/30 [==============================] - 3s 89ms/step - loss: 0.3252 - binary_accuracy: 0.8933 - val_loss: 0.3066 - val_binary_accuracy: 0.8849\n",
            "Epoch 3/20\n",
            "30/30 [==============================] - 1s 37ms/step - loss: 0.2304 - binary_accuracy: 0.9215 - val_loss: 0.3069 - val_binary_accuracy: 0.8750\n",
            "Epoch 4/20\n",
            "30/30 [==============================] - 2s 66ms/step - loss: 0.1813 - binary_accuracy: 0.9405 - val_loss: 0.3111 - val_binary_accuracy: 0.8761\n",
            "Epoch 5/20\n",
            "30/30 [==============================] - 2s 62ms/step - loss: 0.1448 - binary_accuracy: 0.9533 - val_loss: 0.2885 - val_binary_accuracy: 0.8866\n",
            "Epoch 6/20\n",
            "30/30 [==============================] - 2s 55ms/step - loss: 0.1268 - binary_accuracy: 0.9581 - val_loss: 0.3064 - val_binary_accuracy: 0.8838\n",
            "Epoch 7/20\n",
            "30/30 [==============================] - 1s 45ms/step - loss: 0.1009 - binary_accuracy: 0.9689 - val_loss: 0.3478 - val_binary_accuracy: 0.8789\n",
            "Epoch 8/20\n",
            "30/30 [==============================] - 2s 56ms/step - loss: 0.0810 - binary_accuracy: 0.9764 - val_loss: 0.3360 - val_binary_accuracy: 0.8821\n",
            "Epoch 9/20\n",
            "30/30 [==============================] - 1s 38ms/step - loss: 0.0652 - binary_accuracy: 0.9836 - val_loss: 0.3595 - val_binary_accuracy: 0.8784\n",
            "Epoch 10/20\n",
            "30/30 [==============================] - 2s 56ms/step - loss: 0.0567 - binary_accuracy: 0.9842 - val_loss: 0.4104 - val_binary_accuracy: 0.8758\n",
            "Epoch 11/20\n",
            "30/30 [==============================] - 2s 56ms/step - loss: 0.0459 - binary_accuracy: 0.9891 - val_loss: 0.5181 - val_binary_accuracy: 0.8509\n",
            "Epoch 12/20\n",
            "30/30 [==============================] - 2s 69ms/step - loss: 0.0429 - binary_accuracy: 0.9889 - val_loss: 0.4298 - val_binary_accuracy: 0.8771\n",
            "Epoch 13/20\n",
            "30/30 [==============================] - 2s 56ms/step - loss: 0.0343 - binary_accuracy: 0.9906 - val_loss: 0.4509 - val_binary_accuracy: 0.8772\n",
            "Epoch 14/20\n",
            "30/30 [==============================] - 1s 45ms/step - loss: 0.0157 - binary_accuracy: 0.9983 - val_loss: 0.4893 - val_binary_accuracy: 0.8708\n",
            "Epoch 15/20\n",
            "30/30 [==============================] - 2s 55ms/step - loss: 0.0266 - binary_accuracy: 0.9923 - val_loss: 0.5092 - val_binary_accuracy: 0.8746\n",
            "Epoch 16/20\n",
            "30/30 [==============================] - 1s 49ms/step - loss: 0.0242 - binary_accuracy: 0.9935 - val_loss: 0.5236 - val_binary_accuracy: 0.8724\n",
            "Epoch 17/20\n",
            "30/30 [==============================] - 2s 56ms/step - loss: 0.0069 - binary_accuracy: 0.9997 - val_loss: 0.5599 - val_binary_accuracy: 0.8709\n",
            "Epoch 18/20\n",
            "30/30 [==============================] - 2s 56ms/step - loss: 0.0217 - binary_accuracy: 0.9937 - val_loss: 0.5735 - val_binary_accuracy: 0.8719\n",
            "Epoch 19/20\n",
            "30/30 [==============================] - 1s 45ms/step - loss: 0.0040 - binary_accuracy: 0.9998 - val_loss: 0.6032 - val_binary_accuracy: 0.8716\n",
            "Epoch 20/20\n",
            "30/30 [==============================] - 2s 63ms/step - loss: 0.0151 - binary_accuracy: 0.9955 - val_loss: 0.6208 - val_binary_accuracy: 0.8696\n"
          ]
        },
        {
          "output_type": "display_data",
          "data": {
            "text/plain": [
              "<Figure size 432x288 with 1 Axes>"
            ],
            "image/png": "[encoded data removed]"
          },
          "metadata": {
            "needs_background": "light"
          }
        },
        {
          "output_type": "display_data",
          "data": {
            "text/plain": [
              "<Figure size 432x288 with 1 Axes>"
            ],
            "image/png": "[encoded data removed]"
          },
          "metadata": {
            "needs_background": "light"
          }
        },
        {
          "output_type": "stream",
          "name": "stdout",
          "text": [
            "Epoch 1/3\n",
            "49/49 [==============================] - 2s 34ms/step - loss: 0.4680 - accuracy: 0.8072\n",
            "Epoch 2/3\n",
            "49/49 [==============================] - 2s 33ms/step - loss: 0.2703 - accuracy: 0.9032\n",
            "Epoch 3/3\n",
            "49/49 [==============================] - 2s 33ms/step - loss: 0.2105 - accuracy: 0.9230\n",
            "782/782 [==============================] - 3s 3ms/step - loss: 0.3040 - accuracy: 0.8778\n"
          ]
        },
        {
          "output_type": "execute_result",
          "data": {
            "text/plain": [
              "[0.30400627851486206, 0.877839982509613]"
            ]
          },
          "metadata": {},
          "execution_count": 20
        }
      ]
    },
    {
      "cell_type": "markdown",
      "source": [
        "WRITE RESULTS FOR THE 3 HIDDEN LAYER TEST"
      ],
      "metadata": {
        "id": "GNlmiF-IlXlP"
      }
    },
    {
      "cell_type": "markdown",
      "source": [
        "HIDDEN 1 LAYER TEST"
      ],
      "metadata": {
        "id": "nFZGSI6jpVWs"
      }
    },
    {
      "cell_type": "code",
      "source": [
        "from keras import models\n",
        "from tensorflow.keras import layers\n",
        "\n",
        "model = models.Sequential()\n",
        "model.add(layers.Dense(16, activation='relu', input_shape=(10000,)))\n",
        "model.add(layers.Dense(1, activation='sigmoid'))\n",
        "\n",
        "model.compile(optimizer='rmsprop',\n",
        "              loss='binary_crossentropy',\n",
        "              metrics=['accuracy'])\n",
        "\n",
        "from keras import optimizers\n",
        "from keras import losses\n",
        "from keras import metrics\n",
        "\n",
        "from tensorflow import keras\n",
        "from keras import optimizers\n",
        "from tensorflow.keras import optimizers\n",
        "from tensorflow.keras import optimizers\n",
        "\n",
        "model.compile(optimizer=optimizers.RMSprop(learning_rate=0.001),\n",
        "              loss = losses.binary_crossentropy,\n",
        "              metrics = [metrics.binary_accuracy])\n",
        "\n",
        "x_val = x_train[:10000]\n",
        "partial_x_train = x_train[10000:]\n",
        "\n",
        "y_val = y_train[:10000]\n",
        "partial_y_train = y_train[10000:]\n",
        "\n",
        "history = model.fit(partial_x_train,\n",
        "                    partial_y_train,\n",
        "                    epochs=20,\n",
        "                    batch_size=512,\n",
        "                    validation_data=(x_val, y_val))\n",
        "\n",
        "history_dict = history.history\n",
        "history_dict.keys()\n",
        "\n",
        "# Plotting the training and validation loss\n",
        "\n",
        "import matplotlib.pyplot as plt\n",
        "\n",
        "Loss_Values = history_dict['loss']\n",
        "Val_Loss_Values = history_dict['val_loss']\n",
        "\n",
        "epochs = range(1, len(Loss_Values) + 1)\n",
        "\n",
        "plt.plot(epochs, Loss_Values, 'bo', label=\"Training Loss\")\n",
        "plt.plot(epochs, Val_Loss_Values, 'b', label=\"Validation Loss\")\n",
        "\n",
        "plt.title('Training and Validation Loss')\n",
        "plt.xlabel('Epochs')\n",
        "plt.ylabel('Loss Value')\n",
        "plt.legend()\n",
        "\n",
        "plt.show()\n",
        "\n",
        "\n",
        "# Plotting the training and validation accuracy\n",
        "# Training and Validation Accuracy\n",
        "\n",
        "Acc_values = history_dict['binary_accuracy']\n",
        "Val_Acc_Values = history_dict['val_binary_accuracy']\n",
        "\n",
        "epochs = range(1, len(Loss_Values) + 1)\n",
        "\n",
        "plt.plot(epochs, Acc_Values, 'go', label=\"Training Accuracy\")\n",
        "plt.plot(epochs, Val_Acc_Values, 'g', label=\"Validation Accuracy\")\n",
        "\n",
        "plt.title('Training and Validation Accuraccy')\n",
        "plt.xlabel('Epochs')\n",
        "plt.ylabel('Accuracy')\n",
        "plt.legend()\n",
        "\n",
        "plt.show()\n",
        "\n",
        "\n",
        "model = models.Sequential()\n",
        "model.add(layers.Dense(16, activation='relu', input_shape=(10000,)))\n",
        "model.add(layers.Dense(16, activation='relu'))\n",
        "model.add(layers.Dense(16, activation='relu'))\n",
        "model.add(layers.Dense(1, activation='sigmoid'))\n",
        "\n",
        "model.compile(optimizer='rmsprop',\n",
        "              loss='binary_crossentropy',\n",
        "              metrics=['accuracy'])\n",
        "\n",
        "model.fit(x_train, y_train, epochs=3, batch_size=512)\n",
        "results = model.evaluate(x_test, y_test)\n",
        "\n",
        "results"
      ],
      "metadata": {
        "colab": {
          "base_uri": "https://localhost:8080/",
          "height": 1000
        },
        "id": "OKHHHvKulXP6",
        "outputId": "d00d6630-6613-4fce-b7a2-5c47bdafb2d1"
      },
      "execution_count": null,
      "outputs": [
        {
          "output_type": "stream",
          "name": "stdout",
          "text": [
            "Epoch 1/20\n",
            "30/30 [==============================] - 3s 86ms/step - loss: 0.5030 - binary_accuracy: 0.7907 - val_loss: 0.3939 - val_binary_accuracy: 0.8599\n",
            "Epoch 2/20\n",
            "30/30 [==============================] - 2s 53ms/step - loss: 0.3247 - binary_accuracy: 0.8981 - val_loss: 0.3211 - val_binary_accuracy: 0.8817\n",
            "Epoch 3/20\n",
            "30/30 [==============================] - 2s 69ms/step - loss: 0.2568 - binary_accuracy: 0.9178 - val_loss: 0.2967 - val_binary_accuracy: 0.8833\n",
            "Epoch 4/20\n",
            "30/30 [==============================] - 1s 50ms/step - loss: 0.2158 - binary_accuracy: 0.9304 - val_loss: 0.3310 - val_binary_accuracy: 0.8610\n",
            "Epoch 5/20\n",
            "30/30 [==============================] - 1s 40ms/step - loss: 0.1888 - binary_accuracy: 0.9408 - val_loss: 0.2740 - val_binary_accuracy: 0.8890\n",
            "Epoch 6/20\n",
            "30/30 [==============================] - 2s 54ms/step - loss: 0.1660 - binary_accuracy: 0.9481 - val_loss: 0.2822 - val_binary_accuracy: 0.8857\n",
            "Epoch 7/20\n",
            "30/30 [==============================] - 1s 46ms/step - loss: 0.1510 - binary_accuracy: 0.9521 - val_loss: 0.2767 - val_binary_accuracy: 0.8870\n",
            "Epoch 8/20\n",
            "30/30 [==============================] - 1s 45ms/step - loss: 0.1362 - binary_accuracy: 0.9595 - val_loss: 0.2825 - val_binary_accuracy: 0.8876\n",
            "Epoch 9/20\n",
            "30/30 [==============================] - 1s 45ms/step - loss: 0.1244 - binary_accuracy: 0.9637 - val_loss: 0.2873 - val_binary_accuracy: 0.8863\n",
            "Epoch 10/20\n",
            "30/30 [==============================] - 1s 41ms/step - loss: 0.1131 - binary_accuracy: 0.9693 - val_loss: 0.2995 - val_binary_accuracy: 0.8798\n",
            "Epoch 11/20\n",
            "30/30 [==============================] - 2s 56ms/step - loss: 0.1047 - binary_accuracy: 0.9712 - val_loss: 0.3214 - val_binary_accuracy: 0.8737\n",
            "Epoch 12/20\n",
            "30/30 [==============================] - 2s 70ms/step - loss: 0.0963 - binary_accuracy: 0.9741 - val_loss: 0.3093 - val_binary_accuracy: 0.8811\n",
            "Epoch 13/20\n",
            "30/30 [==============================] - 1s 45ms/step - loss: 0.0884 - binary_accuracy: 0.9783 - val_loss: 0.3158 - val_binary_accuracy: 0.8814\n",
            "Epoch 14/20\n",
            "30/30 [==============================] - 2s 55ms/step - loss: 0.0828 - binary_accuracy: 0.9791 - val_loss: 0.3368 - val_binary_accuracy: 0.8731\n",
            "Epoch 15/20\n",
            "30/30 [==============================] - 1s 45ms/step - loss: 0.0754 - binary_accuracy: 0.9833 - val_loss: 0.3322 - val_binary_accuracy: 0.8814\n",
            "Epoch 16/20\n",
            "30/30 [==============================] - 1s 43ms/step - loss: 0.0703 - binary_accuracy: 0.9838 - val_loss: 0.3414 - val_binary_accuracy: 0.8806\n",
            "Epoch 17/20\n",
            "30/30 [==============================] - 1s 45ms/step - loss: 0.0655 - binary_accuracy: 0.9862 - val_loss: 0.3632 - val_binary_accuracy: 0.8777\n",
            "Epoch 18/20\n",
            "30/30 [==============================] - 2s 55ms/step - loss: 0.0585 - binary_accuracy: 0.9897 - val_loss: 0.3615 - val_binary_accuracy: 0.8783\n",
            "Epoch 19/20\n",
            "30/30 [==============================] - 2s 55ms/step - loss: 0.0553 - binary_accuracy: 0.9899 - val_loss: 0.3710 - val_binary_accuracy: 0.8769\n",
            "Epoch 20/20\n",
            "30/30 [==============================] - 2s 67ms/step - loss: 0.0519 - binary_accuracy: 0.9912 - val_loss: 0.3806 - val_binary_accuracy: 0.8775\n"
          ]
        },
        {
          "output_type": "display_data",
          "data": {
            "text/plain": [
              "<Figure size 432x288 with 1 Axes>"
            ],
            "image/png": "[encoded data removed]"
          },
          "metadata": {
            "needs_background": "light"
          }
        },
        {
          "output_type": "display_data",
          "data": {
            "text/plain": [
              "<Figure size 432x288 with 1 Axes>"
            ],
            "image/png": "[encoded data removed]"
          },
          "metadata": {
            "needs_background": "light"
          }
        },
        {
          "output_type": "stream",
          "name": "stdout",
          "text": [
            "Epoch 1/3\n",
            "49/49 [==============================] - 3s 32ms/step - loss: 0.4869 - accuracy: 0.7984\n",
            "Epoch 2/3\n",
            "49/49 [==============================] - 2s 34ms/step - loss: 0.2670 - accuracy: 0.9042\n",
            "Epoch 3/3\n",
            "49/49 [==============================] - 2s 32ms/step - loss: 0.2051 - accuracy: 0.9256\n",
            "782/782 [==============================] - 2s 3ms/step - loss: 0.3143 - accuracy: 0.8744\n"
          ]
        },
        {
          "output_type": "execute_result",
          "data": {
            "text/plain": [
              "[0.31428030133247375, 0.8743600249290466]"
            ]
          },
          "metadata": {},
          "execution_count": 21
        }
      ]
    },
    {
      "cell_type": "markdown",
      "source": [
        "I will now test 32 hidden neurons in 2 hidden layers"
      ],
      "metadata": {
        "id": "CbdwzTSYXMoH"
      }
    },
    {
      "cell_type": "code",
      "source": [
        "from keras import models\n",
        "from tensorflow.keras import layers\n",
        "\n",
        "model = models.Sequential()\n",
        "model.add(layers.Dense(32, activation='relu', input_shape=(10000,)))\n",
        "model.add(layers.Dense(32, activation='relu'))\n",
        "model.add(layers.Dense(1, activation='sigmoid'))\n",
        "\n",
        "model.compile(optimizer='rmsprop',\n",
        "              loss='binary_crossentropy',\n",
        "              metrics=['accuracy'])\n",
        "\n",
        "from keras import optimizers\n",
        "from keras import losses\n",
        "from keras import metrics\n",
        "\n",
        "from tensorflow import keras\n",
        "from keras import optimizers\n",
        "from tensorflow.keras import optimizers\n",
        "from tensorflow.keras import optimizers\n",
        "\n",
        "model.compile(optimizer=optimizers.RMSprop(learning_rate=0.001),\n",
        "              loss = losses.binary_crossentropy,\n",
        "              metrics = [metrics.binary_accuracy])\n",
        "\n",
        "x_val = x_train[:10000]\n",
        "partial_x_train = x_train[10000:]\n",
        "\n",
        "y_val = y_train[:10000]\n",
        "partial_y_train = y_train[10000:]\n",
        "\n",
        "history = model.fit(partial_x_train,\n",
        "                    partial_y_train,\n",
        "                    epochs=20,\n",
        "                    batch_size=512,\n",
        "                    validation_data=(x_val, y_val))\n",
        "\n",
        "history_dict = history.history\n",
        "history_dict.keys()\n",
        "\n",
        "# Plotting the training and validation loss\n",
        "\n",
        "import matplotlib.pyplot as plt\n",
        "\n",
        "Loss_Values = history_dict['loss']\n",
        "Val_Loss_Values = history_dict['val_loss']\n",
        "\n",
        "epochs = range(1, len(Loss_Values) + 1)\n",
        "\n",
        "plt.plot(epochs, Loss_Values, 'bo', label=\"Training Loss\")\n",
        "plt.plot(epochs, Val_Loss_Values, 'b', label=\"Validation Loss\")\n",
        "\n",
        "plt.title('Training and Validation Loss')\n",
        "plt.xlabel('Epochs')\n",
        "plt.ylabel('Loss Value')\n",
        "plt.legend()\n",
        "\n",
        "plt.show()\n",
        "\n",
        "\n",
        "# Plotting the training and validation accuracy\n",
        "# Training and Validation Accuracy\n",
        "\n",
        "Acc_Values = history_dict['binary_accuracy']\n",
        "Val_Acc_Values = history_dict['val_binary_accuracy']\n",
        "\n",
        "epochs = range(1, len(Loss_Values) + 1)\n",
        "\n",
        "plt.plot(epochs, Acc_Values, 'go', label=\"Training Accuracy\")\n",
        "plt.plot(epochs, Val_Acc_Values, 'g', label=\"Validation Accuracy\")\n",
        "\n",
        "plt.title('Training and Validation Accuraccy')\n",
        "plt.xlabel('Epochs')\n",
        "plt.ylabel('Accuracy')\n",
        "plt.legend()\n",
        "\n",
        "plt.show()\n",
        "\n",
        "\n",
        "model = models.Sequential()\n",
        "model.add(layers.Dense(32, activation='relu', input_shape=(10000,)))\n",
        "model.add(layers.Dense(32, activation='relu'))\n",
        "model.add(layers.Dense(1, activation='sigmoid'))\n",
        "\n",
        "model.compile(optimizer='rmsprop',\n",
        "              loss='binary_crossentropy',\n",
        "              metrics=['accuracy'])\n",
        "\n",
        "model.fit(x_train, y_train, epochs=3, batch_size=512)\n",
        "results = model.evaluate(x_test, y_test)\n",
        "\n",
        "results"
      ],
      "metadata": {
        "id": "JKt1JtzFqOx0",
        "colab": {
          "base_uri": "https://localhost:8080/",
          "height": 1000
        },
        "outputId": "4acd5c76-3c66-483d-9342-4cc6dee607ef"
      },
      "execution_count": 19,
      "outputs": [
        {
          "output_type": "stream",
          "name": "stdout",
          "text": [
            "Epoch 1/20\n",
            "30/30 [==============================] - 2s 42ms/step - loss: 0.5215 - binary_accuracy: 0.7691 - val_loss: 0.3706 - val_binary_accuracy: 0.8698\n",
            "Epoch 2/20\n",
            "30/30 [==============================] - 1s 23ms/step - loss: 0.3126 - binary_accuracy: 0.8863 - val_loss: 0.3134 - val_binary_accuracy: 0.8752\n",
            "Epoch 3/20\n",
            "30/30 [==============================] - 1s 22ms/step - loss: 0.2336 - binary_accuracy: 0.9158 - val_loss: 0.2773 - val_binary_accuracy: 0.8913\n",
            "Epoch 4/20\n",
            "30/30 [==============================] - 1s 23ms/step - loss: 0.1860 - binary_accuracy: 0.9342 - val_loss: 0.3018 - val_binary_accuracy: 0.8782\n",
            "Epoch 5/20\n",
            "30/30 [==============================] - 1s 22ms/step - loss: 0.1564 - binary_accuracy: 0.9455 - val_loss: 0.2826 - val_binary_accuracy: 0.8881\n",
            "Epoch 6/20\n",
            "30/30 [==============================] - 1s 26ms/step - loss: 0.1353 - binary_accuracy: 0.9521 - val_loss: 0.2974 - val_binary_accuracy: 0.8875\n",
            "Epoch 7/20\n",
            "30/30 [==============================] - 1s 27ms/step - loss: 0.1168 - binary_accuracy: 0.9606 - val_loss: 0.3071 - val_binary_accuracy: 0.8858\n",
            "Epoch 8/20\n",
            "30/30 [==============================] - 1s 28ms/step - loss: 0.0925 - binary_accuracy: 0.9702 - val_loss: 0.3220 - val_binary_accuracy: 0.8835\n",
            "Epoch 9/20\n",
            "30/30 [==============================] - 1s 22ms/step - loss: 0.0814 - binary_accuracy: 0.9745 - val_loss: 0.3441 - val_binary_accuracy: 0.8791\n",
            "Epoch 10/20\n",
            "30/30 [==============================] - 1s 22ms/step - loss: 0.0712 - binary_accuracy: 0.9792 - val_loss: 0.3603 - val_binary_accuracy: 0.8803\n",
            "Epoch 11/20\n",
            "30/30 [==============================] - 1s 21ms/step - loss: 0.0603 - binary_accuracy: 0.9820 - val_loss: 0.3822 - val_binary_accuracy: 0.8763\n",
            "Epoch 12/20\n",
            "30/30 [==============================] - 1s 21ms/step - loss: 0.0399 - binary_accuracy: 0.9910 - val_loss: 0.5608 - val_binary_accuracy: 0.8476\n",
            "Epoch 13/20\n",
            "30/30 [==============================] - 1s 22ms/step - loss: 0.0419 - binary_accuracy: 0.9885 - val_loss: 0.4304 - val_binary_accuracy: 0.8770\n",
            "Epoch 14/20\n",
            "30/30 [==============================] - 1s 22ms/step - loss: 0.0321 - binary_accuracy: 0.9918 - val_loss: 0.4641 - val_binary_accuracy: 0.8712\n",
            "Epoch 15/20\n",
            "30/30 [==============================] - 1s 21ms/step - loss: 0.0316 - binary_accuracy: 0.9923 - val_loss: 0.4756 - val_binary_accuracy: 0.8750\n",
            "Epoch 16/20\n",
            "30/30 [==============================] - 1s 22ms/step - loss: 0.0141 - binary_accuracy: 0.9992 - val_loss: 0.5214 - val_binary_accuracy: 0.8693\n",
            "Epoch 17/20\n",
            "30/30 [==============================] - 1s 22ms/step - loss: 0.0274 - binary_accuracy: 0.9932 - val_loss: 0.5227 - val_binary_accuracy: 0.8734\n",
            "Epoch 18/20\n",
            "30/30 [==============================] - 1s 22ms/step - loss: 0.0165 - binary_accuracy: 0.9969 - val_loss: 0.5456 - val_binary_accuracy: 0.8722\n",
            "Epoch 19/20\n",
            "30/30 [==============================] - 1s 22ms/step - loss: 0.0108 - binary_accuracy: 0.9983 - val_loss: 0.7156 - val_binary_accuracy: 0.8491\n",
            "Epoch 20/20\n",
            "30/30 [==============================] - 1s 22ms/step - loss: 0.0071 - binary_accuracy: 0.9995 - val_loss: 0.6007 - val_binary_accuracy: 0.8689\n"
          ]
        },
        {
          "output_type": "display_data",
          "data": {
            "text/plain": [
              "<Figure size 432x288 with 1 Axes>"
            ],
            "image/png": "[encoded data removed]"
          },
          "metadata": {
            "needs_background": "light"
          }
        },
        {
          "output_type": "display_data",
          "data": {
            "text/plain": [
              "<Figure size 432x288 with 1 Axes>"
            ],
            "image/png": "[encoded data removed]"
          },
          "metadata": {
            "needs_background": "light"
          }
        },
        {
          "output_type": "stream",
          "name": "stdout",
          "text": [
            "Epoch 1/3\n",
            "49/49 [==============================] - 1s 17ms/step - loss: 0.4414 - accuracy: 0.8085\n",
            "Epoch 2/3\n",
            "49/49 [==============================] - 1s 17ms/step - loss: 0.2631 - accuracy: 0.9003\n",
            "Epoch 3/3\n",
            "49/49 [==============================] - 1s 16ms/step - loss: 0.2066 - accuracy: 0.9232\n",
            "782/782 [==============================] - 1s 2ms/step - loss: 0.2831 - accuracy: 0.8863\n"
          ]
        },
        {
          "output_type": "execute_result",
          "data": {
            "text/plain": [
              "[0.28310149908065796, 0.8863199949264526]"
            ]
          },
          "metadata": {},
          "execution_count": 19
        }
      ]
    },
    {
      "cell_type": "markdown",
      "source": [
        "I will now test the model with 64 neurons with 2 hidden layers."
      ],
      "metadata": {
        "id": "FECDWi8VZCCC"
      }
    },
    {
      "cell_type": "code",
      "source": [
        "from keras import models\n",
        "from tensorflow.keras import layers\n",
        "\n",
        "model = models.Sequential()\n",
        "model.add(layers.Dense(64, activation='relu', input_shape=(10000,)))\n",
        "model.add(layers.Dense(64, activation='relu'))\n",
        "model.add(layers.Dense(1, activation='sigmoid'))\n",
        "\n",
        "model.compile(optimizer='rmsprop',\n",
        "              loss='binary_crossentropy',\n",
        "              metrics=['accuracy'])\n",
        "\n",
        "from keras import optimizers\n",
        "from keras import losses\n",
        "from keras import metrics\n",
        "\n",
        "from tensorflow import keras\n",
        "from keras import optimizers\n",
        "from tensorflow.keras import optimizers\n",
        "from tensorflow.keras import optimizers\n",
        "\n",
        "model.compile(optimizer=optimizers.RMSprop(learning_rate=0.001),\n",
        "              loss = losses.binary_crossentropy,\n",
        "              metrics = [metrics.binary_accuracy])\n",
        "\n",
        "x_val = x_train[:10000]\n",
        "partial_x_train = x_train[10000:]\n",
        "\n",
        "y_val = y_train[:10000]\n",
        "partial_y_train = y_train[10000:]\n",
        "\n",
        "history = model.fit(partial_x_train,\n",
        "                    partial_y_train,\n",
        "                    epochs=20,\n",
        "                    batch_size=512,\n",
        "                    validation_data=(x_val, y_val))\n",
        "\n",
        "history_dict = history.history\n",
        "history_dict.keys()\n",
        "\n",
        "# Plotting the training and validation loss\n",
        "\n",
        "import matplotlib.pyplot as plt\n",
        "\n",
        "Loss_Values = history_dict['loss']\n",
        "Val_Loss_Values = history_dict['val_loss']\n",
        "\n",
        "epochs = range(1, len(Loss_Values) + 1)\n",
        "\n",
        "plt.plot(epochs, Loss_Values, 'bo', label=\"Training Loss\")\n",
        "plt.plot(epochs, Val_Loss_Values, 'b', label=\"Validation Loss\")\n",
        "\n",
        "plt.title('Training and Validation Loss')\n",
        "plt.xlabel('Epochs')\n",
        "plt.ylabel('Loss Value')\n",
        "plt.legend()\n",
        "\n",
        "plt.show()\n",
        "\n",
        "\n",
        "# Plotting the training and validation accuracy\n",
        "# Training and Validation Accuracy\n",
        "\n",
        "Acc_Values = history_dict['binary_accuracy']\n",
        "Val_Acc_Values = history_dict['val_binary_accuracy']\n",
        "\n",
        "epochs = range(1, len(Loss_Values) + 1)\n",
        "\n",
        "plt.plot(epochs, Acc_Values, 'go', label=\"Training Accuracy\")\n",
        "plt.plot(epochs, Val_Acc_Values, 'g', label=\"Validation Accuracy\")\n",
        "\n",
        "plt.title('Training and Validation Accuraccy')\n",
        "plt.xlabel('Epochs')\n",
        "plt.ylabel('Accuracy')\n",
        "plt.legend()\n",
        "\n",
        "plt.show()\n",
        "\n",
        "\n",
        "model = models.Sequential()\n",
        "model.add(layers.Dense(64, activation='relu', input_shape=(10000,)))\n",
        "model.add(layers.Dense(64, activation='relu'))\n",
        "model.add(layers.Dense(1, activation='sigmoid'))\n",
        "\n",
        "model.compile(optimizer='rmsprop',\n",
        "              loss='binary_crossentropy',\n",
        "              metrics=['accuracy'])\n",
        "\n",
        "model.fit(x_train, y_train, epochs=3, batch_size=512)\n",
        "results = model.evaluate(x_test, y_test)\n",
        "\n",
        "results"
      ],
      "metadata": {
        "colab": {
          "base_uri": "https://localhost:8080/",
          "height": 1000
        },
        "id": "jbz8GETAZHtD",
        "outputId": "ea8d8256-585f-49aa-9113-c1ddbe85c908"
      },
      "execution_count": 20,
      "outputs": [
        {
          "output_type": "stream",
          "name": "stdout",
          "text": [
            "Epoch 1/20\n",
            "30/30 [==============================] - 2s 58ms/step - loss: 0.5070 - binary_accuracy: 0.7678 - val_loss: 0.3794 - val_binary_accuracy: 0.8477\n",
            "Epoch 2/20\n",
            "30/30 [==============================] - 1s 32ms/step - loss: 0.2914 - binary_accuracy: 0.8917 - val_loss: 0.3122 - val_binary_accuracy: 0.8692\n",
            "Epoch 3/20\n",
            "30/30 [==============================] - 1s 32ms/step - loss: 0.2265 - binary_accuracy: 0.9139 - val_loss: 0.2759 - val_binary_accuracy: 0.8893\n",
            "Epoch 4/20\n",
            "30/30 [==============================] - 1s 37ms/step - loss: 0.1757 - binary_accuracy: 0.9369 - val_loss: 0.2880 - val_binary_accuracy: 0.8828\n",
            "Epoch 5/20\n",
            "30/30 [==============================] - 1s 41ms/step - loss: 0.1506 - binary_accuracy: 0.9456 - val_loss: 0.2890 - val_binary_accuracy: 0.8840\n",
            "Epoch 6/20\n",
            "30/30 [==============================] - 1s 35ms/step - loss: 0.1210 - binary_accuracy: 0.9586 - val_loss: 0.3046 - val_binary_accuracy: 0.8835\n",
            "Epoch 7/20\n",
            "30/30 [==============================] - 1s 31ms/step - loss: 0.0994 - binary_accuracy: 0.9678 - val_loss: 0.3399 - val_binary_accuracy: 0.8753\n",
            "Epoch 8/20\n",
            "30/30 [==============================] - 1s 32ms/step - loss: 0.0802 - binary_accuracy: 0.9743 - val_loss: 0.3775 - val_binary_accuracy: 0.8797\n",
            "Epoch 9/20\n",
            "30/30 [==============================] - 1s 32ms/step - loss: 0.0676 - binary_accuracy: 0.9793 - val_loss: 0.3785 - val_binary_accuracy: 0.8815\n",
            "Epoch 10/20\n",
            "30/30 [==============================] - 1s 49ms/step - loss: 0.0486 - binary_accuracy: 0.9851 - val_loss: 0.3924 - val_binary_accuracy: 0.8791\n",
            "Epoch 11/20\n",
            "30/30 [==============================] - 2s 55ms/step - loss: 0.0547 - binary_accuracy: 0.9854 - val_loss: 0.4137 - val_binary_accuracy: 0.8761\n",
            "Epoch 12/20\n",
            "30/30 [==============================] - 1s 40ms/step - loss: 0.0324 - binary_accuracy: 0.9905 - val_loss: 0.4261 - val_binary_accuracy: 0.8784\n",
            "Epoch 13/20\n",
            "30/30 [==============================] - 1s 40ms/step - loss: 0.0148 - binary_accuracy: 0.9981 - val_loss: 0.8403 - val_binary_accuracy: 0.8278\n",
            "Epoch 14/20\n",
            "30/30 [==============================] - 2s 52ms/step - loss: 0.0214 - binary_accuracy: 0.9939 - val_loss: 0.4857 - val_binary_accuracy: 0.8780\n",
            "Epoch 15/20\n",
            "30/30 [==============================] - 1s 44ms/step - loss: 0.0375 - binary_accuracy: 0.9903 - val_loss: 0.4932 - val_binary_accuracy: 0.8777\n",
            "Epoch 16/20\n",
            "30/30 [==============================] - 1s 34ms/step - loss: 0.0054 - binary_accuracy: 0.9998 - val_loss: 0.5423 - val_binary_accuracy: 0.8714\n",
            "Epoch 17/20\n",
            "30/30 [==============================] - 1s 32ms/step - loss: 0.0357 - binary_accuracy: 0.9895 - val_loss: 0.5281 - val_binary_accuracy: 0.8771\n",
            "Epoch 18/20\n",
            "30/30 [==============================] - 1s 32ms/step - loss: 0.0035 - binary_accuracy: 0.9999 - val_loss: 0.5662 - val_binary_accuracy: 0.8760\n",
            "Epoch 19/20\n",
            "30/30 [==============================] - 1s 32ms/step - loss: 0.0263 - binary_accuracy: 0.9917 - val_loss: 0.5662 - val_binary_accuracy: 0.8754\n",
            "Epoch 20/20\n",
            "30/30 [==============================] - 1s 31ms/step - loss: 0.0023 - binary_accuracy: 0.9999 - val_loss: 0.5958 - val_binary_accuracy: 0.8766\n"
          ]
        },
        {
          "output_type": "display_data",
          "data": {
            "text/plain": [
              "<Figure size 432x288 with 1 Axes>"
            ],
            "image/png": "[encoded data removed]"
          },
          "metadata": {
            "needs_background": "light"
          }
        },
        {
          "output_type": "display_data",
          "data": {
            "text/plain": [
              "<Figure size 432x288 with 1 Axes>"
            ],
            "image/png": "[encoded data removed]"
          },
          "metadata": {
            "needs_background": "light"
          }
        },
        {
          "output_type": "stream",
          "name": "stdout",
          "text": [
            "Epoch 1/3\n",
            "49/49 [==============================] - 2s 23ms/step - loss: 0.4374 - accuracy: 0.8104\n",
            "Epoch 2/3\n",
            "49/49 [==============================] - 1s 24ms/step - loss: 0.2573 - accuracy: 0.8988\n",
            "Epoch 3/3\n",
            "49/49 [==============================] - 1s 24ms/step - loss: 0.2105 - accuracy: 0.9193\n",
            "782/782 [==============================] - 2s 2ms/step - loss: 0.2829 - accuracy: 0.8863\n"
          ]
        },
        {
          "output_type": "execute_result",
          "data": {
            "text/plain": [
              "[0.28285109996795654, 0.8862800002098083]"
            ]
          },
          "metadata": {},
          "execution_count": 20
        }
      ]
    },
    {
      "cell_type": "markdown",
      "source": [
        "I will now test a model with 128 hidden neurons and 2 hidden layers."
      ],
      "metadata": {
        "id": "Cl5eWMTLagFk"
      }
    },
    {
      "cell_type": "code",
      "source": [
        "from keras import models\n",
        "from tensorflow.keras import layers\n",
        "\n",
        "model = models.Sequential()\n",
        "model.add(layers.Dense(128, activation='relu', input_shape=(10000,)))\n",
        "model.add(layers.Dense(128, activation='relu'))\n",
        "model.add(layers.Dense(1, activation='sigmoid'))\n",
        "\n",
        "model.compile(optimizer='rmsprop',\n",
        "              loss='binary_crossentropy',\n",
        "              metrics=['accuracy'])\n",
        "\n",
        "from keras import optimizers\n",
        "from keras import losses\n",
        "from keras import metrics\n",
        "\n",
        "from tensorflow import keras\n",
        "from keras import optimizers\n",
        "from tensorflow.keras import optimizers\n",
        "from tensorflow.keras import optimizers\n",
        "\n",
        "model.compile(optimizer=optimizers.RMSprop(learning_rate=0.001),\n",
        "              loss = losses.binary_crossentropy,\n",
        "              metrics = [metrics.binary_accuracy])\n",
        "\n",
        "x_val = x_train[:10000]\n",
        "partial_x_train = x_train[10000:]\n",
        "\n",
        "y_val = y_train[:10000]\n",
        "partial_y_train = y_train[10000:]\n",
        "\n",
        "history = model.fit(partial_x_train,\n",
        "                    partial_y_train,\n",
        "                    epochs=20,\n",
        "                    batch_size=512,\n",
        "                    validation_data=(x_val, y_val))\n",
        "\n",
        "history_dict = history.history\n",
        "history_dict.keys()\n",
        "\n",
        "# Plotting the training and validation loss\n",
        "\n",
        "import matplotlib.pyplot as plt\n",
        "\n",
        "Loss_Values = history_dict['loss']\n",
        "Val_Loss_Values = history_dict['val_loss']\n",
        "\n",
        "epochs = range(1, len(Loss_Values) + 1)\n",
        "\n",
        "plt.plot(epochs, Loss_Values, 'bo', label=\"Training Loss\")\n",
        "plt.plot(epochs, Val_Loss_Values, 'b', label=\"Validation Loss\")\n",
        "\n",
        "plt.title('Training and Validation Loss')\n",
        "plt.xlabel('Epochs')\n",
        "plt.ylabel('Loss Value')\n",
        "plt.legend()\n",
        "\n",
        "plt.show()\n",
        "\n",
        "\n",
        "# Plotting the training and validation accuracy\n",
        "# Training and Validation Accuracy\n",
        "\n",
        "Acc_Values = history_dict['binary_accuracy']\n",
        "Val_Acc_Values = history_dict['val_binary_accuracy']\n",
        "\n",
        "epochs = range(1, len(Loss_Values) + 1)\n",
        "\n",
        "plt.plot(epochs, Acc_Values, 'go', label=\"Training Accuracy\")\n",
        "plt.plot(epochs, Val_Acc_Values, 'g', label=\"Validation Accuracy\")\n",
        "\n",
        "plt.title('Training and Validation Accuraccy')\n",
        "plt.xlabel('Epochs')\n",
        "plt.ylabel('Accuracy')\n",
        "plt.legend()\n",
        "\n",
        "plt.show()\n",
        "\n",
        "\n",
        "model = models.Sequential()\n",
        "model.add(layers.Dense(128, activation='relu', input_shape=(10000,)))\n",
        "model.add(layers.Dense(128, activation='relu'))\n",
        "model.add(layers.Dense(1, activation='sigmoid'))\n",
        "\n",
        "model.compile(optimizer='rmsprop',\n",
        "              loss='binary_crossentropy',\n",
        "              metrics=['accuracy'])\n",
        "\n",
        "model.fit(x_train, y_train, epochs=3, batch_size=512)\n",
        "results = model.evaluate(x_test, y_test)\n",
        "\n",
        "results"
      ],
      "metadata": {
        "colab": {
          "base_uri": "https://localhost:8080/",
          "height": 1000
        },
        "id": "AB_dQi7xak8Z",
        "outputId": "17f1a106-22ed-44e0-dc42-59dc449ad1b2"
      },
      "execution_count": 21,
      "outputs": [
        {
          "output_type": "stream",
          "name": "stdout",
          "text": [
            "Epoch 1/20\n",
            "30/30 [==============================] - 3s 71ms/step - loss: 0.5110 - binary_accuracy: 0.7586 - val_loss: 0.3523 - val_binary_accuracy: 0.8623\n",
            "Epoch 2/20\n",
            "30/30 [==============================] - 1s 46ms/step - loss: 0.3040 - binary_accuracy: 0.8789 - val_loss: 0.2881 - val_binary_accuracy: 0.8845\n",
            "Epoch 3/20\n",
            "30/30 [==============================] - 1s 46ms/step - loss: 0.2224 - binary_accuracy: 0.9162 - val_loss: 0.2985 - val_binary_accuracy: 0.8782\n",
            "Epoch 4/20\n",
            "30/30 [==============================] - 1s 47ms/step - loss: 0.1952 - binary_accuracy: 0.9234 - val_loss: 0.2845 - val_binary_accuracy: 0.8818\n",
            "Epoch 5/20\n",
            "30/30 [==============================] - 1s 46ms/step - loss: 0.1481 - binary_accuracy: 0.9458 - val_loss: 0.3698 - val_binary_accuracy: 0.8538\n",
            "Epoch 6/20\n",
            "30/30 [==============================] - 1s 46ms/step - loss: 0.1202 - binary_accuracy: 0.9558 - val_loss: 0.3461 - val_binary_accuracy: 0.8759\n",
            "Epoch 7/20\n",
            "30/30 [==============================] - 1s 45ms/step - loss: 0.1009 - binary_accuracy: 0.9625 - val_loss: 0.3144 - val_binary_accuracy: 0.8840\n",
            "Epoch 8/20\n",
            "30/30 [==============================] - 2s 56ms/step - loss: 0.0721 - binary_accuracy: 0.9758 - val_loss: 0.3467 - val_binary_accuracy: 0.8821\n",
            "Epoch 9/20\n",
            "30/30 [==============================] - 2s 54ms/step - loss: 0.0601 - binary_accuracy: 0.9819 - val_loss: 0.3764 - val_binary_accuracy: 0.8817\n",
            "Epoch 10/20\n",
            "30/30 [==============================] - 1s 48ms/step - loss: 0.0603 - binary_accuracy: 0.9807 - val_loss: 0.3776 - val_binary_accuracy: 0.8804\n",
            "Epoch 11/20\n",
            "30/30 [==============================] - 1s 47ms/step - loss: 0.0130 - binary_accuracy: 0.9988 - val_loss: 0.4452 - val_binary_accuracy: 0.8798\n",
            "Epoch 12/20\n",
            "30/30 [==============================] - 1s 45ms/step - loss: 0.0602 - binary_accuracy: 0.9829 - val_loss: 0.4355 - val_binary_accuracy: 0.8815\n",
            "Epoch 13/20\n",
            "30/30 [==============================] - 1s 46ms/step - loss: 0.0062 - binary_accuracy: 0.9997 - val_loss: 0.5147 - val_binary_accuracy: 0.8805\n",
            "Epoch 14/20\n",
            "30/30 [==============================] - 1s 47ms/step - loss: 0.0468 - binary_accuracy: 0.9873 - val_loss: 0.4721 - val_binary_accuracy: 0.8797\n",
            "Epoch 15/20\n",
            "30/30 [==============================] - 1s 47ms/step - loss: 0.0035 - binary_accuracy: 0.9999 - val_loss: 0.5390 - val_binary_accuracy: 0.8727\n",
            "Epoch 16/20\n",
            "30/30 [==============================] - 1s 50ms/step - loss: 0.0584 - binary_accuracy: 0.9859 - val_loss: 0.4823 - val_binary_accuracy: 0.8749\n",
            "Epoch 17/20\n",
            "30/30 [==============================] - 2s 60ms/step - loss: 0.0029 - binary_accuracy: 1.0000 - val_loss: 0.5284 - val_binary_accuracy: 0.8770\n",
            "Epoch 18/20\n",
            "30/30 [==============================] - 1s 48ms/step - loss: 0.0016 - binary_accuracy: 1.0000 - val_loss: 0.5785 - val_binary_accuracy: 0.8778\n",
            "Epoch 19/20\n",
            "30/30 [==============================] - 1s 47ms/step - loss: 0.0521 - binary_accuracy: 0.9867 - val_loss: 0.5451 - val_binary_accuracy: 0.8749\n",
            "Epoch 20/20\n",
            "30/30 [==============================] - 1s 45ms/step - loss: 0.0016 - binary_accuracy: 1.0000 - val_loss: 0.5691 - val_binary_accuracy: 0.8785\n"
          ]
        },
        {
          "output_type": "display_data",
          "data": {
            "text/plain": [
              "<Figure size 432x288 with 1 Axes>"
            ],
            "image/png": "[encoded data removed]"
          },
          "metadata": {
            "needs_background": "light"
          }
        },
        {
          "output_type": "display_data",
          "data": {
            "text/plain": [
              "<Figure size 432x288 with 1 Axes>"
            ],
            "image/png": "[encoded data removed]"
          },
          "metadata": {
            "needs_background": "light"
          }
        },
        {
          "output_type": "stream",
          "name": "stdout",
          "text": [
            "Epoch 1/3\n",
            "49/49 [==============================] - 2s 35ms/step - loss: 0.4484 - accuracy: 0.7861\n",
            "Epoch 2/3\n",
            "49/49 [==============================] - 2s 35ms/step - loss: 0.2677 - accuracy: 0.8930\n",
            "Epoch 3/3\n",
            "49/49 [==============================] - 2s 42ms/step - loss: 0.2062 - accuracy: 0.9200\n",
            "782/782 [==============================] - 2s 3ms/step - loss: 0.4083 - accuracy: 0.8344\n"
          ]
        },
        {
          "output_type": "execute_result",
          "data": {
            "text/plain": [
              "[0.4083291292190552, 0.8343600034713745]"
            ]
          },
          "metadata": {},
          "execution_count": 21
        }
      ]
    },
    {
      "cell_type": "markdown",
      "source": [
        "I will now test 8 hidden neurons with 2 hidden layers to see how it affects the model"
      ],
      "metadata": {
        "id": "LH4bevM7a567"
      }
    },
    {
      "cell_type": "code",
      "source": [
        "from keras import models\n",
        "from tensorflow.keras import layers\n",
        "\n",
        "model = models.Sequential()\n",
        "model.add(layers.Dense(8, activation='relu', input_shape=(10000,)))\n",
        "model.add(layers.Dense(8, activation='relu'))\n",
        "model.add(layers.Dense(1, activation='sigmoid'))\n",
        "\n",
        "model.compile(optimizer='rmsprop',\n",
        "              loss='binary_crossentropy',\n",
        "              metrics=['accuracy'])\n",
        "\n",
        "from keras import optimizers\n",
        "from keras import losses\n",
        "from keras import metrics\n",
        "\n",
        "from tensorflow import keras\n",
        "from keras import optimizers\n",
        "from tensorflow.keras import optimizers\n",
        "from tensorflow.keras import optimizers\n",
        "\n",
        "model.compile(optimizer=optimizers.RMSprop(learning_rate=0.001),\n",
        "              loss = losses.binary_crossentropy,\n",
        "              metrics = [metrics.binary_accuracy])\n",
        "\n",
        "x_val = x_train[:10000]\n",
        "partial_x_train = x_train[10000:]\n",
        "\n",
        "y_val = y_train[:10000]\n",
        "partial_y_train = y_train[10000:]\n",
        "\n",
        "history = model.fit(partial_x_train,\n",
        "                    partial_y_train,\n",
        "                    epochs=20,\n",
        "                    batch_size=512,\n",
        "                    validation_data=(x_val, y_val))\n",
        "\n",
        "history_dict = history.history\n",
        "history_dict.keys()\n",
        "\n",
        "# Plotting the training and validation loss\n",
        "\n",
        "import matplotlib.pyplot as plt\n",
        "\n",
        "Loss_Values = history_dict['loss']\n",
        "Val_Loss_Values = history_dict['val_loss']\n",
        "\n",
        "epochs = range(1, len(Loss_Values) + 1)\n",
        "\n",
        "plt.plot(epochs, Loss_Values, 'bo', label=\"Training Loss\")\n",
        "plt.plot(epochs, Val_Loss_Values, 'b', label=\"Validation Loss\")\n",
        "\n",
        "plt.title('Training and Validation Loss')\n",
        "plt.xlabel('Epochs')\n",
        "plt.ylabel('Loss Value')\n",
        "plt.legend()\n",
        "\n",
        "plt.show()\n",
        "\n",
        "\n",
        "# Plotting the training and validation accuracy\n",
        "# Training and Validation Accuracy\n",
        "\n",
        "Acc_Values = history_dict['binary_accuracy']\n",
        "Val_Acc_Values = history_dict['val_binary_accuracy']\n",
        "\n",
        "epochs = range(1, len(Loss_Values) + 1)\n",
        "\n",
        "plt.plot(epochs, Acc_Values, 'go', label=\"Training Accuracy\")\n",
        "plt.plot(epochs, Val_Acc_Values, 'g', label=\"Validation Accuracy\")\n",
        "\n",
        "plt.title('Training and Validation Accuraccy')\n",
        "plt.xlabel('Epochs')\n",
        "plt.ylabel('Accuracy')\n",
        "plt.legend()\n",
        "\n",
        "plt.show()\n",
        "\n",
        "\n",
        "model = models.Sequential()\n",
        "model.add(layers.Dense(8, activation='relu', input_shape=(10000,)))\n",
        "model.add(layers.Dense(8, activation='relu'))\n",
        "model.add(layers.Dense(1, activation='sigmoid'))\n",
        "\n",
        "model.compile(optimizer='rmsprop',\n",
        "              loss='binary_crossentropy',\n",
        "              metrics=['accuracy'])\n",
        "\n",
        "model.fit(x_train, y_train, epochs=3, batch_size=512)\n",
        "results = model.evaluate(x_test, y_test)\n",
        "\n",
        "results"
      ],
      "metadata": {
        "colab": {
          "base_uri": "https://localhost:8080/",
          "height": 1000
        },
        "id": "EZ00ZmMca-vQ",
        "outputId": "4e7b5d66-2705-45e8-e68f-3a4483d98798"
      },
      "execution_count": 22,
      "outputs": [
        {
          "output_type": "stream",
          "name": "stdout",
          "text": [
            "Epoch 1/20\n",
            "30/30 [==============================] - 2s 42ms/step - loss: 0.5591 - binary_accuracy: 0.7743 - val_loss: 0.4539 - val_binary_accuracy: 0.8496\n",
            "Epoch 2/20\n",
            "30/30 [==============================] - 1s 21ms/step - loss: 0.3805 - binary_accuracy: 0.8883 - val_loss: 0.3609 - val_binary_accuracy: 0.8741\n",
            "Epoch 3/20\n",
            "30/30 [==============================] - 1s 18ms/step - loss: 0.2943 - binary_accuracy: 0.9084 - val_loss: 0.3205 - val_binary_accuracy: 0.8775\n",
            "Epoch 4/20\n",
            "30/30 [==============================] - 1s 18ms/step - loss: 0.2404 - binary_accuracy: 0.9243 - val_loss: 0.2890 - val_binary_accuracy: 0.8890\n",
            "Epoch 5/20\n",
            "30/30 [==============================] - 1s 25ms/step - loss: 0.2041 - binary_accuracy: 0.9356 - val_loss: 0.2840 - val_binary_accuracy: 0.8868\n",
            "Epoch 6/20\n",
            "30/30 [==============================] - 1s 26ms/step - loss: 0.1782 - binary_accuracy: 0.9439 - val_loss: 0.2746 - val_binary_accuracy: 0.8897\n",
            "Epoch 7/20\n",
            "30/30 [==============================] - 1s 31ms/step - loss: 0.1554 - binary_accuracy: 0.9515 - val_loss: 0.2749 - val_binary_accuracy: 0.8881\n",
            "Epoch 8/20\n",
            "30/30 [==============================] - 1s 27ms/step - loss: 0.1383 - binary_accuracy: 0.9577 - val_loss: 0.2861 - val_binary_accuracy: 0.8868\n",
            "Epoch 9/20\n",
            "30/30 [==============================] - 1s 24ms/step - loss: 0.1227 - binary_accuracy: 0.9638 - val_loss: 0.2877 - val_binary_accuracy: 0.8860\n",
            "Epoch 10/20\n",
            "30/30 [==============================] - 1s 19ms/step - loss: 0.1092 - binary_accuracy: 0.9686 - val_loss: 0.3062 - val_binary_accuracy: 0.8851\n",
            "Epoch 11/20\n",
            "30/30 [==============================] - 1s 18ms/step - loss: 0.0971 - binary_accuracy: 0.9732 - val_loss: 0.3065 - val_binary_accuracy: 0.8828\n",
            "Epoch 12/20\n",
            "30/30 [==============================] - 1s 18ms/step - loss: 0.0863 - binary_accuracy: 0.9769 - val_loss: 0.3279 - val_binary_accuracy: 0.8825\n",
            "Epoch 13/20\n",
            "30/30 [==============================] - 1s 18ms/step - loss: 0.0771 - binary_accuracy: 0.9807 - val_loss: 0.3272 - val_binary_accuracy: 0.8797\n",
            "Epoch 14/20\n",
            "30/30 [==============================] - 1s 18ms/step - loss: 0.0676 - binary_accuracy: 0.9841 - val_loss: 0.3436 - val_binary_accuracy: 0.8761\n",
            "Epoch 15/20\n",
            "30/30 [==============================] - 1s 18ms/step - loss: 0.0600 - binary_accuracy: 0.9873 - val_loss: 0.3547 - val_binary_accuracy: 0.8812\n",
            "Epoch 16/20\n",
            "30/30 [==============================] - 1s 18ms/step - loss: 0.0528 - binary_accuracy: 0.9893 - val_loss: 0.3720 - val_binary_accuracy: 0.8794\n",
            "Epoch 17/20\n",
            "30/30 [==============================] - 1s 18ms/step - loss: 0.0465 - binary_accuracy: 0.9910 - val_loss: 0.3839 - val_binary_accuracy: 0.8787\n",
            "Epoch 18/20\n",
            "30/30 [==============================] - 1s 18ms/step - loss: 0.0412 - binary_accuracy: 0.9923 - val_loss: 0.4023 - val_binary_accuracy: 0.8745\n",
            "Epoch 19/20\n",
            "30/30 [==============================] - 1s 18ms/step - loss: 0.0359 - binary_accuracy: 0.9937 - val_loss: 0.4196 - val_binary_accuracy: 0.8725\n",
            "Epoch 20/20\n",
            "30/30 [==============================] - 1s 18ms/step - loss: 0.0315 - binary_accuracy: 0.9953 - val_loss: 0.4336 - val_binary_accuracy: 0.8735\n"
          ]
        },
        {
          "output_type": "display_data",
          "data": {
            "text/plain": [
              "<Figure size 432x288 with 1 Axes>"
            ],
            "image/png": "[encoded data removed]"
          },
          "metadata": {
            "needs_background": "light"
          }
        },
        {
          "output_type": "display_data",
          "data": {
            "text/plain": [
              "<Figure size 432x288 with 1 Axes>"
            ],
            "image/png": "[encoded data removed]"
          },
          "metadata": {
            "needs_background": "light"
          }
        },
        {
          "output_type": "stream",
          "name": "stdout",
          "text": [
            "Epoch 1/3\n",
            "49/49 [==============================] - 1s 13ms/step - loss: 0.5719 - accuracy: 0.7549\n",
            "Epoch 2/3\n",
            "49/49 [==============================] - 1s 17ms/step - loss: 0.3825 - accuracy: 0.8854\n",
            "Epoch 3/3\n",
            "49/49 [==============================] - 1s 17ms/step - loss: 0.2868 - accuracy: 0.9055\n",
            "782/782 [==============================] - 1s 2ms/step - loss: 0.3065 - accuracy: 0.8854\n"
          ]
        },
        {
          "output_type": "execute_result",
          "data": {
            "text/plain": [
              "[0.30653685331344604, 0.8853999972343445]"
            ]
          },
          "metadata": {},
          "execution_count": 22
        }
      ]
    },
    {
      "cell_type": "markdown",
      "source": [
        "Part 3 of the assignment - testing the mse loss function instead of the binary crossentropy"
      ],
      "metadata": {
        "id": "efNmBvFocBOE"
      }
    },
    {
      "cell_type": "code",
      "source": [
        "from keras import models\n",
        "from tensorflow.keras import layers\n",
        "\n",
        "model = models.Sequential()\n",
        "model.add(layers.Dense(16, activation='relu', input_shape=(10000,)))\n",
        "model.add(layers.Dense(16, activation='relu'))\n",
        "model.add(layers.Dense(1, activation='sigmoid'))\n",
        "\n",
        "model.compile(optimizer='rmsprop',\n",
        "              loss='MSE',\n",
        "              metrics=['accuracy'])\n",
        "\n",
        "from keras import optimizers\n",
        "from keras import losses\n",
        "from keras import metrics\n",
        "\n",
        "from tensorflow import keras\n",
        "from keras import optimizers\n",
        "from tensorflow.keras import optimizers\n",
        "from tensorflow.keras import optimizers\n",
        "\n",
        "model.compile(optimizer=optimizers.RMSprop(learning_rate=0.001),\n",
        "              loss = losses.MSE,\n",
        "              metrics = [metrics.binary_accuracy])\n",
        "\n",
        "x_val = x_train[:10000]\n",
        "partial_x_train = x_train[10000:]\n",
        "\n",
        "y_val = y_train[:10000]\n",
        "partial_y_train = y_train[10000:]\n",
        "\n",
        "history = model.fit(partial_x_train,\n",
        "                    partial_y_train,\n",
        "                    epochs=20,\n",
        "                    batch_size=512,\n",
        "                    validation_data=(x_val, y_val))\n",
        "\n",
        "history_dict = history.history\n",
        "history_dict.keys()\n",
        "\n",
        "# Plotting the training and validation loss\n",
        "\n",
        "import matplotlib.pyplot as plt\n",
        "\n",
        "Loss_Values = history_dict['loss']\n",
        "Val_Loss_Values = history_dict['val_loss']\n",
        "\n",
        "epochs = range(1, len(Loss_Values) + 1)\n",
        "\n",
        "plt.plot(epochs, Loss_Values, 'bo', label=\"Training Loss\")\n",
        "plt.plot(epochs, Val_Loss_Values, 'b', label=\"Validation Loss\")\n",
        "\n",
        "plt.title('Training and Validation Loss')\n",
        "plt.xlabel('Epochs')\n",
        "plt.ylabel('Loss Value')\n",
        "plt.legend()\n",
        "\n",
        "plt.show()\n",
        "\n",
        "\n",
        "# Plotting the training and validation accuracy\n",
        "# Training and Validation Accuracy\n",
        "\n",
        "Acc_Values = history_dict['binary_accuracy']\n",
        "Val_Acc_Values = history_dict['val_binary_accuracy']\n",
        "\n",
        "epochs = range(1, len(Loss_Values) + 1)\n",
        "\n",
        "plt.plot(epochs, Acc_Values, 'go', label=\"Training Accuracy\")\n",
        "plt.plot(epochs, Val_Acc_Values, 'g', label=\"Validation Accuracy\")\n",
        "\n",
        "plt.title('Training and Validation Accuraccy')\n",
        "plt.xlabel('Epochs')\n",
        "plt.ylabel('Accuracy')\n",
        "plt.legend()\n",
        "\n",
        "plt.show()\n",
        "\n",
        "\n",
        "model = models.Sequential()\n",
        "model.add(layers.Dense(16, activation='relu', input_shape=(10000,)))\n",
        "model.add(layers.Dense(16, activation='relu'))\n",
        "model.add(layers.Dense(1, activation='sigmoid'))\n",
        "\n",
        "model.compile(optimizer='rmsprop',\n",
        "              loss='MSE',\n",
        "              metrics=['accuracy'])\n",
        "\n",
        "model.fit(x_train, y_train, epochs=3, batch_size=512)\n",
        "results = model.evaluate(x_test, y_test)\n",
        "\n",
        "results"
      ],
      "metadata": {
        "colab": {
          "base_uri": "https://localhost:8080/",
          "height": 1000
        },
        "id": "CCwWkRbDcMOe",
        "outputId": "a3dd28cb-81c9-4fb4-e81f-e9b526807a0c"
      },
      "execution_count": 23,
      "outputs": [
        {
          "output_type": "stream",
          "name": "stdout",
          "text": [
            "Epoch 1/20\n",
            "30/30 [==============================] - 2s 44ms/step - loss: 0.1820 - binary_accuracy: 0.7565 - val_loss: 0.1518 - val_binary_accuracy: 0.8041\n",
            "Epoch 2/20\n",
            "30/30 [==============================] - 1s 23ms/step - loss: 0.1062 - binary_accuracy: 0.8869 - val_loss: 0.1017 - val_binary_accuracy: 0.8811\n",
            "Epoch 3/20\n",
            "30/30 [==============================] - 1s 27ms/step - loss: 0.0788 - binary_accuracy: 0.9143 - val_loss: 0.1104 - val_binary_accuracy: 0.8508\n",
            "Epoch 4/20\n",
            "30/30 [==============================] - 1s 21ms/step - loss: 0.0646 - binary_accuracy: 0.9287 - val_loss: 0.0904 - val_binary_accuracy: 0.8813\n",
            "Epoch 5/20\n",
            "30/30 [==============================] - 1s 19ms/step - loss: 0.0553 - binary_accuracy: 0.9382 - val_loss: 0.0867 - val_binary_accuracy: 0.8833\n",
            "Epoch 6/20\n",
            "30/30 [==============================] - 1s 20ms/step - loss: 0.0459 - binary_accuracy: 0.9535 - val_loss: 0.0872 - val_binary_accuracy: 0.8824\n",
            "Epoch 7/20\n",
            "30/30 [==============================] - 1s 19ms/step - loss: 0.0422 - binary_accuracy: 0.9553 - val_loss: 0.0840 - val_binary_accuracy: 0.8832\n",
            "Epoch 8/20\n",
            "30/30 [==============================] - 1s 20ms/step - loss: 0.0361 - binary_accuracy: 0.9648 - val_loss: 0.0853 - val_binary_accuracy: 0.8834\n",
            "Epoch 9/20\n",
            "30/30 [==============================] - 1s 19ms/step - loss: 0.0316 - binary_accuracy: 0.9707 - val_loss: 0.0902 - val_binary_accuracy: 0.8792\n",
            "Epoch 10/20\n",
            "30/30 [==============================] - 1s 19ms/step - loss: 0.0282 - binary_accuracy: 0.9741 - val_loss: 0.0912 - val_binary_accuracy: 0.8744\n",
            "Epoch 11/20\n",
            "30/30 [==============================] - 1s 19ms/step - loss: 0.0252 - binary_accuracy: 0.9779 - val_loss: 0.0934 - val_binary_accuracy: 0.8762\n",
            "Epoch 12/20\n",
            "30/30 [==============================] - 1s 18ms/step - loss: 0.0227 - binary_accuracy: 0.9800 - val_loss: 0.0900 - val_binary_accuracy: 0.8790\n",
            "Epoch 13/20\n",
            "30/30 [==============================] - 1s 19ms/step - loss: 0.0199 - binary_accuracy: 0.9835 - val_loss: 0.0904 - val_binary_accuracy: 0.8775\n",
            "Epoch 14/20\n",
            "30/30 [==============================] - 1s 19ms/step - loss: 0.0178 - binary_accuracy: 0.9861 - val_loss: 0.0917 - val_binary_accuracy: 0.8777\n",
            "Epoch 15/20\n",
            "30/30 [==============================] - 1s 28ms/step - loss: 0.0166 - binary_accuracy: 0.9866 - val_loss: 0.0933 - val_binary_accuracy: 0.8789\n",
            "Epoch 16/20\n",
            "30/30 [==============================] - 1s 23ms/step - loss: 0.0147 - binary_accuracy: 0.9890 - val_loss: 0.0933 - val_binary_accuracy: 0.8762\n",
            "Epoch 17/20\n",
            "30/30 [==============================] - 1s 29ms/step - loss: 0.0137 - binary_accuracy: 0.9887 - val_loss: 0.0945 - val_binary_accuracy: 0.8757\n",
            "Epoch 18/20\n",
            "30/30 [==============================] - 1s 20ms/step - loss: 0.0133 - binary_accuracy: 0.9883 - val_loss: 0.0946 - val_binary_accuracy: 0.8773\n",
            "Epoch 19/20\n",
            "30/30 [==============================] - 1s 18ms/step - loss: 0.0118 - binary_accuracy: 0.9907 - val_loss: 0.0956 - val_binary_accuracy: 0.8769\n",
            "Epoch 20/20\n",
            "30/30 [==============================] - 1s 24ms/step - loss: 0.0104 - binary_accuracy: 0.9917 - val_loss: 0.0967 - val_binary_accuracy: 0.8757\n"
          ]
        },
        {
          "output_type": "display_data",
          "data": {
            "text/plain": [
              "<Figure size 432x288 with 1 Axes>"
            ],
            "image/png": "[encoded data removed]"
          },
          "metadata": {
            "needs_background": "light"
          }
        },
        {
          "output_type": "display_data",
          "data": {
            "text/plain": [
              "<Figure size 432x288 with 1 Axes>"
            ],
            "image/png": "[encoded data removed]"
          },
          "metadata": {
            "needs_background": "light"
          }
        },
        {
          "output_type": "stream",
          "name": "stdout",
          "text": [
            "Epoch 1/3\n",
            "49/49 [==============================] - 1s 16ms/step - loss: 0.1655 - accuracy: 0.8010\n",
            "Epoch 2/3\n",
            "49/49 [==============================] - 1s 15ms/step - loss: 0.0912 - accuracy: 0.8949\n",
            "Epoch 3/3\n",
            "49/49 [==============================] - 1s 14ms/step - loss: 0.0704 - accuracy: 0.9165\n",
            "782/782 [==============================] - 1s 2ms/step - loss: 0.0863 - accuracy: 0.8880\n"
          ]
        },
        {
          "output_type": "execute_result",
          "data": {
            "text/plain": [
              "[0.08632288128137589, 0.8880000114440918]"
            ]
          },
          "metadata": {},
          "execution_count": 23
        }
      ]
    },
    {
      "cell_type": "markdown",
      "source": [
        "Testing the MSE with 32 neurons instead of 16"
      ],
      "metadata": {
        "id": "oy2T-qe79uw4"
      }
    },
    {
      "cell_type": "code",
      "source": [
        "from keras import models\n",
        "from tensorflow.keras import layers\n",
        "\n",
        "model = models.Sequential()\n",
        "model.add(layers.Dense(32, activation='relu', input_shape=(10000,)))\n",
        "model.add(layers.Dense(32, activation='relu'))\n",
        "model.add(layers.Dense(1, activation='sigmoid'))\n",
        "\n",
        "model.compile(optimizer='rmsprop',\n",
        "              loss='MSE',\n",
        "              metrics=['accuracy'])\n",
        "\n",
        "from keras import optimizers\n",
        "from keras import losses\n",
        "from keras import metrics\n",
        "\n",
        "from tensorflow import keras\n",
        "from keras import optimizers\n",
        "from tensorflow.keras import optimizers\n",
        "from tensorflow.keras import optimizers\n",
        "\n",
        "model.compile(optimizer=optimizers.RMSprop(learning_rate=0.001),\n",
        "              loss = losses.MSE,\n",
        "              metrics = [metrics.binary_accuracy])\n",
        "\n",
        "x_val = x_train[:10000]\n",
        "partial_x_train = x_train[10000:]\n",
        "\n",
        "y_val = y_train[:10000]\n",
        "partial_y_train = y_train[10000:]\n",
        "\n",
        "history = model.fit(partial_x_train,\n",
        "                    partial_y_train,\n",
        "                    epochs=20,\n",
        "                    batch_size=512,\n",
        "                    validation_data=(x_val, y_val))\n",
        "\n",
        "history_dict = history.history\n",
        "history_dict.keys()\n",
        "\n",
        "# Plotting the training and validation loss\n",
        "\n",
        "import matplotlib.pyplot as plt\n",
        "\n",
        "Loss_Values = history_dict['loss']\n",
        "Val_Loss_Values = history_dict['val_loss']\n",
        "\n",
        "epochs = range(1, len(Loss_Values) + 1)\n",
        "\n",
        "plt.plot(epochs, Loss_Values, 'bo', label=\"Training Loss\")\n",
        "plt.plot(epochs, Val_Loss_Values, 'b', label=\"Validation Loss\")\n",
        "\n",
        "plt.title('Training and Validation Loss')\n",
        "plt.xlabel('Epochs')\n",
        "plt.ylabel('Loss Value')\n",
        "plt.legend()\n",
        "\n",
        "plt.show()\n",
        "\n",
        "\n",
        "# Plotting the training and validation accuracy\n",
        "# Training and Validation Accuracy\n",
        "\n",
        "Acc_Values = history_dict['binary_accuracy']\n",
        "Val_Acc_Values = history_dict['val_binary_accuracy']\n",
        "\n",
        "epochs = range(1, len(Loss_Values) + 1)\n",
        "\n",
        "plt.plot(epochs, Acc_Values, 'go', label=\"Training Accuracy\")\n",
        "plt.plot(epochs, Val_Acc_Values, 'g', label=\"Validation Accuracy\")\n",
        "\n",
        "plt.title('Training and Validation Accuraccy')\n",
        "plt.xlabel('Epochs')\n",
        "plt.ylabel('Accuracy')\n",
        "plt.legend()\n",
        "\n",
        "plt.show()\n",
        "\n",
        "\n",
        "model = models.Sequential()\n",
        "model.add(layers.Dense(32, activation='relu', input_shape=(10000,)))\n",
        "model.add(layers.Dense(32, activation='relu'))\n",
        "model.add(layers.Dense(1, activation='sigmoid'))\n",
        "\n",
        "model.compile(optimizer='rmsprop',\n",
        "              loss='MSE',\n",
        "              metrics=['accuracy'])\n",
        "\n",
        "model.fit(x_train, y_train, epochs=3, batch_size=512)\n",
        "results = model.evaluate(x_test, y_test)\n",
        "\n",
        "results"
      ],
      "metadata": {
        "colab": {
          "base_uri": "https://localhost:8080/",
          "height": 1000
        },
        "id": "LWseBVRW9tuG",
        "outputId": "32b9998c-1746-489b-ffac-b101b7570296"
      },
      "execution_count": 24,
      "outputs": [
        {
          "output_type": "stream",
          "name": "stdout",
          "text": [
            "Epoch 1/20\n",
            "30/30 [==============================] - 3s 48ms/step - loss: 0.1766 - binary_accuracy: 0.7621 - val_loss: 0.1325 - val_binary_accuracy: 0.8335\n",
            "Epoch 2/20\n",
            "30/30 [==============================] - 1s 23ms/step - loss: 0.0990 - binary_accuracy: 0.8848 - val_loss: 0.1063 - val_binary_accuracy: 0.8628\n",
            "Epoch 3/20\n",
            "30/30 [==============================] - 1s 24ms/step - loss: 0.0756 - binary_accuracy: 0.9103 - val_loss: 0.0861 - val_binary_accuracy: 0.8898\n",
            "Epoch 4/20\n",
            "30/30 [==============================] - 1s 24ms/step - loss: 0.0620 - binary_accuracy: 0.9256 - val_loss: 0.0839 - val_binary_accuracy: 0.8880\n",
            "Epoch 5/20\n",
            "30/30 [==============================] - 1s 23ms/step - loss: 0.0536 - binary_accuracy: 0.9379 - val_loss: 0.0906 - val_binary_accuracy: 0.8772\n",
            "Epoch 6/20\n",
            "30/30 [==============================] - 1s 23ms/step - loss: 0.0465 - binary_accuracy: 0.9467 - val_loss: 0.0852 - val_binary_accuracy: 0.8845\n",
            "Epoch 7/20\n",
            "30/30 [==============================] - 1s 23ms/step - loss: 0.0417 - binary_accuracy: 0.9529 - val_loss: 0.0862 - val_binary_accuracy: 0.8840\n",
            "Epoch 8/20\n",
            "30/30 [==============================] - 1s 23ms/step - loss: 0.0370 - binary_accuracy: 0.9587 - val_loss: 0.0876 - val_binary_accuracy: 0.8818\n",
            "Epoch 9/20\n",
            "30/30 [==============================] - 1s 25ms/step - loss: 0.0316 - binary_accuracy: 0.9666 - val_loss: 0.0869 - val_binary_accuracy: 0.8810\n",
            "Epoch 10/20\n",
            "30/30 [==============================] - 1s 24ms/step - loss: 0.0270 - binary_accuracy: 0.9736 - val_loss: 0.0885 - val_binary_accuracy: 0.8783\n",
            "Epoch 11/20\n",
            "30/30 [==============================] - 1s 25ms/step - loss: 0.0271 - binary_accuracy: 0.9712 - val_loss: 0.0905 - val_binary_accuracy: 0.8781\n",
            "Epoch 12/20\n",
            "30/30 [==============================] - 1s 29ms/step - loss: 0.0217 - binary_accuracy: 0.9788 - val_loss: 0.0913 - val_binary_accuracy: 0.8777\n",
            "Epoch 13/20\n",
            "30/30 [==============================] - 1s 28ms/step - loss: 0.0212 - binary_accuracy: 0.9794 - val_loss: 0.1045 - val_binary_accuracy: 0.8645\n",
            "Epoch 14/20\n",
            "30/30 [==============================] - 1s 27ms/step - loss: 0.0177 - binary_accuracy: 0.9837 - val_loss: 0.0946 - val_binary_accuracy: 0.8756\n",
            "Epoch 15/20\n",
            "30/30 [==============================] - 1s 24ms/step - loss: 0.0156 - binary_accuracy: 0.9853 - val_loss: 0.0980 - val_binary_accuracy: 0.8715\n",
            "Epoch 16/20\n",
            "30/30 [==============================] - 1s 24ms/step - loss: 0.0153 - binary_accuracy: 0.9851 - val_loss: 0.0970 - val_binary_accuracy: 0.8748\n",
            "Epoch 17/20\n",
            "30/30 [==============================] - 1s 22ms/step - loss: 0.0139 - binary_accuracy: 0.9865 - val_loss: 0.0981 - val_binary_accuracy: 0.8725\n",
            "Epoch 18/20\n",
            "30/30 [==============================] - 1s 24ms/step - loss: 0.0131 - binary_accuracy: 0.9870 - val_loss: 0.0986 - val_binary_accuracy: 0.8746\n",
            "Epoch 19/20\n",
            "30/30 [==============================] - 1s 23ms/step - loss: 0.0115 - binary_accuracy: 0.9892 - val_loss: 0.0992 - val_binary_accuracy: 0.8740\n",
            "Epoch 20/20\n",
            "30/30 [==============================] - 1s 23ms/step - loss: 0.0105 - binary_accuracy: 0.9894 - val_loss: 0.0998 - val_binary_accuracy: 0.8738\n"
          ]
        },
        {
          "output_type": "display_data",
          "data": {
            "text/plain": [
              "<Figure size 432x288 with 1 Axes>"
            ],
            "image/png": "[encoded data removed]"
          },
          "metadata": {
            "needs_background": "light"
          }
        },
        {
          "output_type": "display_data",
          "data": {
            "text/plain": [
              "<Figure size 432x288 with 1 Axes>"
            ],
            "image/png": "[encoded data removed]"
          },
          "metadata": {
            "needs_background": "light"
          }
        },
        {
          "output_type": "stream",
          "name": "stdout",
          "text": [
            "Epoch 1/3\n",
            "49/49 [==============================] - 1s 17ms/step - loss: 0.1621 - accuracy: 0.7814\n",
            "Epoch 2/3\n",
            "49/49 [==============================] - 1s 18ms/step - loss: 0.0876 - accuracy: 0.8921\n",
            "Epoch 3/3\n",
            "49/49 [==============================] - 1s 17ms/step - loss: 0.0696 - accuracy: 0.9126\n",
            "782/782 [==============================] - 2s 2ms/step - loss: 0.0880 - accuracy: 0.8828\n"
          ]
        },
        {
          "output_type": "execute_result",
          "data": {
            "text/plain": [
              "[0.0880466029047966, 0.8828399777412415]"
            ]
          },
          "metadata": {},
          "execution_count": 24
        }
      ]
    },
    {
      "cell_type": "markdown",
      "source": [
        "Now trying with 64 neurons, 2 hidden layers, with MSE activation function"
      ],
      "metadata": {
        "id": "yQf5T-Db-GBo"
      }
    },
    {
      "cell_type": "code",
      "source": [
        "from keras import models\n",
        "from tensorflow.keras import layers\n",
        "\n",
        "model = models.Sequential()\n",
        "model.add(layers.Dense(64, activation='relu', input_shape=(10000,)))\n",
        "model.add(layers.Dense(64, activation='relu'))\n",
        "model.add(layers.Dense(1, activation='sigmoid'))\n",
        "\n",
        "model.compile(optimizer='rmsprop',\n",
        "              loss='MSE',\n",
        "              metrics=['accuracy'])\n",
        "\n",
        "from keras import optimizers\n",
        "from keras import losses\n",
        "from keras import metrics\n",
        "\n",
        "from tensorflow import keras\n",
        "from keras import optimizers\n",
        "from tensorflow.keras import optimizers\n",
        "from tensorflow.keras import optimizers\n",
        "\n",
        "model.compile(optimizer=optimizers.RMSprop(learning_rate=0.001),\n",
        "              loss = losses.MSE,\n",
        "              metrics = [metrics.binary_accuracy])\n",
        "\n",
        "x_val = x_train[:10000]\n",
        "partial_x_train = x_train[10000:]\n",
        "\n",
        "y_val = y_train[:10000]\n",
        "partial_y_train = y_train[10000:]\n",
        "\n",
        "history = model.fit(partial_x_train,\n",
        "                    partial_y_train,\n",
        "                    epochs=20,\n",
        "                    batch_size=512,\n",
        "                    validation_data=(x_val, y_val))\n",
        "\n",
        "history_dict = history.history\n",
        "history_dict.keys()\n",
        "\n",
        "# Plotting the training and validation loss\n",
        "\n",
        "import matplotlib.pyplot as plt\n",
        "\n",
        "Loss_Values = history_dict['loss']\n",
        "Val_Loss_Values = history_dict['val_loss']\n",
        "\n",
        "epochs = range(1, len(Loss_Values) + 1)\n",
        "\n",
        "plt.plot(epochs, Loss_Values, 'bo', label=\"Training Loss\")\n",
        "plt.plot(epochs, Val_Loss_Values, 'b', label=\"Validation Loss\")\n",
        "\n",
        "plt.title('Training and Validation Loss')\n",
        "plt.xlabel('Epochs')\n",
        "plt.ylabel('Loss Value')\n",
        "plt.legend()\n",
        "\n",
        "plt.show()\n",
        "\n",
        "\n",
        "# Plotting the training and validation accuracy\n",
        "# Training and Validation Accuracy\n",
        "\n",
        "Acc_Values = history_dict['binary_accuracy']\n",
        "Val_Acc_Values = history_dict['val_binary_accuracy']\n",
        "\n",
        "epochs = range(1, len(Loss_Values) + 1)\n",
        "\n",
        "plt.plot(epochs, Acc_Values, 'go', label=\"Training Accuracy\")\n",
        "plt.plot(epochs, Val_Acc_Values, 'g', label=\"Validation Accuracy\")\n",
        "\n",
        "plt.title('Training and Validation Accuraccy')\n",
        "plt.xlabel('Epochs')\n",
        "plt.ylabel('Accuracy')\n",
        "plt.legend()\n",
        "\n",
        "plt.show()\n",
        "\n",
        "\n",
        "model = models.Sequential()\n",
        "model.add(layers.Dense(64, activation='relu', input_shape=(10000,)))\n",
        "model.add(layers.Dense(64, activation='relu'))\n",
        "model.add(layers.Dense(1, activation='sigmoid'))\n",
        "\n",
        "model.compile(optimizer='rmsprop',\n",
        "              loss='MSE',\n",
        "              metrics=['accuracy'])\n",
        "\n",
        "model.fit(x_train, y_train, epochs=3, batch_size=512)\n",
        "results = model.evaluate(x_test, y_test)\n",
        "\n",
        "results"
      ],
      "metadata": {
        "colab": {
          "base_uri": "https://localhost:8080/",
          "height": 1000
        },
        "id": "S_6ojvvn-K4a",
        "outputId": "923bc28b-e48b-46e3-b8f5-74b976afffd7"
      },
      "execution_count": 25,
      "outputs": [
        {
          "output_type": "stream",
          "name": "stdout",
          "text": [
            "Epoch 1/20\n",
            "30/30 [==============================] - 2s 63ms/step - loss: 0.1777 - binary_accuracy: 0.7477 - val_loss: 0.1161 - val_binary_accuracy: 0.8649\n",
            "Epoch 2/20\n",
            "30/30 [==============================] - 1s 42ms/step - loss: 0.0981 - binary_accuracy: 0.8813 - val_loss: 0.0949 - val_binary_accuracy: 0.8782\n",
            "Epoch 3/20\n",
            "30/30 [==============================] - 1s 34ms/step - loss: 0.0755 - binary_accuracy: 0.9060 - val_loss: 0.0851 - val_binary_accuracy: 0.8875\n",
            "Epoch 4/20\n",
            "30/30 [==============================] - 2s 52ms/step - loss: 0.0631 - binary_accuracy: 0.9225 - val_loss: 0.0825 - val_binary_accuracy: 0.8869\n",
            "Epoch 5/20\n",
            "30/30 [==============================] - 1s 47ms/step - loss: 0.0555 - binary_accuracy: 0.9289 - val_loss: 0.0832 - val_binary_accuracy: 0.8852\n",
            "Epoch 6/20\n",
            "30/30 [==============================] - 2s 71ms/step - loss: 0.0486 - binary_accuracy: 0.9408 - val_loss: 0.0830 - val_binary_accuracy: 0.8845\n",
            "Epoch 7/20\n",
            "30/30 [==============================] - 2s 58ms/step - loss: 0.0413 - binary_accuracy: 0.9513 - val_loss: 0.0847 - val_binary_accuracy: 0.8817\n",
            "Epoch 8/20\n",
            "30/30 [==============================] - 1s 41ms/step - loss: 0.0366 - binary_accuracy: 0.9585 - val_loss: 0.0951 - val_binary_accuracy: 0.8749\n",
            "Epoch 9/20\n",
            "30/30 [==============================] - 1s 38ms/step - loss: 0.0323 - binary_accuracy: 0.9639 - val_loss: 0.0888 - val_binary_accuracy: 0.8778\n",
            "Epoch 10/20\n",
            "30/30 [==============================] - 1s 33ms/step - loss: 0.0264 - binary_accuracy: 0.9712 - val_loss: 0.1064 - val_binary_accuracy: 0.8599\n",
            "Epoch 11/20\n",
            "30/30 [==============================] - 1s 33ms/step - loss: 0.0294 - binary_accuracy: 0.9655 - val_loss: 0.0899 - val_binary_accuracy: 0.8833\n",
            "Epoch 12/20\n",
            "30/30 [==============================] - 1s 34ms/step - loss: 0.0222 - binary_accuracy: 0.9761 - val_loss: 0.0939 - val_binary_accuracy: 0.8769\n",
            "Epoch 13/20\n",
            "30/30 [==============================] - 1s 33ms/step - loss: 0.0190 - binary_accuracy: 0.9799 - val_loss: 0.0941 - val_binary_accuracy: 0.8767\n",
            "Epoch 14/20\n",
            "30/30 [==============================] - 1s 48ms/step - loss: 0.0177 - binary_accuracy: 0.9816 - val_loss: 0.0950 - val_binary_accuracy: 0.8760\n",
            "Epoch 15/20\n",
            "30/30 [==============================] - 1s 42ms/step - loss: 0.0154 - binary_accuracy: 0.9848 - val_loss: 0.0974 - val_binary_accuracy: 0.8739\n",
            "Epoch 16/20\n",
            "30/30 [==============================] - 1s 41ms/step - loss: 0.0154 - binary_accuracy: 0.9837 - val_loss: 0.0962 - val_binary_accuracy: 0.8779\n",
            "Epoch 17/20\n",
            "30/30 [==============================] - 1s 39ms/step - loss: 0.0145 - binary_accuracy: 0.9845 - val_loss: 0.0978 - val_binary_accuracy: 0.8745\n",
            "Epoch 18/20\n",
            "30/30 [==============================] - 1s 32ms/step - loss: 0.0127 - binary_accuracy: 0.9869 - val_loss: 0.0977 - val_binary_accuracy: 0.8750\n",
            "Epoch 19/20\n",
            "30/30 [==============================] - 1s 33ms/step - loss: 0.0076 - binary_accuracy: 0.9936 - val_loss: 0.1037 - val_binary_accuracy: 0.8719\n",
            "Epoch 20/20\n",
            "30/30 [==============================] - 1s 32ms/step - loss: 0.0122 - binary_accuracy: 0.9868 - val_loss: 0.1003 - val_binary_accuracy: 0.8755\n"
          ]
        },
        {
          "output_type": "display_data",
          "data": {
            "text/plain": [
              "<Figure size 432x288 with 1 Axes>"
            ],
            "image/png": "[encoded data removed]"
          },
          "metadata": {
            "needs_background": "light"
          }
        },
        {
          "output_type": "display_data",
          "data": {
            "text/plain": [
              "<Figure size 432x288 with 1 Axes>"
            ],
            "image/png": "[encoded data removed]"
          },
          "metadata": {
            "needs_background": "light"
          }
        },
        {
          "output_type": "stream",
          "name": "stdout",
          "text": [
            "Epoch 1/3\n",
            "49/49 [==============================] - 2s 25ms/step - loss: 0.1507 - accuracy: 0.7923\n",
            "Epoch 2/3\n",
            "49/49 [==============================] - 1s 25ms/step - loss: 0.0860 - accuracy: 0.8899\n",
            "Epoch 3/3\n",
            "49/49 [==============================] - 1s 24ms/step - loss: 0.0692 - accuracy: 0.9104\n",
            "782/782 [==============================] - 2s 3ms/step - loss: 0.0831 - accuracy: 0.8876\n"
          ]
        },
        {
          "output_type": "execute_result",
          "data": {
            "text/plain": [
              "[0.08312423527240753, 0.8876399993896484]"
            ]
          },
          "metadata": {},
          "execution_count": 25
        }
      ]
    },
    {
      "cell_type": "markdown",
      "source": [
        "Part 4 of the assignment - using the tanh activation instead of relu "
      ],
      "metadata": {
        "id": "YbK708nBeicS"
      }
    },
    {
      "cell_type": "code",
      "source": [
        "from keras import models\n",
        "from tensorflow.keras import layers\n",
        "\n",
        "model = models.Sequential()\n",
        "model.add(layers.Dense(16, activation='tanh', input_shape=(10000,)))\n",
        "model.add(layers.Dense(16, activation='tanh'))\n",
        "model.add(layers.Dense(1, activation='sigmoid'))\n",
        "\n",
        "model.compile(optimizer='rmsprop',\n",
        "              loss='binary_crossentropy',\n",
        "              metrics=['accuracy'])\n",
        "\n",
        "from keras import optimizers\n",
        "from keras import losses\n",
        "from keras import metrics\n",
        "\n",
        "from tensorflow import keras\n",
        "from keras import optimizers\n",
        "from tensorflow.keras import optimizers\n",
        "from tensorflow.keras import optimizers\n",
        "\n",
        "model.compile(optimizer=optimizers.RMSprop(learning_rate=0.001),\n",
        "              loss = losses.binary_crossentropy,\n",
        "              metrics = [metrics.binary_accuracy])\n",
        "\n",
        "x_val = x_train[:10000]\n",
        "partial_x_train = x_train[10000:]\n",
        "\n",
        "y_val = y_train[:10000]\n",
        "partial_y_train = y_train[10000:]\n",
        "\n",
        "history = model.fit(partial_x_train,\n",
        "                    partial_y_train,\n",
        "                    epochs=20,\n",
        "                    batch_size=512,\n",
        "                    validation_data=(x_val, y_val))\n",
        "\n",
        "history_dict = history.history\n",
        "history_dict.keys()\n",
        "\n",
        "# Plotting the training and validation loss\n",
        "\n",
        "import matplotlib.pyplot as plt\n",
        "\n",
        "Loss_Values = history_dict['loss']\n",
        "Val_Loss_Values = history_dict['val_loss']\n",
        "\n",
        "epochs = range(1, len(Loss_Values) + 1)\n",
        "\n",
        "plt.plot(epochs, Loss_Values, 'bo', label=\"Training Loss\")\n",
        "plt.plot(epochs, Val_Loss_Values, 'b', label=\"Validation Loss\")\n",
        "\n",
        "plt.title('Training and Validation Loss')\n",
        "plt.xlabel('Epochs')\n",
        "plt.ylabel('Loss Value')\n",
        "plt.legend()\n",
        "\n",
        "plt.show()\n",
        "\n",
        "\n",
        "# Plotting the training and validation accuracy\n",
        "# Training and Validation Accuracy\n",
        "\n",
        "Acc_Values = history_dict['binary_accuracy']\n",
        "Val_Acc_Values = history_dict['val_binary_accuracy']\n",
        "\n",
        "epochs = range(1, len(Loss_Values) + 1)\n",
        "\n",
        "plt.plot(epochs, Acc_Values, 'go', label=\"Training Accuracy\")\n",
        "plt.plot(epochs, Val_Acc_Values, 'g', label=\"Validation Accuracy\")\n",
        "\n",
        "plt.title('Training and Validation Accuraccy')\n",
        "plt.xlabel('Epochs')\n",
        "plt.ylabel('Accuracy')\n",
        "plt.legend()\n",
        "\n",
        "plt.show()\n",
        "\n",
        "\n",
        "model = models.Sequential()\n",
        "model.add(layers.Dense(16, activation='tanh', input_shape=(10000,)))\n",
        "model.add(layers.Dense(16, activation='tanh'))\n",
        "model.add(layers.Dense(1, activation='sigmoid'))\n",
        "\n",
        "model.compile(optimizer='rmsprop',\n",
        "              loss='binary_crossentropy',\n",
        "              metrics=['accuracy'])\n",
        "\n",
        "model.fit(x_train, y_train, epochs=3, batch_size=512)\n",
        "results = model.evaluate(x_test, y_test)\n",
        "\n",
        "results"
      ],
      "metadata": {
        "colab": {
          "base_uri": "https://localhost:8080/",
          "height": 1000
        },
        "id": "JWY3xYjgeol5",
        "outputId": "4887f3f7-92e9-4830-8830-37b3151ae262"
      },
      "execution_count": 26,
      "outputs": [
        {
          "output_type": "stream",
          "name": "stdout",
          "text": [
            "Epoch 1/20\n",
            "30/30 [==============================] - 2s 39ms/step - loss: 0.4741 - binary_accuracy: 0.7907 - val_loss: 0.3465 - val_binary_accuracy: 0.8731\n",
            "Epoch 2/20\n",
            "30/30 [==============================] - 1s 19ms/step - loss: 0.2750 - binary_accuracy: 0.9003 - val_loss: 0.2854 - val_binary_accuracy: 0.8850\n",
            "Epoch 3/20\n",
            "30/30 [==============================] - 1s 19ms/step - loss: 0.2027 - binary_accuracy: 0.9275 - val_loss: 0.2829 - val_binary_accuracy: 0.8843\n",
            "Epoch 4/20\n",
            "30/30 [==============================] - 1s 20ms/step - loss: 0.1604 - binary_accuracy: 0.9417 - val_loss: 0.2887 - val_binary_accuracy: 0.8827\n",
            "Epoch 5/20\n",
            "30/30 [==============================] - 1s 20ms/step - loss: 0.1314 - binary_accuracy: 0.9535 - val_loss: 0.3027 - val_binary_accuracy: 0.8813\n",
            "Epoch 6/20\n",
            "30/30 [==============================] - 1s 20ms/step - loss: 0.1018 - binary_accuracy: 0.9651 - val_loss: 0.3429 - val_binary_accuracy: 0.8725\n",
            "Epoch 7/20\n",
            "30/30 [==============================] - 1s 20ms/step - loss: 0.0876 - binary_accuracy: 0.9717 - val_loss: 0.3702 - val_binary_accuracy: 0.8772\n",
            "Epoch 8/20\n",
            "30/30 [==============================] - 1s 20ms/step - loss: 0.0707 - binary_accuracy: 0.9783 - val_loss: 0.3898 - val_binary_accuracy: 0.8765\n",
            "Epoch 9/20\n",
            "30/30 [==============================] - 1s 20ms/step - loss: 0.0532 - binary_accuracy: 0.9846 - val_loss: 0.4260 - val_binary_accuracy: 0.8741\n",
            "Epoch 10/20\n",
            "30/30 [==============================] - 1s 21ms/step - loss: 0.0491 - binary_accuracy: 0.9849 - val_loss: 0.4558 - val_binary_accuracy: 0.8725\n",
            "Epoch 11/20\n",
            "30/30 [==============================] - 1s 23ms/step - loss: 0.0409 - binary_accuracy: 0.9887 - val_loss: 0.4909 - val_binary_accuracy: 0.8674\n",
            "Epoch 12/20\n",
            "30/30 [==============================] - 1s 29ms/step - loss: 0.0377 - binary_accuracy: 0.9883 - val_loss: 0.5208 - val_binary_accuracy: 0.8691\n",
            "Epoch 13/20\n",
            "30/30 [==============================] - 1s 22ms/step - loss: 0.0283 - binary_accuracy: 0.9927 - val_loss: 0.5495 - val_binary_accuracy: 0.8684\n",
            "Epoch 14/20\n",
            "30/30 [==============================] - 1s 19ms/step - loss: 0.0112 - binary_accuracy: 0.9987 - val_loss: 0.6594 - val_binary_accuracy: 0.8523\n",
            "Epoch 15/20\n",
            "30/30 [==============================] - 1s 19ms/step - loss: 0.0317 - binary_accuracy: 0.9916 - val_loss: 0.6129 - val_binary_accuracy: 0.8674\n",
            "Epoch 16/20\n",
            "30/30 [==============================] - 1s 19ms/step - loss: 0.0212 - binary_accuracy: 0.9939 - val_loss: 0.6322 - val_binary_accuracy: 0.8669\n",
            "Epoch 17/20\n",
            "30/30 [==============================] - 1s 20ms/step - loss: 0.0226 - binary_accuracy: 0.9925 - val_loss: 0.6432 - val_binary_accuracy: 0.8678\n",
            "Epoch 18/20\n",
            "30/30 [==============================] - 1s 20ms/step - loss: 0.0043 - binary_accuracy: 0.9998 - val_loss: 0.6732 - val_binary_accuracy: 0.8661\n",
            "Epoch 19/20\n",
            "30/30 [==============================] - 1s 19ms/step - loss: 0.0303 - binary_accuracy: 0.9920 - val_loss: 0.6920 - val_binary_accuracy: 0.8664\n",
            "Epoch 20/20\n",
            "30/30 [==============================] - 1s 19ms/step - loss: 0.0025 - binary_accuracy: 0.9999 - val_loss: 0.7083 - val_binary_accuracy: 0.8651\n"
          ]
        },
        {
          "output_type": "display_data",
          "data": {
            "text/plain": [
              "<Figure size 432x288 with 1 Axes>"
            ],
            "image/png": "[encoded data removed]"
          },
          "metadata": {
            "needs_background": "light"
          }
        },
        {
          "output_type": "display_data",
          "data": {
            "text/plain": [
              "<Figure size 432x288 with 1 Axes>"
            ],
            "image/png": "[encoded data removed]"
          },
          "metadata": {
            "needs_background": "light"
          }
        },
        {
          "output_type": "stream",
          "name": "stdout",
          "text": [
            "Epoch 1/3\n",
            "49/49 [==============================] - 1s 15ms/step - loss: 0.4317 - accuracy: 0.8179\n",
            "Epoch 2/3\n",
            "49/49 [==============================] - 1s 14ms/step - loss: 0.2474 - accuracy: 0.9076\n",
            "Epoch 3/3\n",
            "49/49 [==============================] - 1s 15ms/step - loss: 0.1919 - accuracy: 0.9273\n",
            "782/782 [==============================] - 2s 2ms/step - loss: 0.2860 - accuracy: 0.8850\n"
          ]
        },
        {
          "output_type": "execute_result",
          "data": {
            "text/plain": [
              "[0.28598710894584656, 0.8849999904632568]"
            ]
          },
          "metadata": {},
          "execution_count": 26
        }
      ]
    },
    {
      "cell_type": "code",
      "source": [
        "from keras import models\n",
        "from tensorflow.keras import layers\n",
        "\n",
        "model = models.Sequential()\n",
        "model.add(layers.Dense(32, activation='tanh', input_shape=(10000,)))\n",
        "model.add(layers.Dense(32, activation='tanh'))\n",
        "model.add(layers.Dense(1, activation='sigmoid'))\n",
        "\n",
        "model.compile(optimizer='rmsprop',\n",
        "              loss='binary_crossentropy',\n",
        "              metrics=['accuracy'])\n",
        "\n",
        "from keras import optimizers\n",
        "from keras import losses\n",
        "from keras import metrics\n",
        "\n",
        "from tensorflow import keras\n",
        "from keras import optimizers\n",
        "from tensorflow.keras import optimizers\n",
        "from tensorflow.keras import optimizers\n",
        "\n",
        "model.compile(optimizer=optimizers.RMSprop(learning_rate=0.001),\n",
        "              loss = losses.binary_crossentropy,\n",
        "              metrics = [metrics.binary_accuracy])\n",
        "\n",
        "x_val = x_train[:10000]\n",
        "partial_x_train = x_train[10000:]\n",
        "\n",
        "y_val = y_train[:10000]\n",
        "partial_y_train = y_train[10000:]\n",
        "\n",
        "history = model.fit(partial_x_train,\n",
        "                    partial_y_train,\n",
        "                    epochs=20,\n",
        "                    batch_size=512,\n",
        "                    validation_data=(x_val, y_val))\n",
        "\n",
        "history_dict = history.history\n",
        "history_dict.keys()\n",
        "\n",
        "# Plotting the training and validation loss\n",
        "\n",
        "import matplotlib.pyplot as plt\n",
        "\n",
        "Loss_Values = history_dict['loss']\n",
        "Val_Loss_Values = history_dict['val_loss']\n",
        "\n",
        "epochs = range(1, len(Loss_Values) + 1)\n",
        "\n",
        "plt.plot(epochs, Loss_Values, 'bo', label=\"Training Loss\")\n",
        "plt.plot(epochs, Val_Loss_Values, 'b', label=\"Validation Loss\")\n",
        "\n",
        "plt.title('Training and Validation Loss')\n",
        "plt.xlabel('Epochs')\n",
        "plt.ylabel('Loss Value')\n",
        "plt.legend()\n",
        "\n",
        "plt.show()\n",
        "\n",
        "\n",
        "# Plotting the training and validation accuracy\n",
        "# Training and Validation Accuracy\n",
        "\n",
        "Acc_Values = history_dict['binary_accuracy']\n",
        "Val_Acc_Values = history_dict['val_binary_accuracy']\n",
        "\n",
        "epochs = range(1, len(Loss_Values) + 1)\n",
        "\n",
        "plt.plot(epochs, Acc_Values, 'go', label=\"Training Accuracy\")\n",
        "plt.plot(epochs, Val_Acc_Values, 'g', label=\"Validation Accuracy\")\n",
        "\n",
        "plt.title('Training and Validation Accuraccy')\n",
        "plt.xlabel('Epochs')\n",
        "plt.ylabel('Accuracy')\n",
        "plt.legend()\n",
        "\n",
        "plt.show()\n",
        "\n",
        "\n",
        "model = models.Sequential()\n",
        "model.add(layers.Dense(32, activation='tanh', input_shape=(10000,)))\n",
        "model.add(layers.Dense(32, activation='tanh'))\n",
        "model.add(layers.Dense(1, activation='sigmoid'))\n",
        "\n",
        "model.compile(optimizer='rmsprop',\n",
        "              loss='binary_crossentropy',\n",
        "              metrics=['accuracy'])\n",
        "\n",
        "model.fit(x_train, y_train, epochs=3, batch_size=512)\n",
        "results = model.evaluate(x_test, y_test)\n",
        "\n",
        "results"
      ],
      "metadata": {
        "colab": {
          "base_uri": "https://localhost:8080/",
          "height": 1000
        },
        "id": "UDOrCqAJWdsC",
        "outputId": "66657701-f17b-4968-9f3b-54efca6ac4c7"
      },
      "execution_count": 27,
      "outputs": [
        {
          "output_type": "stream",
          "name": "stdout",
          "text": [
            "Epoch 1/20\n",
            "30/30 [==============================] - 2s 48ms/step - loss: 0.4867 - binary_accuracy: 0.7824 - val_loss: 0.3402 - val_binary_accuracy: 0.8735\n",
            "Epoch 2/20\n",
            "30/30 [==============================] - 1s 28ms/step - loss: 0.2744 - binary_accuracy: 0.8959 - val_loss: 0.2890 - val_binary_accuracy: 0.8795\n",
            "Epoch 3/20\n",
            "30/30 [==============================] - 1s 33ms/step - loss: 0.2000 - binary_accuracy: 0.9253 - val_loss: 0.2762 - val_binary_accuracy: 0.8889\n",
            "Epoch 4/20\n",
            "30/30 [==============================] - 1s 28ms/step - loss: 0.1566 - binary_accuracy: 0.9413 - val_loss: 0.3877 - val_binary_accuracy: 0.8534\n",
            "Epoch 5/20\n",
            "30/30 [==============================] - 1s 28ms/step - loss: 0.1316 - binary_accuracy: 0.9539 - val_loss: 0.3391 - val_binary_accuracy: 0.8737\n",
            "Epoch 6/20\n",
            "30/30 [==============================] - 1s 23ms/step - loss: 0.1134 - binary_accuracy: 0.9573 - val_loss: 0.3449 - val_binary_accuracy: 0.8817\n",
            "Epoch 7/20\n",
            "30/30 [==============================] - 1s 23ms/step - loss: 0.0892 - binary_accuracy: 0.9689 - val_loss: 0.3757 - val_binary_accuracy: 0.8762\n",
            "Epoch 8/20\n",
            "30/30 [==============================] - 1s 23ms/step - loss: 0.0717 - binary_accuracy: 0.9755 - val_loss: 0.4282 - val_binary_accuracy: 0.8732\n",
            "Epoch 9/20\n",
            "30/30 [==============================] - 1s 23ms/step - loss: 0.0657 - binary_accuracy: 0.9787 - val_loss: 0.4577 - val_binary_accuracy: 0.8724\n",
            "Epoch 10/20\n",
            "30/30 [==============================] - 1s 23ms/step - loss: 0.0517 - binary_accuracy: 0.9833 - val_loss: 0.4908 - val_binary_accuracy: 0.8704\n",
            "Epoch 11/20\n",
            "30/30 [==============================] - 1s 23ms/step - loss: 0.0418 - binary_accuracy: 0.9855 - val_loss: 0.5317 - val_binary_accuracy: 0.8706\n",
            "Epoch 12/20\n",
            "30/30 [==============================] - 1s 23ms/step - loss: 0.0449 - binary_accuracy: 0.9867 - val_loss: 0.5577 - val_binary_accuracy: 0.8683\n",
            "Epoch 13/20\n",
            "30/30 [==============================] - 1s 23ms/step - loss: 0.0372 - binary_accuracy: 0.9883 - val_loss: 0.5788 - val_binary_accuracy: 0.8658\n",
            "Epoch 14/20\n",
            "30/30 [==============================] - 1s 23ms/step - loss: 0.0364 - binary_accuracy: 0.9895 - val_loss: 0.6038 - val_binary_accuracy: 0.8690\n",
            "Epoch 15/20\n",
            "30/30 [==============================] - 1s 23ms/step - loss: 0.0108 - binary_accuracy: 0.9984 - val_loss: 0.9541 - val_binary_accuracy: 0.8274\n",
            "Epoch 16/20\n",
            "30/30 [==============================] - 1s 24ms/step - loss: 0.0233 - binary_accuracy: 0.9936 - val_loss: 0.6697 - val_binary_accuracy: 0.8651\n",
            "Epoch 17/20\n",
            "30/30 [==============================] - 1s 23ms/step - loss: 0.0379 - binary_accuracy: 0.9904 - val_loss: 0.6858 - val_binary_accuracy: 0.8674\n",
            "Epoch 18/20\n",
            "30/30 [==============================] - 1s 23ms/step - loss: 0.0039 - binary_accuracy: 0.9998 - val_loss: 0.7173 - val_binary_accuracy: 0.8666\n",
            "Epoch 19/20\n",
            "30/30 [==============================] - 1s 23ms/step - loss: 0.0409 - binary_accuracy: 0.9903 - val_loss: 0.7289 - val_binary_accuracy: 0.8655\n",
            "Epoch 20/20\n",
            "30/30 [==============================] - 1s 25ms/step - loss: 0.0025 - binary_accuracy: 1.0000 - val_loss: 0.7487 - val_binary_accuracy: 0.8658\n"
          ]
        },
        {
          "output_type": "display_data",
          "data": {
            "text/plain": [
              "<Figure size 432x288 with 1 Axes>"
            ],
            "image/png": "[encoded data removed]"
          },
          "metadata": {
            "needs_background": "light"
          }
        },
        {
          "output_type": "display_data",
          "data": {
            "text/plain": [
              "<Figure size 432x288 with 1 Axes>"
            ],
            "image/png": "[encoded data removed]"
          },
          "metadata": {
            "needs_background": "light"
          }
        },
        {
          "output_type": "stream",
          "name": "stdout",
          "text": [
            "Epoch 1/3\n",
            "49/49 [==============================] - 1s 17ms/step - loss: 0.4240 - accuracy: 0.8176\n",
            "Epoch 2/3\n",
            "49/49 [==============================] - 1s 17ms/step - loss: 0.2386 - accuracy: 0.9064\n",
            "Epoch 3/3\n",
            "49/49 [==============================] - 1s 17ms/step - loss: 0.1973 - accuracy: 0.9241\n",
            "782/782 [==============================] - 2s 2ms/step - loss: 0.3211 - accuracy: 0.8732\n"
          ]
        },
        {
          "output_type": "execute_result",
          "data": {
            "text/plain": [
              "[0.3210514783859253, 0.873199999332428]"
            ]
          },
          "metadata": {},
          "execution_count": 27
        }
      ]
    },
    {
      "cell_type": "markdown",
      "source": [
        "Part 5 - I am going to test the dropout method on the model to see its effects"
      ],
      "metadata": {
        "id": "CfUrB4jllD7s"
      }
    },
    {
      "cell_type": "code",
      "source": [
        "from keras import models\n",
        "from tensorflow.keras import layers\n",
        "\n",
        "model = models.Sequential()\n",
        "model.add(layers.Dense(16, activation='relu', input_shape=(10000,)))\n",
        "layers.Dropout(0.5),\n",
        "model.add(layers.Dense(16, activation='relu'))\n",
        "layers.Dropout(0.5),\n",
        "model.add(layers.Dense(1, activation='sigmoid'))\n",
        "\n",
        "model.compile(optimizer='rmsprop',\n",
        "              loss='binary_crossentropy',\n",
        "              metrics=['accuracy'])\n",
        "\n",
        "from keras import optimizers\n",
        "from keras import losses\n",
        "from keras import metrics\n",
        "\n",
        "from tensorflow import keras\n",
        "from keras import optimizers\n",
        "from tensorflow.keras import optimizers\n",
        "from tensorflow.keras import optimizers\n",
        "\n",
        "model.compile(optimizer=optimizers.RMSprop(learning_rate=0.001),\n",
        "              loss = losses.binary_crossentropy,\n",
        "              metrics = [metrics.binary_accuracy])\n",
        "\n",
        "x_val = x_train[:10000]\n",
        "partial_x_train = x_train[10000:]\n",
        "\n",
        "y_val = y_train[:10000]\n",
        "partial_y_train = y_train[10000:]\n",
        "\n",
        "history = model.fit(partial_x_train,\n",
        "                    partial_y_train,\n",
        "                    epochs=20,\n",
        "                    batch_size=512,\n",
        "                    validation_data=(x_val, y_val))\n",
        "\n",
        "history_dict = history.history\n",
        "history_dict.keys()\n",
        "\n",
        "# Plotting the training and validation loss\n",
        "\n",
        "import matplotlib.pyplot as plt\n",
        "\n",
        "Loss_Values = history_dict['loss']\n",
        "Val_Loss_Values = history_dict['val_loss']\n",
        "\n",
        "epochs = range(1, len(Loss_Values) + 1)\n",
        "\n",
        "plt.plot(epochs, Loss_Values, 'bo', label=\"Training Loss\")\n",
        "plt.plot(epochs, Val_Loss_Values, 'b', label=\"Validation Loss\")\n",
        "\n",
        "plt.title('Training and Validation Loss')\n",
        "plt.xlabel('Epochs')\n",
        "plt.ylabel('Loss Value')\n",
        "plt.legend()\n",
        "\n",
        "plt.show()\n",
        "\n",
        "\n",
        "# Plotting the training and validation accuracy\n",
        "# Training and Validation Accuracy\n",
        "\n",
        "Acc_Values = history_dict['binary_accuracy']\n",
        "Val_Acc_Values = history_dict['val_binary_accuracy']\n",
        "\n",
        "epochs = range(1, len(Loss_Values) + 1)\n",
        "\n",
        "plt.plot(epochs, Acc_Values, 'go', label=\"Training Accuracy\")\n",
        "plt.plot(epochs, Val_Acc_Values, 'g', label=\"Validation Accuracy\")\n",
        "\n",
        "plt.title('Training and Validation Accuraccy')\n",
        "plt.xlabel('Epochs')\n",
        "plt.ylabel('Accuracy')\n",
        "plt.legend()\n",
        "\n",
        "plt.show()\n",
        "\n",
        "\n",
        "model = models.Sequential()\n",
        "model.add(layers.Dense(16, activation='relu', input_shape=(10000,)))\n",
        "layers.Dropout(0.5),\n",
        "model.add(layers.Dense(16, activation='relu'))\n",
        "layers.Dropout(0.5),\n",
        "model.add(layers.Dense(1, activation='sigmoid'))\n",
        "\n",
        "model.compile(optimizer='rmsprop',\n",
        "              loss='binary_crossentropy',\n",
        "              metrics=['accuracy'])\n",
        "\n",
        "model.fit(x_train, y_train, epochs=3, batch_size=512)\n",
        "results = model.evaluate(x_test, y_test)\n",
        "\n",
        "results"
      ],
      "metadata": {
        "colab": {
          "base_uri": "https://localhost:8080/",
          "height": 1000
        },
        "id": "DQkipKMclLT2",
        "outputId": "3cca36ae-9afd-40d1-ab39-b2e398c9e301"
      },
      "execution_count": 29,
      "outputs": [
        {
          "output_type": "stream",
          "name": "stdout",
          "text": [
            "Epoch 1/20\n",
            "30/30 [==============================] - 2s 40ms/step - loss: 0.6016 - binary_accuracy: 0.6661 - val_loss: 0.4957 - val_binary_accuracy: 0.8542\n",
            "Epoch 2/20\n",
            "30/30 [==============================] - 1s 20ms/step - loss: 0.3949 - binary_accuracy: 0.8824 - val_loss: 0.3578 - val_binary_accuracy: 0.8761\n",
            "Epoch 3/20\n",
            "30/30 [==============================] - 1s 19ms/step - loss: 0.2765 - binary_accuracy: 0.9149 - val_loss: 0.3056 - val_binary_accuracy: 0.8825\n",
            "Epoch 4/20\n",
            "30/30 [==============================] - 1s 20ms/step - loss: 0.2132 - binary_accuracy: 0.9308 - val_loss: 0.2811 - val_binary_accuracy: 0.8898\n",
            "Epoch 5/20\n",
            "30/30 [==============================] - 1s 20ms/step - loss: 0.1769 - binary_accuracy: 0.9451 - val_loss: 0.2827 - val_binary_accuracy: 0.8856\n",
            "Epoch 6/20\n",
            "30/30 [==============================] - 1s 19ms/step - loss: 0.1498 - binary_accuracy: 0.9519 - val_loss: 0.2930 - val_binary_accuracy: 0.8809\n",
            "Epoch 7/20\n",
            "30/30 [==============================] - 1s 19ms/step - loss: 0.1285 - binary_accuracy: 0.9615 - val_loss: 0.2968 - val_binary_accuracy: 0.8821\n",
            "Epoch 8/20\n",
            "30/30 [==============================] - 1s 21ms/step - loss: 0.1092 - binary_accuracy: 0.9683 - val_loss: 0.2975 - val_binary_accuracy: 0.8844\n",
            "Epoch 9/20\n",
            "30/30 [==============================] - 1s 25ms/step - loss: 0.0922 - binary_accuracy: 0.9759 - val_loss: 0.3157 - val_binary_accuracy: 0.8843\n",
            "Epoch 10/20\n",
            "30/30 [==============================] - 1s 25ms/step - loss: 0.0797 - binary_accuracy: 0.9798 - val_loss: 0.3268 - val_binary_accuracy: 0.8830\n",
            "Epoch 11/20\n",
            "30/30 [==============================] - 1s 24ms/step - loss: 0.0664 - binary_accuracy: 0.9837 - val_loss: 0.3674 - val_binary_accuracy: 0.8687\n",
            "Epoch 12/20\n",
            "30/30 [==============================] - 1s 20ms/step - loss: 0.0563 - binary_accuracy: 0.9878 - val_loss: 0.3642 - val_binary_accuracy: 0.8806\n",
            "Epoch 13/20\n",
            "30/30 [==============================] - 1s 20ms/step - loss: 0.0463 - binary_accuracy: 0.9899 - val_loss: 0.3845 - val_binary_accuracy: 0.8781\n",
            "Epoch 14/20\n",
            "30/30 [==============================] - 1s 20ms/step - loss: 0.0370 - binary_accuracy: 0.9932 - val_loss: 0.4400 - val_binary_accuracy: 0.8625\n",
            "Epoch 15/20\n",
            "30/30 [==============================] - 1s 19ms/step - loss: 0.0311 - binary_accuracy: 0.9957 - val_loss: 0.4216 - val_binary_accuracy: 0.8749\n",
            "Epoch 16/20\n",
            "30/30 [==============================] - 1s 19ms/step - loss: 0.0244 - binary_accuracy: 0.9972 - val_loss: 0.4684 - val_binary_accuracy: 0.8759\n",
            "Epoch 17/20\n",
            "30/30 [==============================] - 1s 20ms/step - loss: 0.0216 - binary_accuracy: 0.9962 - val_loss: 0.4698 - val_binary_accuracy: 0.8692\n",
            "Epoch 18/20\n",
            "30/30 [==============================] - 1s 20ms/step - loss: 0.0169 - binary_accuracy: 0.9983 - val_loss: 0.4915 - val_binary_accuracy: 0.8740\n",
            "Epoch 19/20\n",
            "30/30 [==============================] - 1s 19ms/step - loss: 0.0104 - binary_accuracy: 0.9996 - val_loss: 0.5166 - val_binary_accuracy: 0.8724\n",
            "Epoch 20/20\n",
            "30/30 [==============================] - 1s 19ms/step - loss: 0.0126 - binary_accuracy: 0.9980 - val_loss: 0.5366 - val_binary_accuracy: 0.8740\n"
          ]
        },
        {
          "output_type": "display_data",
          "data": {
            "text/plain": [
              "<Figure size 432x288 with 1 Axes>"
            ],
            "image/png": "[encoded data removed]"
          },
          "metadata": {
            "needs_background": "light"
          }
        },
        {
          "output_type": "display_data",
          "data": {
            "text/plain": [
              "<Figure size 432x288 with 1 Axes>"
            ],
            "image/png": "[encoded data removed]"
          },
          "metadata": {
            "needs_background": "light"
          }
        },
        {
          "output_type": "stream",
          "name": "stdout",
          "text": [
            "Epoch 1/3\n",
            "49/49 [==============================] - 1s 14ms/step - loss: 0.4824 - accuracy: 0.8038\n",
            "Epoch 2/3\n",
            "49/49 [==============================] - 1s 15ms/step - loss: 0.2817 - accuracy: 0.9008\n",
            "Epoch 3/3\n",
            "49/49 [==============================] - 1s 14ms/step - loss: 0.2184 - accuracy: 0.9217\n",
            "782/782 [==============================] - 2s 2ms/step - loss: 0.2792 - accuracy: 0.8896\n"
          ]
        },
        {
          "output_type": "execute_result",
          "data": {
            "text/plain": [
              "[0.27922460436820984, 0.8895999789237976]"
            ]
          },
          "metadata": {},
          "execution_count": 29
        }
      ]
    }
  ]
}