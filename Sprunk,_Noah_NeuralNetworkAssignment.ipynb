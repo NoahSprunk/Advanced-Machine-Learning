{
  "nbformat": 4,
  "nbformat_minor": 0,
  "metadata": {
    "colab": {
      "provenance": [],
      "machine_shape": "hm",
      "include_colab_link": true
    },
    "kernelspec": {
      "name": "python3",
      "display_name": "Python 3"
    },
    "language_info": {
      "name": "python"
    },
    "gpuClass": "standard"
  },
  "cells": [
    {
      "cell_type": "markdown",
      "metadata": {
        "id": "view-in-github",
        "colab_type": "text"
      },
      "source": [
        "<a href=\"https://colab.research.google.com/github/NoahSprunk/Advanced-Machine-Learning/blob/main/Sprunk%2C_Noah_NeuralNetworkAssignment.ipynb\" target=\"_parent\"><img src=\"https://colab.research.google.com/assets/colab-badge.svg\" alt=\"Open In Colab\"/></a>"
      ]
    },
    {
      "cell_type": "code",
      "execution_count": 1,
      "metadata": {
        "id": "fve5EqumMsPy",
        "colab": {
          "base_uri": "https://localhost:8080/"
        },
        "outputId": "907626d9-287f-4747-e45c-8c8fd287a611"
      },
      "outputs": [
        {
          "output_type": "stream",
          "name": "stdout",
          "text": [
            "Downloading data from https://storage.googleapis.com/tensorflow/tf-keras-datasets/imdb.npz\n",
            "17464789/17464789 [==============================] - 1s 0us/step\n"
          ]
        }
      ],
      "source": [
        "from keras.datasets import imdb\n",
        "\n",
        "(train_data, train_labels), (test_data, test_labels) = imdb.load_data(num_words=10000)\n"
      ]
    },
    {
      "cell_type": "code",
      "source": [
        "train_labels[19]"
      ],
      "metadata": {
        "colab": {
          "base_uri": "https://localhost:8080/"
        },
        "id": "P_jYsFEwXBxP",
        "outputId": "e431dc92-9927-4428-ef14-27f6182ddf12"
      },
      "execution_count": 2,
      "outputs": [
        {
          "output_type": "execute_result",
          "data": {
            "text/plain": [
              "1"
            ]
          },
          "metadata": {},
          "execution_count": 2
        }
      ]
    },
    {
      "cell_type": "code",
      "source": [
        "max([max(sequence) for sequence in train_data])\n"
      ],
      "metadata": {
        "colab": {
          "base_uri": "https://localhost:8080/"
        },
        "id": "oB0BoQBjdYui",
        "outputId": "f7f159fc-647e-4c78-daa0-52df2b793613"
      },
      "execution_count": 3,
      "outputs": [
        {
          "output_type": "execute_result",
          "data": {
            "text/plain": [
              "9999"
            ]
          },
          "metadata": {},
          "execution_count": 3
        }
      ]
    },
    {
      "cell_type": "code",
      "source": [
        "# word_index is a dictionary mapping words to an integer index\n",
        "word_index = imdb.get_word_index()\n",
        "# We reverse it, mapping integer indices to words\n",
        "reverse_word_index = dict([(value, key) for (key, value) in word_index.items()])\n",
        "# We decode the review; note that our indices were offset by 3\n",
        "# because 0, 1 and 2 are reserved indices for \"padding\", \"start of sequence\", and \"unknown\".\n",
        "decoded_review = ' '.join([reverse_word_index.get(i - 3, '?') for i in train_data[0]])\n"
      ],
      "metadata": {
        "colab": {
          "base_uri": "https://localhost:8080/"
        },
        "id": "shlapHGedeJw",
        "outputId": "cc3442fe-d6b6-4512-8094-074c4f328098"
      },
      "execution_count": null,
      "outputs": [
        {
          "output_type": "stream",
          "name": "stdout",
          "text": [
            "Downloading data from https://storage.googleapis.com/tensorflow/tf-keras-datasets/imdb_word_index.json\n",
            "1641221/1641221 [==============================] - 0s 0us/step\n"
          ]
        }
      ]
    },
    {
      "cell_type": "code",
      "source": [
        "decoded_review"
      ],
      "metadata": {
        "colab": {
          "base_uri": "https://localhost:8080/",
          "height": 105
        },
        "id": "Gn5XrHd1dihC",
        "outputId": "a5974cd9-7627-4c60-e916-70901aff6934"
      },
      "execution_count": null,
      "outputs": [
        {
          "output_type": "execute_result",
          "data": {
            "text/plain": [
              "\"? this film was just brilliant casting location scenery story direction everyone's really suited the part they played and you could just imagine being there robert ? is an amazing actor and now the same being director ? father came from the same scottish island as myself so i loved the fact there was a real connection with this film the witty remarks throughout the film were great it was just brilliant so much that i bought the film as soon as it was released for ? and would recommend it to everyone to watch and the fly fishing was amazing really cried at the end it was so sad and you know what they say if you cry at a film it must have been good and this definitely was also ? to the two little boy's that played the ? of norman and paul they were just brilliant children are often left out of the ? list i think because the stars that play them all grown up are such a big profile for the whole film but these children are amazing and should be praised for what they have done don't you think the whole story was so lovely because it was true and was someone's life after all that was shared with us all\""
            ],
            "application/vnd.google.colaboratory.intrinsic+json": {
              "type": "string"
            }
          },
          "metadata": {},
          "execution_count": 6
        }
      ]
    },
    {
      "cell_type": "code",
      "source": [
        "import numpy as np\n",
        "\n",
        "def vectorize_sequences(sequences, dimension=10000):\n",
        "    # Create an all-zero matrix of shape (len(sequences), dimension)\n",
        "    results = np.zeros((len(sequences), dimension))\n",
        "    for i, sequence in enumerate(sequences):\n",
        "        results[i, sequence] = 1.  # set specific indices of results[i] to 1s\n",
        "    return results\n",
        "\n",
        "# Our vectorized training data\n",
        "x_train = vectorize_sequences(train_data)\n",
        "# Our vectorized test data\n",
        "x_test = vectorize_sequences(test_data)"
      ],
      "metadata": {
        "id": "l7HXo8LRdp_e"
      },
      "execution_count": 4,
      "outputs": []
    },
    {
      "cell_type": "code",
      "source": [
        "x_train[19]"
      ],
      "metadata": {
        "colab": {
          "base_uri": "https://localhost:8080/"
        },
        "id": "r_soMqXPdt-g",
        "outputId": "d1404c94-0647-4c06-9a54-9b199270f158"
      },
      "execution_count": 5,
      "outputs": [
        {
          "output_type": "execute_result",
          "data": {
            "text/plain": [
              "array([0., 1., 1., ..., 0., 0., 0.])"
            ]
          },
          "metadata": {},
          "execution_count": 5
        }
      ]
    },
    {
      "cell_type": "code",
      "source": [
        "# Vectorizing the labels\n",
        "\n",
        "y_train = np.asarray(train_labels).astype('float32')\n",
        "y_test = np.asarray(test_labels).astype('float32')"
      ],
      "metadata": {
        "id": "dYPfhatcd0UO"
      },
      "execution_count": 6,
      "outputs": []
    },
    {
      "cell_type": "code",
      "source": [
        "from keras import models\n",
        "from keras import layers\n",
        "\n",
        "model = models.Sequential()\n",
        "model.add(layers.Dense(16, activation='relu', input_shape=(10000,)))\n",
        "model.add(layers.Dense(16, activation='relu'))\n",
        "model.add(layers.Dense(1, activation='sigmoid'))"
      ],
      "metadata": {
        "id": "rTXqolPaAzXA"
      },
      "execution_count": 7,
      "outputs": []
    },
    {
      "cell_type": "code",
      "source": [
        "model.compile(optimizer='rmsprop',\n",
        "              loss='binary_crossentropy',\n",
        "              metrics=['accuracy'])"
      ],
      "metadata": {
        "id": "NsaxLt1eA8_z"
      },
      "execution_count": 8,
      "outputs": []
    },
    {
      "cell_type": "code",
      "source": [
        "from keras import optimizers\n",
        "from keras import losses\n",
        "from keras import metrics\n",
        "\n",
        "from tensorflow import keras\n",
        "from keras import optimizers\n",
        "from tensorflow.keras import optimizers\n",
        "from tensorflow.keras import optimizers\n",
        "\n",
        "model.compile(optimizer=optimizers.RMSprop(learning_rate=0.001),\n",
        "              loss = losses.binary_crossentropy,\n",
        "              metrics = [metrics.binary_accuracy])"
      ],
      "metadata": {
        "id": "z9UyhEN9BHVT"
      },
      "execution_count": 9,
      "outputs": []
    },
    {
      "cell_type": "code",
      "source": [
        "x_val = x_train[:10000]\n",
        "partial_x_train = x_train[10000:]\n",
        "\n",
        "y_val = y_train[:10000]\n",
        "partial_y_train = y_train[10000:]"
      ],
      "metadata": {
        "id": "izpjtNdzBMiP"
      },
      "execution_count": 10,
      "outputs": []
    },
    {
      "cell_type": "code",
      "source": [
        "history = model.fit(partial_x_train,\n",
        "                    partial_y_train,\n",
        "                    epochs=20,\n",
        "                    batch_size=512,\n",
        "                    validation_data=(x_val, y_val))"
      ],
      "metadata": {
        "colab": {
          "base_uri": "https://localhost:8080/"
        },
        "id": "JRqL4uL-BbL0",
        "outputId": "9443d587-a9cf-49cd-9c39-2a49a317ce9b"
      },
      "execution_count": 11,
      "outputs": [
        {
          "output_type": "stream",
          "name": "stdout",
          "text": [
            "Epoch 1/20\n",
            "30/30 [==============================] - 2s 44ms/step - loss: 0.4972 - binary_accuracy: 0.7799 - val_loss: 0.3630 - val_binary_accuracy: 0.8745\n",
            "Epoch 2/20\n",
            "30/30 [==============================] - 1s 20ms/step - loss: 0.2922 - binary_accuracy: 0.8991 - val_loss: 0.2976 - val_binary_accuracy: 0.8853\n",
            "Epoch 3/20\n",
            "30/30 [==============================] - 1s 20ms/step - loss: 0.2210 - binary_accuracy: 0.9238 - val_loss: 0.2931 - val_binary_accuracy: 0.8801\n",
            "Epoch 4/20\n",
            "30/30 [==============================] - 1s 19ms/step - loss: 0.1808 - binary_accuracy: 0.9388 - val_loss: 0.2954 - val_binary_accuracy: 0.8812\n",
            "Epoch 5/20\n",
            "30/30 [==============================] - 1s 24ms/step - loss: 0.1492 - binary_accuracy: 0.9508 - val_loss: 0.3841 - val_binary_accuracy: 0.8518\n",
            "Epoch 6/20\n",
            "30/30 [==============================] - 1s 22ms/step - loss: 0.1248 - binary_accuracy: 0.9605 - val_loss: 0.3029 - val_binary_accuracy: 0.8829\n",
            "Epoch 7/20\n",
            "30/30 [==============================] - 1s 23ms/step - loss: 0.1079 - binary_accuracy: 0.9673 - val_loss: 0.3237 - val_binary_accuracy: 0.8810\n",
            "Epoch 8/20\n",
            "30/30 [==============================] - 1s 21ms/step - loss: 0.0892 - binary_accuracy: 0.9748 - val_loss: 0.3248 - val_binary_accuracy: 0.8828\n",
            "Epoch 9/20\n",
            "30/30 [==============================] - 1s 19ms/step - loss: 0.0792 - binary_accuracy: 0.9760 - val_loss: 0.3530 - val_binary_accuracy: 0.8728\n",
            "Epoch 10/20\n",
            "30/30 [==============================] - 1s 19ms/step - loss: 0.0658 - binary_accuracy: 0.9826 - val_loss: 0.3588 - val_binary_accuracy: 0.8776\n",
            "Epoch 11/20\n",
            "30/30 [==============================] - 1s 19ms/step - loss: 0.0536 - binary_accuracy: 0.9876 - val_loss: 0.3807 - val_binary_accuracy: 0.8794\n",
            "Epoch 12/20\n",
            "30/30 [==============================] - 1s 20ms/step - loss: 0.0475 - binary_accuracy: 0.9888 - val_loss: 0.4029 - val_binary_accuracy: 0.8736\n",
            "Epoch 13/20\n",
            "30/30 [==============================] - 1s 20ms/step - loss: 0.0382 - binary_accuracy: 0.9922 - val_loss: 0.4231 - val_binary_accuracy: 0.8768\n",
            "Epoch 14/20\n",
            "30/30 [==============================] - 1s 19ms/step - loss: 0.0318 - binary_accuracy: 0.9944 - val_loss: 0.4655 - val_binary_accuracy: 0.8666\n",
            "Epoch 15/20\n",
            "30/30 [==============================] - 1s 19ms/step - loss: 0.0306 - binary_accuracy: 0.9932 - val_loss: 0.4699 - val_binary_accuracy: 0.8718\n",
            "Epoch 16/20\n",
            "30/30 [==============================] - 1s 20ms/step - loss: 0.0243 - binary_accuracy: 0.9960 - val_loss: 0.4906 - val_binary_accuracy: 0.8699\n",
            "Epoch 17/20\n",
            "30/30 [==============================] - 1s 26ms/step - loss: 0.0215 - binary_accuracy: 0.9965 - val_loss: 0.5113 - val_binary_accuracy: 0.8727\n",
            "Epoch 18/20\n",
            "30/30 [==============================] - 1s 20ms/step - loss: 0.0158 - binary_accuracy: 0.9975 - val_loss: 0.5327 - val_binary_accuracy: 0.8726\n",
            "Epoch 19/20\n",
            "30/30 [==============================] - 1s 26ms/step - loss: 0.0106 - binary_accuracy: 0.9995 - val_loss: 0.6506 - val_binary_accuracy: 0.8608\n",
            "Epoch 20/20\n",
            "30/30 [==============================] - 1s 20ms/step - loss: 0.0153 - binary_accuracy: 0.9971 - val_loss: 0.5818 - val_binary_accuracy: 0.8694\n"
          ]
        }
      ]
    },
    {
      "cell_type": "code",
      "source": [
        "history_dict = history.history\n",
        "history_dict.keys()"
      ],
      "metadata": {
        "colab": {
          "base_uri": "https://localhost:8080/"
        },
        "id": "eejNopPlBtA_",
        "outputId": "d720af80-cd8a-4472-8505-1fb134ead14d"
      },
      "execution_count": 12,
      "outputs": [
        {
          "output_type": "execute_result",
          "data": {
            "text/plain": [
              "dict_keys(['loss', 'binary_accuracy', 'val_loss', 'val_binary_accuracy'])"
            ]
          },
          "metadata": {},
          "execution_count": 12
        }
      ]
    },
    {
      "cell_type": "code",
      "source": [
        "import matplotlib.pyplot as plt\n",
        "\n",
        "Loss_Values = history_dict['loss']\n",
        "Val_Loss_Values = history_dict['val_loss']\n",
        "\n",
        "epochs = range(1, len(Loss_Values) + 1)\n",
        "\n",
        "plt.plot(epochs, Loss_Values, 'bo', label=\"Training Loss\")\n",
        "plt.plot(epochs, Val_Loss_Values, 'b', label=\"Validation Loss\")\n",
        "\n",
        "plt.title('Training and Validation Loss')\n",
        "plt.xlabel('Epochs')\n",
        "plt.ylabel('Loss Value')\n",
        "plt.legend()\n",
        "\n",
        "plt.show()"
      ],
      "metadata": {
        "colab": {
          "base_uri": "https://localhost:8080/",
          "height": 295
        },
        "id": "Y0cLFu7_Bu-3",
        "outputId": "c1ccb2f6-cdb1-4505-c457-f0e1123b2812"
      },
      "execution_count": null,
      "outputs": [
        {
          "output_type": "display_data",
          "data": {
            "text/plain": [
              "<Figure size 432x288 with 1 Axes>"
            ],
            "image/png": "[encoded data removed]"
          },
          "metadata": {
            "needs_background": "light"
          }
        }
      ]
    },
    {
      "cell_type": "code",
      "source": [
        "Acc_Values = history_dict['binary_accuracy']\n",
        "Val_Acc_Values = history_dict['val_binary_accuracy']\n",
        "\n",
        "epochs = range(1, len(Loss_Values) + 1)\n",
        "\n",
        "plt.plot(epochs, Acc_Values, 'go', label = \"Training Accuracy\")\n",
        "plt.plot(epochs, Val_Acc_Values, 'g', label = \"Validation Accuracy\")\n",
        "\n",
        "plt.title('Training and Validation Loss')\n",
        "plt.xlabel('Epochs')\n",
        "plt.ylabel('Loss Value')\n",
        "plt.legend()\n",
        "\n",
        "plt.show()"
      ],
      "metadata": {
        "colab": {
          "base_uri": "https://localhost:8080/",
          "height": 295
        },
        "id": "WNuIxoRgEMJo",
        "outputId": "ca7fc963-1604-4205-c4cf-5c4b29cfea75"
      },
      "execution_count": null,
      "outputs": [
        {
          "output_type": "display_data",
          "data": {
            "text/plain": [
              "<Figure size 432x288 with 1 Axes>"
            ],
            "image/png": "[encoded data removed]"
          },
          "metadata": {
            "needs_background": "light"
          }
        }
      ]
    },
    {
      "cell_type": "code",
      "source": [
        "Val_Acc_Values"
      ],
      "metadata": {
        "colab": {
          "base_uri": "https://localhost:8080/"
        },
        "id": "AMoyL4yUI5zE",
        "outputId": "a8bc2604-2182-4458-9120-2d2a74f5a883"
      },
      "execution_count": null,
      "outputs": [
        {
          "output_type": "execute_result",
          "data": {
            "text/plain": [
              "[0.8598999977111816,\n",
              " 0.8755999803543091,\n",
              " 0.8873000144958496,\n",
              " 0.8822000026702881,\n",
              " 0.8806999921798706,\n",
              " 0.8794999718666077,\n",
              " 0.8859000205993652,\n",
              " 0.8831999897956848,\n",
              " 0.8841000199317932,\n",
              " 0.876800000667572,\n",
              " 0.8773000240325928,\n",
              " 0.8769000172615051,\n",
              " 0.8766000270843506,\n",
              " 0.8737999796867371,\n",
              " 0.8751000165939331,\n",
              " 0.8736000061035156,\n",
              " 0.8734999895095825,\n",
              " 0.8722000122070312,\n",
              " 0.8698999881744385,\n",
              " 0.8690000176429749]"
            ]
          },
          "metadata": {},
          "execution_count": 18
        }
      ]
    },
    {
      "cell_type": "markdown",
      "source": [
        "We can see that the validation accuracy (Val_Acc_Values = 0.8894 at 3 epochs) of this model increaces up until the 3rd epoch then dips but then comes back up. Going to make a model that is 3 epochs to see the accuracy"
      ],
      "metadata": {
        "id": "6eyMsU9FIjqf"
      }
    },
    {
      "cell_type": "code",
      "source": [
        "model = models.Sequential()\n",
        "model.add(layers.Dense(16, activation='relu', input_shape=(10000,)))\n",
        "model.add(layers.Dense(16, activation='relu'))\n",
        "model.add(layers.Dense(1, activation='sigmoid'))\n",
        "\n",
        "model.compile(optimizer='rmsprop',\n",
        "              loss='binary_crossentropy',\n",
        "              metrics=['accuracy'])\n",
        "\n",
        "model.fit(x_train, y_train, epochs=3, batch_size=512)\n",
        "results = model.evaluate(x_test, y_test)"
      ],
      "metadata": {
        "colab": {
          "base_uri": "https://localhost:8080/"
        },
        "id": "XqacF7BmJXV2",
        "outputId": "1d0e5817-2f91-4fa6-872f-633586a3b2e8"
      },
      "execution_count": null,
      "outputs": [
        {
          "output_type": "stream",
          "name": "stdout",
          "text": [
            "Epoch 1/3\n",
            "49/49 [==============================] - 3s 33ms/step - loss: 0.4728 - accuracy: 0.8082\n",
            "Epoch 2/3\n",
            "49/49 [==============================] - 2s 35ms/step - loss: 0.2816 - accuracy: 0.9037\n",
            "Epoch 3/3\n",
            "49/49 [==============================] - 2s 33ms/step - loss: 0.2182 - accuracy: 0.9230\n",
            "782/782 [==============================] - 2s 3ms/step - loss: 0.2817 - accuracy: 0.8872\n"
          ]
        }
      ]
    },
    {
      "cell_type": "markdown",
      "source": [
        "I will now use the 3 hidden layer method to create a model."
      ],
      "metadata": {
        "id": "_BE0S4ptjVV-"
      }
    },
    {
      "cell_type": "code",
      "source": [
        "from keras import models\n",
        "from tensorflow.keras import layers\n",
        "\n",
        "model = models.Sequential()\n",
        "model.add(layers.Dense(16, activation='relu', input_shape=(10000,)))\n",
        "model.add(layers.Dense(16, activation='relu'))\n",
        "model.add(layers.Dense(16, activation='relu'))\n",
        "model.add(layers.Dense(1, activation='sigmoid'))\n",
        "\n",
        "model.compile(optimizer='rmsprop',\n",
        "              loss='binary_crossentropy',\n",
        "              metrics=['accuracy'])\n",
        "\n",
        "from keras import optimizers\n",
        "from keras import losses\n",
        "from keras import metrics\n",
        "\n",
        "from tensorflow import keras\n",
        "from keras import optimizers\n",
        "from tensorflow.keras import optimizers\n",
        "from tensorflow.keras import optimizers\n",
        "\n",
        "model.compile(optimizer=optimizers.RMSprop(learning_rate=0.001),\n",
        "              loss = losses.binary_crossentropy,\n",
        "              metrics = [metrics.binary_accuracy])\n",
        "\n",
        "x_val = x_train[:10000]\n",
        "partial_x_train = x_train[10000:]\n",
        "\n",
        "y_val = y_train[:10000]\n",
        "partial_y_train = y_train[10000:]\n",
        "\n",
        "history = model.fit(partial_x_train,\n",
        "                    partial_y_train,\n",
        "                    epochs=20,\n",
        "                    batch_size=512,\n",
        "                    validation_data=(x_val, y_val))\n",
        "\n",
        "history_dict = history.history\n",
        "history_dict.keys()\n",
        "\n",
        "# Plotting the training and validation loss\n",
        "\n",
        "import matplotlib.pyplot as plt\n",
        "\n",
        "Loss_Values = history_dict['loss']\n",
        "Val_Loss_Values = history_dict['val_loss']\n",
        "\n",
        "epochs = range(1, len(Loss_Values) + 1)\n",
        "\n",
        "plt.plot(epochs, Loss_Values, 'bo', label=\"Training Loss\")\n",
        "plt.plot(epochs, Val_Loss_Values, 'b', label=\"Validation Loss\")\n",
        "\n",
        "plt.title('Training and Validation Loss')\n",
        "plt.xlabel('Epochs')\n",
        "plt.ylabel('Loss Value')\n",
        "plt.legend()\n",
        "\n",
        "plt.show()\n",
        "\n",
        "\n",
        "# Plotting the training and validation accuracy\n",
        "# Training and Validation Accuracy\n",
        "\n",
        "Acc_values = history_dict['binary_accuracy']\n",
        "Val_Acc_Values = history_dict['val_binary_accuracy']\n",
        "\n",
        "epochs = range(1, len(Loss_Values) + 1)\n",
        "\n",
        "plt.plot(epochs, Acc_Values, 'go', label=\"Training Accuracy\")\n",
        "plt.plot(epochs, Val_Acc_Values, 'g', label=\"Validation Accuracy\")\n",
        "\n",
        "plt.title('Training and Validation Accuraccy')\n",
        "plt.xlabel('Epochs')\n",
        "plt.ylabel('Accuracy')\n",
        "plt.legend()\n",
        "\n",
        "plt.show()\n",
        "\n",
        "\n",
        "model = models.Sequential()\n",
        "model.add(layers.Dense(16, activation='relu', input_shape=(10000,)))\n",
        "model.add(layers.Dense(16, activation='relu'))\n",
        "model.add(layers.Dense(16, activation='relu'))\n",
        "model.add(layers.Dense(1, activation='sigmoid'))\n",
        "\n",
        "model.compile(optimizer='rmsprop',\n",
        "              loss='binary_crossentropy',\n",
        "              metrics=['accuracy'])\n",
        "\n",
        "model.fit(x_train, y_train, epochs=3, batch_size=512)\n",
        "results = model.evaluate(x_test, y_test)\n",
        "\n",
        "results"
      ],
      "metadata": {
        "colab": {
          "base_uri": "https://localhost:8080/",
          "height": 1000
        },
        "id": "H0P1eXQoOzZq",
        "outputId": "2758d4c1-c7a9-4743-d7ea-641b8384a715"
      },
      "execution_count": null,
      "outputs": [
        {
          "output_type": "stream",
          "name": "stdout",
          "text": [
            "Epoch 1/20\n",
            "30/30 [==============================] - 3s 84ms/step - loss: 0.5454 - binary_accuracy: 0.7703 - val_loss: 0.4317 - val_binary_accuracy: 0.8413\n",
            "Epoch 2/20\n",
            "30/30 [==============================] - 3s 89ms/step - loss: 0.3252 - binary_accuracy: 0.8933 - val_loss: 0.3066 - val_binary_accuracy: 0.8849\n",
            "Epoch 3/20\n",
            "30/30 [==============================] - 1s 37ms/step - loss: 0.2304 - binary_accuracy: 0.9215 - val_loss: 0.3069 - val_binary_accuracy: 0.8750\n",
            "Epoch 4/20\n",
            "30/30 [==============================] - 2s 66ms/step - loss: 0.1813 - binary_accuracy: 0.9405 - val_loss: 0.3111 - val_binary_accuracy: 0.8761\n",
            "Epoch 5/20\n",
            "30/30 [==============================] - 2s 62ms/step - loss: 0.1448 - binary_accuracy: 0.9533 - val_loss: 0.2885 - val_binary_accuracy: 0.8866\n",
            "Epoch 6/20\n",
            "30/30 [==============================] - 2s 55ms/step - loss: 0.1268 - binary_accuracy: 0.9581 - val_loss: 0.3064 - val_binary_accuracy: 0.8838\n",
            "Epoch 7/20\n",
            "30/30 [==============================] - 1s 45ms/step - loss: 0.1009 - binary_accuracy: 0.9689 - val_loss: 0.3478 - val_binary_accuracy: 0.8789\n",
            "Epoch 8/20\n",
            "30/30 [==============================] - 2s 56ms/step - loss: 0.0810 - binary_accuracy: 0.9764 - val_loss: 0.3360 - val_binary_accuracy: 0.8821\n",
            "Epoch 9/20\n",
            "30/30 [==============================] - 1s 38ms/step - loss: 0.0652 - binary_accuracy: 0.9836 - val_loss: 0.3595 - val_binary_accuracy: 0.8784\n",
            "Epoch 10/20\n",
            "30/30 [==============================] - 2s 56ms/step - loss: 0.0567 - binary_accuracy: 0.9842 - val_loss: 0.4104 - val_binary_accuracy: 0.8758\n",
            "Epoch 11/20\n",
            "30/30 [==============================] - 2s 56ms/step - loss: 0.0459 - binary_accuracy: 0.9891 - val_loss: 0.5181 - val_binary_accuracy: 0.8509\n",
            "Epoch 12/20\n",
            "30/30 [==============================] - 2s 69ms/step - loss: 0.0429 - binary_accuracy: 0.9889 - val_loss: 0.4298 - val_binary_accuracy: 0.8771\n",
            "Epoch 13/20\n",
            "30/30 [==============================] - 2s 56ms/step - loss: 0.0343 - binary_accuracy: 0.9906 - val_loss: 0.4509 - val_binary_accuracy: 0.8772\n",
            "Epoch 14/20\n",
            "30/30 [==============================] - 1s 45ms/step - loss: 0.0157 - binary_accuracy: 0.9983 - val_loss: 0.4893 - val_binary_accuracy: 0.8708\n",
            "Epoch 15/20\n",
            "30/30 [==============================] - 2s 55ms/step - loss: 0.0266 - binary_accuracy: 0.9923 - val_loss: 0.5092 - val_binary_accuracy: 0.8746\n",
            "Epoch 16/20\n",
            "30/30 [==============================] - 1s 49ms/step - loss: 0.0242 - binary_accuracy: 0.9935 - val_loss: 0.5236 - val_binary_accuracy: 0.8724\n",
            "Epoch 17/20\n",
            "30/30 [==============================] - 2s 56ms/step - loss: 0.0069 - binary_accuracy: 0.9997 - val_loss: 0.5599 - val_binary_accuracy: 0.8709\n",
            "Epoch 18/20\n",
            "30/30 [==============================] - 2s 56ms/step - loss: 0.0217 - binary_accuracy: 0.9937 - val_loss: 0.5735 - val_binary_accuracy: 0.8719\n",
            "Epoch 19/20\n",
            "30/30 [==============================] - 1s 45ms/step - loss: 0.0040 - binary_accuracy: 0.9998 - val_loss: 0.6032 - val_binary_accuracy: 0.8716\n",
            "Epoch 20/20\n",
            "30/30 [==============================] - 2s 63ms/step - loss: 0.0151 - binary_accuracy: 0.9955 - val_loss: 0.6208 - val_binary_accuracy: 0.8696\n"
          ]
        },
        {
          "output_type": "display_data",
          "data": {
            "text/plain": [
              "<Figure size 432x288 with 1 Axes>"
            ],
            "image/png": "[encoded data removed]"
          },
          "metadata": {
            "needs_background": "light"
          }
        },
        {
          "output_type": "display_data",
          "data": {
            "text/plain": [
              "<Figure size 432x288 with 1 Axes>"
            ],
            "image/png": "[encoded data removed]"
          },
          "metadata": {
            "needs_background": "light"
          }
        },
        {
          "output_type": "stream",
          "name": "stdout",
          "text": [
            "Epoch 1/3\n",
            "49/49 [==============================] - 2s 34ms/step - loss: 0.4680 - accuracy: 0.8072\n",
            "Epoch 2/3\n",
            "49/49 [==============================] - 2s 33ms/step - loss: 0.2703 - accuracy: 0.9032\n",
            "Epoch 3/3\n",
            "49/49 [==============================] - 2s 33ms/step - loss: 0.2105 - accuracy: 0.9230\n",
            "782/782 [==============================] - 3s 3ms/step - loss: 0.3040 - accuracy: 0.8778\n"
          ]
        },
        {
          "output_type": "execute_result",
          "data": {
            "text/plain": [
              "[0.30400627851486206, 0.877839982509613]"
            ]
          },
          "metadata": {},
          "execution_count": 20
        }
      ]
    },
    {
      "cell_type": "markdown",
      "source": [
        "WRITE RESULTS FOR THE 3 HIDDEN LAYER TEST"
      ],
      "metadata": {
        "id": "GNlmiF-IlXlP"
      }
    },
    {
      "cell_type": "markdown",
      "source": [
        "HIDDEN 1 LAYER TEST"
      ],
      "metadata": {
        "id": "nFZGSI6jpVWs"
      }
    },
    {
      "cell_type": "code",
      "source": [
        "from keras import models\n",
        "from tensorflow.keras import layers\n",
        "\n",
        "model = models.Sequential()\n",
        "model.add(layers.Dense(16, activation='relu', input_shape=(10000,)))\n",
        "model.add(layers.Dense(1, activation='sigmoid'))\n",
        "\n",
        "model.compile(optimizer='rmsprop',\n",
        "              loss='binary_crossentropy',\n",
        "              metrics=['accuracy'])\n",
        "\n",
        "from keras import optimizers\n",
        "from keras import losses\n",
        "from keras import metrics\n",
        "\n",
        "from tensorflow import keras\n",
        "from keras import optimizers\n",
        "from tensorflow.keras import optimizers\n",
        "from tensorflow.keras import optimizers\n",
        "\n",
        "model.compile(optimizer=optimizers.RMSprop(learning_rate=0.001),\n",
        "              loss = losses.binary_crossentropy,\n",
        "              metrics = [metrics.binary_accuracy])\n",
        "\n",
        "x_val = x_train[:10000]\n",
        "partial_x_train = x_train[10000:]\n",
        "\n",
        "y_val = y_train[:10000]\n",
        "partial_y_train = y_train[10000:]\n",
        "\n",
        "history = model.fit(partial_x_train,\n",
        "                    partial_y_train,\n",
        "                    epochs=20,\n",
        "                    batch_size=512,\n",
        "                    validation_data=(x_val, y_val))\n",
        "\n",
        "history_dict = history.history\n",
        "history_dict.keys()\n",
        "\n",
        "# Plotting the training and validation loss\n",
        "\n",
        "import matplotlib.pyplot as plt\n",
        "\n",
        "Loss_Values = history_dict['loss']\n",
        "Val_Loss_Values = history_dict['val_loss']\n",
        "\n",
        "epochs = range(1, len(Loss_Values) + 1)\n",
        "\n",
        "plt.plot(epochs, Loss_Values, 'bo', label=\"Training Loss\")\n",
        "plt.plot(epochs, Val_Loss_Values, 'b', label=\"Validation Loss\")\n",
        "\n",
        "plt.title('Training and Validation Loss')\n",
        "plt.xlabel('Epochs')\n",
        "plt.ylabel('Loss Value')\n",
        "plt.legend()\n",
        "\n",
        "plt.show()\n",
        "\n",
        "\n",
        "# Plotting the training and validation accuracy\n",
        "# Training and Validation Accuracy\n",
        "\n",
        "Acc_values = history_dict['binary_accuracy']\n",
        "Val_Acc_Values = history_dict['val_binary_accuracy']\n",
        "\n",
        "epochs = range(1, len(Loss_Values) + 1)\n",
        "\n",
        "plt.plot(epochs, Acc_Values, 'go', label=\"Training Accuracy\")\n",
        "plt.plot(epochs, Val_Acc_Values, 'g', label=\"Validation Accuracy\")\n",
        "\n",
        "plt.title('Training and Validation Accuraccy')\n",
        "plt.xlabel('Epochs')\n",
        "plt.ylabel('Accuracy')\n",
        "plt.legend()\n",
        "\n",
        "plt.show()\n",
        "\n",
        "\n",
        "model = models.Sequential()\n",
        "model.add(layers.Dense(16, activation='relu', input_shape=(10000,)))\n",
        "model.add(layers.Dense(16, activation='relu'))\n",
        "model.add(layers.Dense(16, activation='relu'))\n",
        "model.add(layers.Dense(1, activation='sigmoid'))\n",
        "\n",
        "model.compile(optimizer='rmsprop',\n",
        "              loss='binary_crossentropy',\n",
        "              metrics=['accuracy'])\n",
        "\n",
        "model.fit(x_train, y_train, epochs=3, batch_size=512)\n",
        "results = model.evaluate(x_test, y_test)\n",
        "\n",
        "results"
      ],
      "metadata": {
        "colab": {
          "base_uri": "https://localhost:8080/",
          "height": 1000
        },
        "id": "OKHHHvKulXP6",
        "outputId": "d00d6630-6613-4fce-b7a2-5c47bdafb2d1"
      },
      "execution_count": null,
      "outputs": [
        {
          "output_type": "stream",
          "name": "stdout",
          "text": [
            "Epoch 1/20\n",
            "30/30 [==============================] - 3s 86ms/step - loss: 0.5030 - binary_accuracy: 0.7907 - val_loss: 0.3939 - val_binary_accuracy: 0.8599\n",
            "Epoch 2/20\n",
            "30/30 [==============================] - 2s 53ms/step - loss: 0.3247 - binary_accuracy: 0.8981 - val_loss: 0.3211 - val_binary_accuracy: 0.8817\n",
            "Epoch 3/20\n",
            "30/30 [==============================] - 2s 69ms/step - loss: 0.2568 - binary_accuracy: 0.9178 - val_loss: 0.2967 - val_binary_accuracy: 0.8833\n",
            "Epoch 4/20\n",
            "30/30 [==============================] - 1s 50ms/step - loss: 0.2158 - binary_accuracy: 0.9304 - val_loss: 0.3310 - val_binary_accuracy: 0.8610\n",
            "Epoch 5/20\n",
            "30/30 [==============================] - 1s 40ms/step - loss: 0.1888 - binary_accuracy: 0.9408 - val_loss: 0.2740 - val_binary_accuracy: 0.8890\n",
            "Epoch 6/20\n",
            "30/30 [==============================] - 2s 54ms/step - loss: 0.1660 - binary_accuracy: 0.9481 - val_loss: 0.2822 - val_binary_accuracy: 0.8857\n",
            "Epoch 7/20\n",
            "30/30 [==============================] - 1s 46ms/step - loss: 0.1510 - binary_accuracy: 0.9521 - val_loss: 0.2767 - val_binary_accuracy: 0.8870\n",
            "Epoch 8/20\n",
            "30/30 [==============================] - 1s 45ms/step - loss: 0.1362 - binary_accuracy: 0.9595 - val_loss: 0.2825 - val_binary_accuracy: 0.8876\n",
            "Epoch 9/20\n",
            "30/30 [==============================] - 1s 45ms/step - loss: 0.1244 - binary_accuracy: 0.9637 - val_loss: 0.2873 - val_binary_accuracy: 0.8863\n",
            "Epoch 10/20\n",
            "30/30 [==============================] - 1s 41ms/step - loss: 0.1131 - binary_accuracy: 0.9693 - val_loss: 0.2995 - val_binary_accuracy: 0.8798\n",
            "Epoch 11/20\n",
            "30/30 [==============================] - 2s 56ms/step - loss: 0.1047 - binary_accuracy: 0.9712 - val_loss: 0.3214 - val_binary_accuracy: 0.8737\n",
            "Epoch 12/20\n",
            "30/30 [==============================] - 2s 70ms/step - loss: 0.0963 - binary_accuracy: 0.9741 - val_loss: 0.3093 - val_binary_accuracy: 0.8811\n",
            "Epoch 13/20\n",
            "30/30 [==============================] - 1s 45ms/step - loss: 0.0884 - binary_accuracy: 0.9783 - val_loss: 0.3158 - val_binary_accuracy: 0.8814\n",
            "Epoch 14/20\n",
            "30/30 [==============================] - 2s 55ms/step - loss: 0.0828 - binary_accuracy: 0.9791 - val_loss: 0.3368 - val_binary_accuracy: 0.8731\n",
            "Epoch 15/20\n",
            "30/30 [==============================] - 1s 45ms/step - loss: 0.0754 - binary_accuracy: 0.9833 - val_loss: 0.3322 - val_binary_accuracy: 0.8814\n",
            "Epoch 16/20\n",
            "30/30 [==============================] - 1s 43ms/step - loss: 0.0703 - binary_accuracy: 0.9838 - val_loss: 0.3414 - val_binary_accuracy: 0.8806\n",
            "Epoch 17/20\n",
            "30/30 [==============================] - 1s 45ms/step - loss: 0.0655 - binary_accuracy: 0.9862 - val_loss: 0.3632 - val_binary_accuracy: 0.8777\n",
            "Epoch 18/20\n",
            "30/30 [==============================] - 2s 55ms/step - loss: 0.0585 - binary_accuracy: 0.9897 - val_loss: 0.3615 - val_binary_accuracy: 0.8783\n",
            "Epoch 19/20\n",
            "30/30 [==============================] - 2s 55ms/step - loss: 0.0553 - binary_accuracy: 0.9899 - val_loss: 0.3710 - val_binary_accuracy: 0.8769\n",
            "Epoch 20/20\n",
            "30/30 [==============================] - 2s 67ms/step - loss: 0.0519 - binary_accuracy: 0.9912 - val_loss: 0.3806 - val_binary_accuracy: 0.8775\n"
          ]
        },
        {
          "output_type": "display_data",
          "data": {
            "text/plain": [
              "<Figure size 432x288 with 1 Axes>"
            ],
            "image/png": "[encoded data removed]"
          },
          "metadata": {
            "needs_background": "light"
          }
        },
        {
          "output_type": "display_data",
          "data": {
            "text/plain": [
              "<Figure size 432x288 with 1 Axes>"
            ],
            "image/png": "[encoded data removed]"
          },
          "metadata": {
            "needs_background": "light"
          }
        },
        {
          "output_type": "stream",
          "name": "stdout",
          "text": [
            "Epoch 1/3\n",
            "49/49 [==============================] - 3s 32ms/step - loss: 0.4869 - accuracy: 0.7984\n",
            "Epoch 2/3\n",
            "49/49 [==============================] - 2s 34ms/step - loss: 0.2670 - accuracy: 0.9042\n",
            "Epoch 3/3\n",
            "49/49 [==============================] - 2s 32ms/step - loss: 0.2051 - accuracy: 0.9256\n",
            "782/782 [==============================] - 2s 3ms/step - loss: 0.3143 - accuracy: 0.8744\n"
          ]
        },
        {
          "output_type": "execute_result",
          "data": {
            "text/plain": [
              "[0.31428030133247375, 0.8743600249290466]"
            ]
          },
          "metadata": {},
          "execution_count": 21
        }
      ]
    },
    {
      "cell_type": "markdown",
      "source": [
        "I will now test 32 hidden neurons in 2 hidden layers"
      ],
      "metadata": {
        "id": "CbdwzTSYXMoH"
      }
    },
    {
      "cell_type": "code",
      "source": [
        "from keras import models\n",
        "from tensorflow.keras import layers\n",
        "\n",
        "model = models.Sequential()\n",
        "model.add(layers.Dense(32, activation='relu', input_shape=(10000,)))\n",
        "model.add(layers.Dense(32, activation='relu'))\n",
        "model.add(layers.Dense(1, activation='sigmoid'))\n",
        "\n",
        "model.compile(optimizer='rmsprop',\n",
        "              loss='binary_crossentropy',\n",
        "              metrics=['accuracy'])\n",
        "\n",
        "from keras import optimizers\n",
        "from keras import losses\n",
        "from keras import metrics\n",
        "\n",
        "from tensorflow import keras\n",
        "from keras import optimizers\n",
        "from tensorflow.keras import optimizers\n",
        "from tensorflow.keras import optimizers\n",
        "\n",
        "model.compile(optimizer=optimizers.RMSprop(learning_rate=0.001),\n",
        "              loss = losses.binary_crossentropy,\n",
        "              metrics = [metrics.binary_accuracy])\n",
        "\n",
        "x_val = x_train[:10000]\n",
        "partial_x_train = x_train[10000:]\n",
        "\n",
        "y_val = y_train[:10000]\n",
        "partial_y_train = y_train[10000:]\n",
        "\n",
        "history = model.fit(partial_x_train,\n",
        "                    partial_y_train,\n",
        "                    epochs=20,\n",
        "                    batch_size=512,\n",
        "                    validation_data=(x_val, y_val))\n",
        "\n",
        "history_dict = history.history\n",
        "history_dict.keys()\n",
        "\n",
        "# Plotting the training and validation loss\n",
        "\n",
        "import matplotlib.pyplot as plt\n",
        "\n",
        "Loss_Values = history_dict['loss']\n",
        "Val_Loss_Values = history_dict['val_loss']\n",
        "\n",
        "epochs = range(1, len(Loss_Values) + 1)\n",
        "\n",
        "plt.plot(epochs, Loss_Values, 'bo', label=\"Training Loss\")\n",
        "plt.plot(epochs, Val_Loss_Values, 'b', label=\"Validation Loss\")\n",
        "\n",
        "plt.title('Training and Validation Loss')\n",
        "plt.xlabel('Epochs')\n",
        "plt.ylabel('Loss Value')\n",
        "plt.legend()\n",
        "\n",
        "plt.show()\n",
        "\n",
        "\n",
        "# Plotting the training and validation accuracy\n",
        "# Training and Validation Accuracy\n",
        "\n",
        "Acc_Values = history_dict['binary_accuracy']\n",
        "Val_Acc_Values = history_dict['val_binary_accuracy']\n",
        "\n",
        "epochs = range(1, len(Loss_Values) + 1)\n",
        "\n",
        "plt.plot(epochs, Acc_Values, 'ro', label=\"Training Accuracy\")\n",
        "plt.plot(epochs, Val_Acc_Values, 'r', label=\"Validation Accuracy\")\n",
        "\n",
        "plt.title('Training and Validation Accuraccy')\n",
        "plt.xlabel('Epochs')\n",
        "plt.ylabel('Accuracy')\n",
        "plt.legend()\n",
        "\n",
        "plt.show()\n",
        "\n",
        "\n",
        "model = models.Sequential()\n",
        "model.add(layers.Dense(32, activation='relu', input_shape=(10000,)))\n",
        "model.add(layers.Dense(32, activation='relu'))\n",
        "model.add(layers.Dense(1, activation='sigmoid'))\n",
        "\n",
        "model.compile(optimizer='rmsprop',\n",
        "              loss='binary_crossentropy',\n",
        "              metrics=['accuracy'])\n",
        "\n",
        "model.fit(x_train, y_train, epochs=3, batch_size=512)\n",
        "results = model.evaluate(x_test, y_test)\n",
        "\n",
        "results"
      ],
      "metadata": {
        "id": "JKt1JtzFqOx0",
        "colab": {
          "base_uri": "https://localhost:8080/",
          "height": 1000
        },
        "outputId": "ebdc07cd-41eb-4c5a-8963-ad80dfd1549a"
      },
      "execution_count": null,
      "outputs": [
        {
          "output_type": "stream",
          "name": "stdout",
          "text": [
            "Epoch 1/20\n",
            "30/30 [==============================] - 2s 46ms/step - loss: 0.5172 - binary_accuracy: 0.7691 - val_loss: 0.3706 - val_binary_accuracy: 0.8715\n",
            "Epoch 2/20\n",
            "30/30 [==============================] - 1s 24ms/step - loss: 0.3059 - binary_accuracy: 0.8931 - val_loss: 0.3071 - val_binary_accuracy: 0.8802\n",
            "Epoch 3/20\n",
            "30/30 [==============================] - 1s 24ms/step - loss: 0.2259 - binary_accuracy: 0.9211 - val_loss: 0.3343 - val_binary_accuracy: 0.8617\n",
            "Epoch 4/20\n",
            "30/30 [==============================] - 1s 25ms/step - loss: 0.1865 - binary_accuracy: 0.9343 - val_loss: 0.3206 - val_binary_accuracy: 0.8722\n",
            "Epoch 5/20\n",
            "30/30 [==============================] - 1s 24ms/step - loss: 0.1525 - binary_accuracy: 0.9467 - val_loss: 0.2959 - val_binary_accuracy: 0.8810\n",
            "Epoch 6/20\n",
            "30/30 [==============================] - 1s 29ms/step - loss: 0.1307 - binary_accuracy: 0.9563 - val_loss: 0.3240 - val_binary_accuracy: 0.8812\n",
            "Epoch 7/20\n",
            "30/30 [==============================] - 1s 24ms/step - loss: 0.1110 - binary_accuracy: 0.9631 - val_loss: 0.3248 - val_binary_accuracy: 0.8770\n",
            "Epoch 8/20\n",
            "30/30 [==============================] - 1s 24ms/step - loss: 0.0929 - binary_accuracy: 0.9689 - val_loss: 0.3374 - val_binary_accuracy: 0.8783\n",
            "Epoch 9/20\n",
            "30/30 [==============================] - 1s 25ms/step - loss: 0.0774 - binary_accuracy: 0.9770 - val_loss: 0.3499 - val_binary_accuracy: 0.8794\n",
            "Epoch 10/20\n",
            "30/30 [==============================] - 1s 24ms/step - loss: 0.0634 - binary_accuracy: 0.9819 - val_loss: 0.3779 - val_binary_accuracy: 0.8734\n",
            "Epoch 11/20\n",
            "30/30 [==============================] - 1s 27ms/step - loss: 0.0517 - binary_accuracy: 0.9867 - val_loss: 0.4672 - val_binary_accuracy: 0.8537\n",
            "Epoch 12/20\n",
            "30/30 [==============================] - 1s 29ms/step - loss: 0.0526 - binary_accuracy: 0.9844 - val_loss: 0.4198 - val_binary_accuracy: 0.8747\n",
            "Epoch 13/20\n",
            "30/30 [==============================] - 1s 33ms/step - loss: 0.0379 - binary_accuracy: 0.9899 - val_loss: 0.4412 - val_binary_accuracy: 0.8747\n",
            "Epoch 14/20\n",
            "30/30 [==============================] - 1s 25ms/step - loss: 0.0356 - binary_accuracy: 0.9897 - val_loss: 0.4636 - val_binary_accuracy: 0.8722\n",
            "Epoch 15/20\n",
            "30/30 [==============================] - 1s 25ms/step - loss: 0.0331 - binary_accuracy: 0.9906 - val_loss: 0.4880 - val_binary_accuracy: 0.8758\n",
            "Epoch 16/20\n",
            "30/30 [==============================] - 1s 23ms/step - loss: 0.0140 - binary_accuracy: 0.9991 - val_loss: 0.5453 - val_binary_accuracy: 0.8728\n",
            "Epoch 17/20\n",
            "30/30 [==============================] - 1s 24ms/step - loss: 0.0264 - binary_accuracy: 0.9935 - val_loss: 0.5397 - val_binary_accuracy: 0.8702\n",
            "Epoch 18/20\n",
            "30/30 [==============================] - 1s 24ms/step - loss: 0.0230 - binary_accuracy: 0.9947 - val_loss: 0.5592 - val_binary_accuracy: 0.8723\n",
            "Epoch 19/20\n",
            "30/30 [==============================] - 1s 24ms/step - loss: 0.0099 - binary_accuracy: 0.9988 - val_loss: 0.6737 - val_binary_accuracy: 0.8506\n",
            "Epoch 20/20\n",
            "30/30 [==============================] - 1s 23ms/step - loss: 0.0069 - binary_accuracy: 0.9996 - val_loss: 0.6217 - val_binary_accuracy: 0.8733\n"
          ]
        },
        {
          "output_type": "display_data",
          "data": {
            "text/plain": [
              "<Figure size 432x288 with 1 Axes>"
            ],
            "image/png": "[encoded data removed]"
          },
          "metadata": {
            "needs_background": "light"
          }
        },
        {
          "output_type": "display_data",
          "data": {
            "text/plain": [
              "<Figure size 432x288 with 1 Axes>"
            ],
            "image/png": "[encoded data removed]"
          },
          "metadata": {
            "needs_background": "light"
          }
        },
        {
          "output_type": "stream",
          "name": "stdout",
          "text": [
            "Epoch 1/3\n",
            "49/49 [==============================] - 1s 19ms/step - loss: 0.4513 - accuracy: 0.8072\n",
            "Epoch 2/3\n",
            "49/49 [==============================] - 1s 18ms/step - loss: 0.2646 - accuracy: 0.9031\n",
            "Epoch 3/3\n",
            "49/49 [==============================] - 1s 18ms/step - loss: 0.2068 - accuracy: 0.9249\n",
            "782/782 [==============================] - 2s 2ms/step - loss: 0.2815 - accuracy: 0.8885\n"
          ]
        },
        {
          "output_type": "execute_result",
          "data": {
            "text/plain": [
              "[0.28150662779808044, 0.8885200023651123]"
            ]
          },
          "metadata": {},
          "execution_count": 14
        }
      ]
    },
    {
      "cell_type": "markdown",
      "source": [
        "I will now test the model with 64 neurons with 2 hidden layers."
      ],
      "metadata": {
        "id": "FECDWi8VZCCC"
      }
    },
    {
      "cell_type": "code",
      "source": [
        "from keras import models\n",
        "from tensorflow.keras import layers\n",
        "\n",
        "model = models.Sequential()\n",
        "model.add(layers.Dense(64, activation='relu', input_shape=(10000,)))\n",
        "model.add(layers.Dense(64, activation='relu'))\n",
        "model.add(layers.Dense(1, activation='sigmoid'))\n",
        "\n",
        "model.compile(optimizer='rmsprop',\n",
        "              loss='binary_crossentropy',\n",
        "              metrics=['accuracy'])\n",
        "\n",
        "from keras import optimizers\n",
        "from keras import losses\n",
        "from keras import metrics\n",
        "\n",
        "from tensorflow import keras\n",
        "from keras import optimizers\n",
        "from tensorflow.keras import optimizers\n",
        "from tensorflow.keras import optimizers\n",
        "\n",
        "model.compile(optimizer=optimizers.RMSprop(learning_rate=0.001),\n",
        "              loss = losses.binary_crossentropy,\n",
        "              metrics = [metrics.binary_accuracy])\n",
        "\n",
        "x_val = x_train[:10000]\n",
        "partial_x_train = x_train[10000:]\n",
        "\n",
        "y_val = y_train[:10000]\n",
        "partial_y_train = y_train[10000:]\n",
        "\n",
        "history = model.fit(partial_x_train,\n",
        "                    partial_y_train,\n",
        "                    epochs=20,\n",
        "                    batch_size=512,\n",
        "                    validation_data=(x_val, y_val))\n",
        "\n",
        "history_dict = history.history\n",
        "history_dict.keys()\n",
        "\n",
        "# Plotting the training and validation loss\n",
        "\n",
        "import matplotlib.pyplot as plt\n",
        "\n",
        "Loss_Values = history_dict['loss']\n",
        "Val_Loss_Values = history_dict['val_loss']\n",
        "\n",
        "epochs = range(1, len(Loss_Values) + 1)\n",
        "\n",
        "plt.plot(epochs, Loss_Values, 'bo', label=\"Training Loss\")\n",
        "plt.plot(epochs, Val_Loss_Values, 'b', label=\"Validation Loss\")\n",
        "\n",
        "plt.title('Training and Validation Loss')\n",
        "plt.xlabel('Epochs')\n",
        "plt.ylabel('Loss Value')\n",
        "plt.legend()\n",
        "\n",
        "plt.show()\n",
        "\n",
        "\n",
        "# Plotting the training and validation accuracy\n",
        "# Training and Validation Accuracy\n",
        "\n",
        "Acc_Values = history_dict['binary_accuracy']\n",
        "Val_Acc_Values = history_dict['val_binary_accuracy']\n",
        "\n",
        "epochs = range(1, len(Loss_Values) + 1)\n",
        "\n",
        "plt.plot(epochs, Acc_Values, 'ro', label=\"Training Accuracy\")\n",
        "plt.plot(epochs, Val_Acc_Values, 'r', label=\"Validation Accuracy\")\n",
        "\n",
        "plt.title('Training and Validation Accuraccy')\n",
        "plt.xlabel('Epochs')\n",
        "plt.ylabel('Accuracy')\n",
        "plt.legend()\n",
        "\n",
        "plt.show()\n",
        "\n",
        "\n",
        "model = models.Sequential()\n",
        "model.add(layers.Dense(64, activation='relu', input_shape=(10000,)))\n",
        "model.add(layers.Dense(64, activation='relu'))\n",
        "model.add(layers.Dense(1, activation='sigmoid'))\n",
        "\n",
        "model.compile(optimizer='rmsprop',\n",
        "              loss='binary_crossentropy',\n",
        "              metrics=['accuracy'])\n",
        "\n",
        "model.fit(x_train, y_train, epochs=3, batch_size=512)\n",
        "results = model.evaluate(x_test, y_test)\n",
        "\n",
        "results"
      ],
      "metadata": {
        "colab": {
          "base_uri": "https://localhost:8080/",
          "height": 1000
        },
        "id": "jbz8GETAZHtD",
        "outputId": "fcc01806-8213-4876-e07e-3f8d7776db03"
      },
      "execution_count": null,
      "outputs": [
        {
          "output_type": "stream",
          "name": "stdout",
          "text": [
            "Epoch 1/20\n",
            "30/30 [==============================] - 2s 55ms/step - loss: 0.5094 - binary_accuracy: 0.7591 - val_loss: 0.3473 - val_binary_accuracy: 0.8700\n",
            "Epoch 2/20\n",
            "30/30 [==============================] - 1s 35ms/step - loss: 0.3032 - binary_accuracy: 0.8853 - val_loss: 0.3255 - val_binary_accuracy: 0.8670\n",
            "Epoch 3/20\n",
            "30/30 [==============================] - 1s 35ms/step - loss: 0.2247 - binary_accuracy: 0.9149 - val_loss: 0.2752 - val_binary_accuracy: 0.8885\n",
            "Epoch 4/20\n",
            "30/30 [==============================] - 1s 33ms/step - loss: 0.1806 - binary_accuracy: 0.9341 - val_loss: 0.2854 - val_binary_accuracy: 0.8863\n",
            "Epoch 5/20\n",
            "30/30 [==============================] - 1s 34ms/step - loss: 0.1567 - binary_accuracy: 0.9414 - val_loss: 0.3215 - val_binary_accuracy: 0.8793\n",
            "Epoch 6/20\n",
            "30/30 [==============================] - 1s 34ms/step - loss: 0.1216 - binary_accuracy: 0.9571 - val_loss: 0.5091 - val_binary_accuracy: 0.8288\n",
            "Epoch 7/20\n",
            "30/30 [==============================] - 1s 34ms/step - loss: 0.1052 - binary_accuracy: 0.9625 - val_loss: 0.3274 - val_binary_accuracy: 0.8826\n",
            "Epoch 8/20\n",
            "30/30 [==============================] - 1s 34ms/step - loss: 0.0813 - binary_accuracy: 0.9734 - val_loss: 0.4421 - val_binary_accuracy: 0.8550\n",
            "Epoch 9/20\n",
            "30/30 [==============================] - 1s 34ms/step - loss: 0.0693 - binary_accuracy: 0.9772 - val_loss: 0.3756 - val_binary_accuracy: 0.8806\n",
            "Epoch 10/20\n",
            "30/30 [==============================] - 1s 40ms/step - loss: 0.0477 - binary_accuracy: 0.9856 - val_loss: 0.4477 - val_binary_accuracy: 0.8604\n",
            "Epoch 11/20\n",
            "30/30 [==============================] - 2s 70ms/step - loss: 0.0481 - binary_accuracy: 0.9862 - val_loss: 0.4073 - val_binary_accuracy: 0.8793\n",
            "Epoch 12/20\n",
            "30/30 [==============================] - 1s 33ms/step - loss: 0.0352 - binary_accuracy: 0.9898 - val_loss: 0.4253 - val_binary_accuracy: 0.8766\n",
            "Epoch 13/20\n",
            "30/30 [==============================] - 1s 33ms/step - loss: 0.0122 - binary_accuracy: 0.9993 - val_loss: 0.5078 - val_binary_accuracy: 0.8708\n",
            "Epoch 14/20\n",
            "30/30 [==============================] - 1s 34ms/step - loss: 0.0333 - binary_accuracy: 0.9906 - val_loss: 0.4895 - val_binary_accuracy: 0.8767\n",
            "Epoch 15/20\n",
            "30/30 [==============================] - 1s 34ms/step - loss: 0.0315 - binary_accuracy: 0.9900 - val_loss: 0.4842 - val_binary_accuracy: 0.8761\n",
            "Epoch 16/20\n",
            "30/30 [==============================] - 1s 34ms/step - loss: 0.0051 - binary_accuracy: 0.9999 - val_loss: 0.5420 - val_binary_accuracy: 0.8730\n",
            "Epoch 17/20\n",
            "30/30 [==============================] - 1s 34ms/step - loss: 0.0337 - binary_accuracy: 0.9907 - val_loss: 0.5335 - val_binary_accuracy: 0.8758\n",
            "Epoch 18/20\n",
            "30/30 [==============================] - 1s 34ms/step - loss: 0.0032 - binary_accuracy: 0.9999 - val_loss: 0.5728 - val_binary_accuracy: 0.8736\n",
            "Epoch 19/20\n",
            "30/30 [==============================] - 1s 33ms/step - loss: 0.0023 - binary_accuracy: 0.9999 - val_loss: 0.6152 - val_binary_accuracy: 0.8744\n",
            "Epoch 20/20\n",
            "30/30 [==============================] - 1s 34ms/step - loss: 0.0388 - binary_accuracy: 0.9886 - val_loss: 0.5893 - val_binary_accuracy: 0.8736\n"
          ]
        },
        {
          "output_type": "display_data",
          "data": {
            "text/plain": [
              "<Figure size 432x288 with 1 Axes>"
            ],
            "image/png": "[encoded data removed]"
          },
          "metadata": {
            "needs_background": "light"
          }
        },
        {
          "output_type": "display_data",
          "data": {
            "text/plain": [
              "<Figure size 432x288 with 1 Axes>"
            ],
            "image/png": "[encoded data removed]"
          },
          "metadata": {
            "needs_background": "light"
          }
        },
        {
          "output_type": "stream",
          "name": "stdout",
          "text": [
            "Epoch 1/3\n",
            "49/49 [==============================] - 2s 26ms/step - loss: 0.4468 - accuracy: 0.8025\n",
            "Epoch 2/3\n",
            "49/49 [==============================] - 1s 26ms/step - loss: 0.2640 - accuracy: 0.8982\n",
            "Epoch 3/3\n",
            "49/49 [==============================] - 1s 25ms/step - loss: 0.2114 - accuracy: 0.9184\n",
            "782/782 [==============================] - 2s 2ms/step - loss: 0.2911 - accuracy: 0.8821\n"
          ]
        },
        {
          "output_type": "execute_result",
          "data": {
            "text/plain": [
              "[0.2910822033882141, 0.8821200132369995]"
            ]
          },
          "metadata": {},
          "execution_count": 18
        }
      ]
    },
    {
      "cell_type": "markdown",
      "source": [
        "I will now test a model with 128 hidden neurons and 2 hidden layers."
      ],
      "metadata": {
        "id": "Cl5eWMTLagFk"
      }
    },
    {
      "cell_type": "code",
      "source": [
        "from keras import models\n",
        "from tensorflow.keras import layers\n",
        "\n",
        "model = models.Sequential()\n",
        "model.add(layers.Dense(128, activation='relu', input_shape=(10000,)))\n",
        "model.add(layers.Dense(128, activation='relu'))\n",
        "model.add(layers.Dense(1, activation='sigmoid'))\n",
        "\n",
        "model.compile(optimizer='rmsprop',\n",
        "              loss='binary_crossentropy',\n",
        "              metrics=['accuracy'])\n",
        "\n",
        "from keras import optimizers\n",
        "from keras import losses\n",
        "from keras import metrics\n",
        "\n",
        "from tensorflow import keras\n",
        "from keras import optimizers\n",
        "from tensorflow.keras import optimizers\n",
        "from tensorflow.keras import optimizers\n",
        "\n",
        "model.compile(optimizer=optimizers.RMSprop(learning_rate=0.001),\n",
        "              loss = losses.binary_crossentropy,\n",
        "              metrics = [metrics.binary_accuracy])\n",
        "\n",
        "x_val = x_train[:10000]\n",
        "partial_x_train = x_train[10000:]\n",
        "\n",
        "y_val = y_train[:10000]\n",
        "partial_y_train = y_train[10000:]\n",
        "\n",
        "history = model.fit(partial_x_train,\n",
        "                    partial_y_train,\n",
        "                    epochs=20,\n",
        "                    batch_size=512,\n",
        "                    validation_data=(x_val, y_val))\n",
        "\n",
        "history_dict = history.history\n",
        "history_dict.keys()\n",
        "\n",
        "# Plotting the training and validation loss\n",
        "\n",
        "import matplotlib.pyplot as plt\n",
        "\n",
        "Loss_Values = history_dict['loss']\n",
        "Val_Loss_Values = history_dict['val_loss']\n",
        "\n",
        "epochs = range(1, len(Loss_Values) + 1)\n",
        "\n",
        "plt.plot(epochs, Loss_Values, 'bo', label=\"Training Loss\")\n",
        "plt.plot(epochs, Val_Loss_Values, 'b', label=\"Validation Loss\")\n",
        "\n",
        "plt.title('Training and Validation Loss')\n",
        "plt.xlabel('Epochs')\n",
        "plt.ylabel('Loss Value')\n",
        "plt.legend()\n",
        "\n",
        "plt.show()\n",
        "\n",
        "\n",
        "# Plotting the training and validation accuracy\n",
        "# Training and Validation Accuracy\n",
        "\n",
        "Acc_Values = history_dict['binary_accuracy']\n",
        "Val_Acc_Values = history_dict['val_binary_accuracy']\n",
        "\n",
        "epochs = range(1, len(Loss_Values) + 1)\n",
        "\n",
        "plt.plot(epochs, Acc_Values, 'ro', label=\"Training Accuracy\")\n",
        "plt.plot(epochs, Val_Acc_Values, 'r', label=\"Validation Accuracy\")\n",
        "\n",
        "plt.title('Training and Validation Accuraccy')\n",
        "plt.xlabel('Epochs')\n",
        "plt.ylabel('Accuracy')\n",
        "plt.legend()\n",
        "\n",
        "plt.show()\n",
        "\n",
        "\n",
        "model = models.Sequential()\n",
        "model.add(layers.Dense(128, activation='relu', input_shape=(10000,)))\n",
        "model.add(layers.Dense(128, activation='relu'))\n",
        "model.add(layers.Dense(1, activation='sigmoid'))\n",
        "\n",
        "model.compile(optimizer='rmsprop',\n",
        "              loss='binary_crossentropy',\n",
        "              metrics=['accuracy'])\n",
        "\n",
        "model.fit(x_train, y_train, epochs=3, batch_size=512)\n",
        "results = model.evaluate(x_test, y_test)\n",
        "\n",
        "results"
      ],
      "metadata": {
        "colab": {
          "base_uri": "https://localhost:8080/",
          "height": 1000
        },
        "id": "AB_dQi7xak8Z",
        "outputId": "211824ac-c8b2-41a1-d6ac-90eeb76ad5c2"
      },
      "execution_count": null,
      "outputs": [
        {
          "output_type": "stream",
          "name": "stdout",
          "text": [
            "Epoch 1/20\n",
            "30/30 [==============================] - 3s 70ms/step - loss: 0.5303 - binary_accuracy: 0.7341 - val_loss: 0.3676 - val_binary_accuracy: 0.8561\n",
            "Epoch 2/20\n",
            "30/30 [==============================] - 2s 50ms/step - loss: 0.3017 - binary_accuracy: 0.8819 - val_loss: 0.2981 - val_binary_accuracy: 0.8787\n",
            "Epoch 3/20\n",
            "30/30 [==============================] - 2s 62ms/step - loss: 0.2317 - binary_accuracy: 0.9131 - val_loss: 0.3054 - val_binary_accuracy: 0.8756\n",
            "Epoch 4/20\n",
            "30/30 [==============================] - 2s 57ms/step - loss: 0.1894 - binary_accuracy: 0.9262 - val_loss: 0.2945 - val_binary_accuracy: 0.8805\n",
            "Epoch 5/20\n",
            "30/30 [==============================] - 1s 49ms/step - loss: 0.1335 - binary_accuracy: 0.9518 - val_loss: 0.5038 - val_binary_accuracy: 0.8177\n",
            "Epoch 6/20\n",
            "30/30 [==============================] - 2s 51ms/step - loss: 0.1095 - binary_accuracy: 0.9592 - val_loss: 0.4564 - val_binary_accuracy: 0.8451\n",
            "Epoch 7/20\n",
            "30/30 [==============================] - 1s 50ms/step - loss: 0.0963 - binary_accuracy: 0.9680 - val_loss: 0.3219 - val_binary_accuracy: 0.8833\n",
            "Epoch 8/20\n",
            "30/30 [==============================] - 1s 50ms/step - loss: 0.0688 - binary_accuracy: 0.9795 - val_loss: 0.3457 - val_binary_accuracy: 0.8803\n",
            "Epoch 9/20\n",
            "30/30 [==============================] - 1s 50ms/step - loss: 0.0511 - binary_accuracy: 0.9866 - val_loss: 0.4430 - val_binary_accuracy: 0.8568\n",
            "Epoch 10/20\n",
            "30/30 [==============================] - 1s 50ms/step - loss: 0.0197 - binary_accuracy: 0.9976 - val_loss: 0.4449 - val_binary_accuracy: 0.8760\n",
            "Epoch 11/20\n",
            "30/30 [==============================] - 2s 62ms/step - loss: 0.0566 - binary_accuracy: 0.9846 - val_loss: 0.4122 - val_binary_accuracy: 0.8822\n",
            "Epoch 12/20\n",
            "30/30 [==============================] - 2s 58ms/step - loss: 0.0075 - binary_accuracy: 0.9996 - val_loss: 0.5028 - val_binary_accuracy: 0.8766\n",
            "Epoch 13/20\n",
            "30/30 [==============================] - 2s 50ms/step - loss: 0.0561 - binary_accuracy: 0.9837 - val_loss: 0.4603 - val_binary_accuracy: 0.8804\n",
            "Epoch 14/20\n",
            "30/30 [==============================] - 1s 50ms/step - loss: 0.0041 - binary_accuracy: 0.9998 - val_loss: 0.5159 - val_binary_accuracy: 0.8804\n",
            "Epoch 15/20\n",
            "30/30 [==============================] - 2s 53ms/step - loss: 0.0611 - binary_accuracy: 0.9863 - val_loss: 0.4847 - val_binary_accuracy: 0.8786\n",
            "Epoch 16/20\n",
            "30/30 [==============================] - 1s 50ms/step - loss: 0.0026 - binary_accuracy: 1.0000 - val_loss: 0.5397 - val_binary_accuracy: 0.8793\n",
            "Epoch 17/20\n",
            "30/30 [==============================] - 1s 50ms/step - loss: 0.0361 - binary_accuracy: 0.9903 - val_loss: 0.5064 - val_binary_accuracy: 0.8763\n",
            "Epoch 18/20\n",
            "30/30 [==============================] - 1s 50ms/step - loss: 0.0022 - binary_accuracy: 1.0000 - val_loss: 0.5439 - val_binary_accuracy: 0.8785\n",
            "Epoch 19/20\n",
            "30/30 [==============================] - 2s 63ms/step - loss: 0.0013 - binary_accuracy: 1.0000 - val_loss: 0.5954 - val_binary_accuracy: 0.8781\n",
            "Epoch 20/20\n",
            "30/30 [==============================] - 2s 57ms/step - loss: 8.5940e-04 - binary_accuracy: 1.0000 - val_loss: 0.6443 - val_binary_accuracy: 0.8767\n"
          ]
        },
        {
          "output_type": "display_data",
          "data": {
            "text/plain": [
              "<Figure size 432x288 with 1 Axes>"
            ],
            "image/png": "[encoded data removed]"
          },
          "metadata": {
            "needs_background": "light"
          }
        },
        {
          "output_type": "display_data",
          "data": {
            "text/plain": [
              "<Figure size 432x288 with 1 Axes>"
            ],
            "image/png": "[encoded data removed]"
          },
          "metadata": {
            "needs_background": "light"
          }
        },
        {
          "output_type": "stream",
          "name": "stdout",
          "text": [
            "Epoch 1/3\n",
            "49/49 [==============================] - 3s 39ms/step - loss: 0.4507 - accuracy: 0.7842\n",
            "Epoch 2/3\n",
            "49/49 [==============================] - 2s 39ms/step - loss: 0.2698 - accuracy: 0.8924\n",
            "Epoch 3/3\n",
            "49/49 [==============================] - 2s 38ms/step - loss: 0.2126 - accuracy: 0.9164\n",
            "782/782 [==============================] - 3s 3ms/step - loss: 0.2925 - accuracy: 0.8802\n"
          ]
        },
        {
          "output_type": "execute_result",
          "data": {
            "text/plain": [
              "[0.2925280034542084, 0.8801599740982056]"
            ]
          },
          "metadata": {},
          "execution_count": 19
        }
      ]
    },
    {
      "cell_type": "markdown",
      "source": [
        "I will now test 8 hidden neurons with 2 hidden layers to see how it affects the model"
      ],
      "metadata": {
        "id": "LH4bevM7a567"
      }
    },
    {
      "cell_type": "code",
      "source": [
        "from keras import models\n",
        "from tensorflow.keras import layers\n",
        "\n",
        "model = models.Sequential()\n",
        "model.add(layers.Dense(8, activation='relu', input_shape=(10000,)))\n",
        "model.add(layers.Dense(8, activation='relu'))\n",
        "model.add(layers.Dense(1, activation='sigmoid'))\n",
        "\n",
        "model.compile(optimizer='rmsprop',\n",
        "              loss='binary_crossentropy',\n",
        "              metrics=['accuracy'])\n",
        "\n",
        "from keras import optimizers\n",
        "from keras import losses\n",
        "from keras import metrics\n",
        "\n",
        "from tensorflow import keras\n",
        "from keras import optimizers\n",
        "from tensorflow.keras import optimizers\n",
        "from tensorflow.keras import optimizers\n",
        "\n",
        "model.compile(optimizer=optimizers.RMSprop(learning_rate=0.001),\n",
        "              loss = losses.binary_crossentropy,\n",
        "              metrics = [metrics.binary_accuracy])\n",
        "\n",
        "x_val = x_train[:10000]\n",
        "partial_x_train = x_train[10000:]\n",
        "\n",
        "y_val = y_train[:10000]\n",
        "partial_y_train = y_train[10000:]\n",
        "\n",
        "history = model.fit(partial_x_train,\n",
        "                    partial_y_train,\n",
        "                    epochs=20,\n",
        "                    batch_size=512,\n",
        "                    validation_data=(x_val, y_val))\n",
        "\n",
        "history_dict = history.history\n",
        "history_dict.keys()\n",
        "\n",
        "# Plotting the training and validation loss\n",
        "\n",
        "import matplotlib.pyplot as plt\n",
        "\n",
        "Loss_Values = history_dict['loss']\n",
        "Val_Loss_Values = history_dict['val_loss']\n",
        "\n",
        "epochs = range(1, len(Loss_Values) + 1)\n",
        "\n",
        "plt.plot(epochs, Loss_Values, 'bo', label=\"Training Loss\")\n",
        "plt.plot(epochs, Val_Loss_Values, 'b', label=\"Validation Loss\")\n",
        "\n",
        "plt.title('Training and Validation Loss')\n",
        "plt.xlabel('Epochs')\n",
        "plt.ylabel('Loss Value')\n",
        "plt.legend()\n",
        "\n",
        "plt.show()\n",
        "\n",
        "\n",
        "# Plotting the training and validation accuracy\n",
        "# Training and Validation Accuracy\n",
        "\n",
        "Acc_Values = history_dict['binary_accuracy']\n",
        "Val_Acc_Values = history_dict['val_binary_accuracy']\n",
        "\n",
        "epochs = range(1, len(Loss_Values) + 1)\n",
        "\n",
        "plt.plot(epochs, Acc_Values, 'ro', label=\"Training Accuracy\")\n",
        "plt.plot(epochs, Val_Acc_Values, 'r', label=\"Validation Accuracy\")\n",
        "\n",
        "plt.title('Training and Validation Accuraccy')\n",
        "plt.xlabel('Epochs')\n",
        "plt.ylabel('Accuracy')\n",
        "plt.legend()\n",
        "\n",
        "plt.show()\n",
        "\n",
        "\n",
        "model = models.Sequential()\n",
        "model.add(layers.Dense(8, activation='relu', input_shape=(10000,)))\n",
        "model.add(layers.Dense(8, activation='relu'))\n",
        "model.add(layers.Dense(1, activation='sigmoid'))\n",
        "\n",
        "model.compile(optimizer='rmsprop',\n",
        "              loss='binary_crossentropy',\n",
        "              metrics=['accuracy'])\n",
        "\n",
        "model.fit(x_train, y_train, epochs=3, batch_size=512)\n",
        "results = model.evaluate(x_test, y_test)\n",
        "\n",
        "results"
      ],
      "metadata": {
        "colab": {
          "base_uri": "https://localhost:8080/",
          "height": 1000
        },
        "id": "EZ00ZmMca-vQ",
        "outputId": "8a53b4c4-03fc-4aa7-d6ae-519981dc8f74"
      },
      "execution_count": null,
      "outputs": [
        {
          "output_type": "stream",
          "name": "stdout",
          "text": [
            "Epoch 1/20\n",
            "30/30 [==============================] - 2s 38ms/step - loss: 0.5525 - binary_accuracy: 0.7653 - val_loss: 0.4318 - val_binary_accuracy: 0.8593\n",
            "Epoch 2/20\n",
            "30/30 [==============================] - 1s 19ms/step - loss: 0.3568 - binary_accuracy: 0.8912 - val_loss: 0.3555 - val_binary_accuracy: 0.8687\n",
            "Epoch 3/20\n",
            "30/30 [==============================] - 1s 19ms/step - loss: 0.2730 - binary_accuracy: 0.9159 - val_loss: 0.3025 - val_binary_accuracy: 0.8859\n",
            "Epoch 4/20\n",
            "30/30 [==============================] - 1s 20ms/step - loss: 0.2235 - binary_accuracy: 0.9299 - val_loss: 0.2845 - val_binary_accuracy: 0.8881\n",
            "Epoch 5/20\n",
            "30/30 [==============================] - 1s 22ms/step - loss: 0.1865 - binary_accuracy: 0.9417 - val_loss: 0.2820 - val_binary_accuracy: 0.8870\n",
            "Epoch 6/20\n",
            "30/30 [==============================] - 1s 23ms/step - loss: 0.1618 - binary_accuracy: 0.9482 - val_loss: 0.2754 - val_binary_accuracy: 0.8884\n",
            "Epoch 7/20\n",
            "30/30 [==============================] - 1s 28ms/step - loss: 0.1401 - binary_accuracy: 0.9583 - val_loss: 0.2783 - val_binary_accuracy: 0.8872\n",
            "Epoch 8/20\n",
            "30/30 [==============================] - 1s 19ms/step - loss: 0.1212 - binary_accuracy: 0.9661 - val_loss: 0.2866 - val_binary_accuracy: 0.8841\n",
            "Epoch 9/20\n",
            "30/30 [==============================] - 1s 19ms/step - loss: 0.1067 - binary_accuracy: 0.9700 - val_loss: 0.2966 - val_binary_accuracy: 0.8863\n",
            "Epoch 10/20\n",
            "30/30 [==============================] - 1s 19ms/step - loss: 0.0919 - binary_accuracy: 0.9736 - val_loss: 0.3121 - val_binary_accuracy: 0.8802\n",
            "Epoch 11/20\n",
            "30/30 [==============================] - 1s 20ms/step - loss: 0.0804 - binary_accuracy: 0.9793 - val_loss: 0.3244 - val_binary_accuracy: 0.8837\n",
            "Epoch 12/20\n",
            "30/30 [==============================] - 1s 19ms/step - loss: 0.0709 - binary_accuracy: 0.9825 - val_loss: 0.3625 - val_binary_accuracy: 0.8715\n",
            "Epoch 13/20\n",
            "30/30 [==============================] - 1s 19ms/step - loss: 0.0597 - binary_accuracy: 0.9869 - val_loss: 0.3481 - val_binary_accuracy: 0.8796\n",
            "Epoch 14/20\n",
            "30/30 [==============================] - 1s 20ms/step - loss: 0.0538 - binary_accuracy: 0.9884 - val_loss: 0.3645 - val_binary_accuracy: 0.8774\n",
            "Epoch 15/20\n",
            "30/30 [==============================] - 1s 19ms/step - loss: 0.0443 - binary_accuracy: 0.9913 - val_loss: 0.3795 - val_binary_accuracy: 0.8773\n",
            "Epoch 16/20\n",
            "30/30 [==============================] - 1s 19ms/step - loss: 0.0383 - binary_accuracy: 0.9936 - val_loss: 0.3957 - val_binary_accuracy: 0.8756\n",
            "Epoch 17/20\n",
            "30/30 [==============================] - 1s 19ms/step - loss: 0.0343 - binary_accuracy: 0.9940 - val_loss: 0.4196 - val_binary_accuracy: 0.8719\n",
            "Epoch 18/20\n",
            "30/30 [==============================] - 1s 19ms/step - loss: 0.0282 - binary_accuracy: 0.9961 - val_loss: 0.4346 - val_binary_accuracy: 0.8765\n",
            "Epoch 19/20\n",
            "30/30 [==============================] - 1s 19ms/step - loss: 0.0231 - binary_accuracy: 0.9975 - val_loss: 0.4539 - val_binary_accuracy: 0.8724\n",
            "Epoch 20/20\n",
            "30/30 [==============================] - 1s 19ms/step - loss: 0.0206 - binary_accuracy: 0.9979 - val_loss: 0.4836 - val_binary_accuracy: 0.8736\n"
          ]
        },
        {
          "output_type": "display_data",
          "data": {
            "text/plain": [
              "<Figure size 432x288 with 1 Axes>"
            ],
            "image/png": "[encoded data removed]"
          },
          "metadata": {
            "needs_background": "light"
          }
        },
        {
          "output_type": "display_data",
          "data": {
            "text/plain": [
              "<Figure size 432x288 with 1 Axes>"
            ],
            "image/png": "[encoded data removed]"
          },
          "metadata": {
            "needs_background": "light"
          }
        },
        {
          "output_type": "stream",
          "name": "stdout",
          "text": [
            "Epoch 1/3\n",
            "49/49 [==============================] - 1s 14ms/step - loss: 0.5223 - accuracy: 0.8020\n",
            "Epoch 2/3\n",
            "49/49 [==============================] - 1s 14ms/step - loss: 0.3223 - accuracy: 0.8953\n",
            "Epoch 3/3\n",
            "49/49 [==============================] - 1s 14ms/step - loss: 0.2415 - accuracy: 0.9163\n",
            "782/782 [==============================] - 2s 2ms/step - loss: 0.2835 - accuracy: 0.8896\n"
          ]
        },
        {
          "output_type": "execute_result",
          "data": {
            "text/plain": [
              "[0.2835099697113037, 0.8896399736404419]"
            ]
          },
          "metadata": {},
          "execution_count": 20
        }
      ]
    },
    {
      "cell_type": "markdown",
      "source": [
        "Part 3 of the assignment - testing the mse loss function instead of the binary crossentropy"
      ],
      "metadata": {
        "id": "efNmBvFocBOE"
      }
    },
    {
      "cell_type": "code",
      "source": [
        "from keras import models\n",
        "from tensorflow.keras import layers\n",
        "\n",
        "model = models.Sequential()\n",
        "model.add(layers.Dense(16, activation='relu', input_shape=(10000,)))\n",
        "model.add(layers.Dense(16, activation='relu'))\n",
        "model.add(layers.Dense(1, activation='sigmoid'))\n",
        "\n",
        "model.compile(optimizer='rmsprop',\n",
        "              loss='MSE',\n",
        "              metrics=['accuracy'])\n",
        "\n",
        "from keras import optimizers\n",
        "from keras import losses\n",
        "from keras import metrics\n",
        "\n",
        "from tensorflow import keras\n",
        "from keras import optimizers\n",
        "from tensorflow.keras import optimizers\n",
        "from tensorflow.keras import optimizers\n",
        "\n",
        "model.compile(optimizer=optimizers.RMSprop(learning_rate=0.001),\n",
        "              loss = losses.MSE,\n",
        "              metrics = [metrics.binary_accuracy])\n",
        "\n",
        "x_val = x_train[:10000]\n",
        "partial_x_train = x_train[10000:]\n",
        "\n",
        "y_val = y_train[:10000]\n",
        "partial_y_train = y_train[10000:]\n",
        "\n",
        "history = model.fit(partial_x_train,\n",
        "                    partial_y_train,\n",
        "                    epochs=20,\n",
        "                    batch_size=512,\n",
        "                    validation_data=(x_val, y_val))\n",
        "\n",
        "history_dict = history.history\n",
        "history_dict.keys()\n",
        "\n",
        "# Plotting the training and validation loss\n",
        "\n",
        "import matplotlib.pyplot as plt\n",
        "\n",
        "Loss_Values = history_dict['loss']\n",
        "Val_Loss_Values = history_dict['val_loss']\n",
        "\n",
        "epochs = range(1, len(Loss_Values) + 1)\n",
        "\n",
        "plt.plot(epochs, Loss_Values, 'bo', label=\"Training Loss\")\n",
        "plt.plot(epochs, Val_Loss_Values, 'b', label=\"Validation Loss\")\n",
        "\n",
        "plt.title('Training and Validation Loss')\n",
        "plt.xlabel('Epochs')\n",
        "plt.ylabel('Loss Value')\n",
        "plt.legend()\n",
        "\n",
        "plt.show()\n",
        "\n",
        "\n",
        "# Plotting the training and validation accuracy\n",
        "# Training and Validation Accuracy\n",
        "\n",
        "Acc_Values = history_dict['binary_accuracy']\n",
        "Val_Acc_Values = history_dict['val_binary_accuracy']\n",
        "\n",
        "epochs = range(1, len(Loss_Values) + 1)\n",
        "\n",
        "plt.plot(epochs, Acc_Values, 'ro', label=\"Training Accuracy\")\n",
        "plt.plot(epochs, Val_Acc_Values, 'r', label=\"Validation Accuracy\")\n",
        "\n",
        "plt.title('Training and Validation Accuraccy')\n",
        "plt.xlabel('Epochs')\n",
        "plt.ylabel('Accuracy')\n",
        "plt.legend()\n",
        "\n",
        "plt.show()\n",
        "\n",
        "\n",
        "model = models.Sequential()\n",
        "model.add(layers.Dense(16, activation='relu', input_shape=(10000,)))\n",
        "model.add(layers.Dense(16, activation='relu'))\n",
        "model.add(layers.Dense(1, activation='sigmoid'))\n",
        "\n",
        "model.compile(optimizer='rmsprop',\n",
        "              loss='MSE',\n",
        "              metrics=['accuracy'])\n",
        "\n",
        "model.fit(x_train, y_train, epochs=3, batch_size=512)\n",
        "results = model.evaluate(x_test, y_test)\n",
        "\n",
        "results"
      ],
      "metadata": {
        "colab": {
          "base_uri": "https://localhost:8080/",
          "height": 1000
        },
        "id": "CCwWkRbDcMOe",
        "outputId": "02d708cb-9da9-4c4f-f2f4-0df68457b1c8"
      },
      "execution_count": null,
      "outputs": [
        {
          "output_type": "stream",
          "name": "stdout",
          "text": [
            "Epoch 1/20\n",
            "30/30 [==============================] - 2s 44ms/step - loss: 0.1823 - binary_accuracy: 0.7627 - val_loss: 0.1304 - val_binary_accuracy: 0.8585\n",
            "Epoch 2/20\n",
            "30/30 [==============================] - 1s 20ms/step - loss: 0.1063 - binary_accuracy: 0.8860 - val_loss: 0.1033 - val_binary_accuracy: 0.8742\n",
            "Epoch 3/20\n",
            "30/30 [==============================] - 1s 26ms/step - loss: 0.0788 - binary_accuracy: 0.9151 - val_loss: 0.0903 - val_binary_accuracy: 0.8851\n",
            "Epoch 4/20\n",
            "30/30 [==============================] - 1s 29ms/step - loss: 0.0643 - binary_accuracy: 0.9275 - val_loss: 0.0863 - val_binary_accuracy: 0.8872\n",
            "Epoch 5/20\n",
            "30/30 [==============================] - 1s 24ms/step - loss: 0.0554 - binary_accuracy: 0.9385 - val_loss: 0.0835 - val_binary_accuracy: 0.8863\n",
            "Epoch 6/20\n",
            "30/30 [==============================] - 1s 21ms/step - loss: 0.0493 - binary_accuracy: 0.9455 - val_loss: 0.0831 - val_binary_accuracy: 0.8862\n",
            "Epoch 7/20\n",
            "30/30 [==============================] - 1s 20ms/step - loss: 0.0421 - binary_accuracy: 0.9561 - val_loss: 0.0845 - val_binary_accuracy: 0.8833\n",
            "Epoch 8/20\n",
            "30/30 [==============================] - 1s 21ms/step - loss: 0.0378 - binary_accuracy: 0.9613 - val_loss: 0.0861 - val_binary_accuracy: 0.8794\n",
            "Epoch 9/20\n",
            "30/30 [==============================] - 1s 20ms/step - loss: 0.0331 - binary_accuracy: 0.9683 - val_loss: 0.0891 - val_binary_accuracy: 0.8775\n",
            "Epoch 10/20\n",
            "30/30 [==============================] - 1s 19ms/step - loss: 0.0303 - binary_accuracy: 0.9704 - val_loss: 0.0882 - val_binary_accuracy: 0.8810\n",
            "Epoch 11/20\n",
            "30/30 [==============================] - 1s 20ms/step - loss: 0.0264 - binary_accuracy: 0.9765 - val_loss: 0.0877 - val_binary_accuracy: 0.8796\n",
            "Epoch 12/20\n",
            "30/30 [==============================] - 1s 20ms/step - loss: 0.0242 - binary_accuracy: 0.9782 - val_loss: 0.0977 - val_binary_accuracy: 0.8700\n",
            "Epoch 13/20\n",
            "30/30 [==============================] - 1s 19ms/step - loss: 0.0210 - binary_accuracy: 0.9832 - val_loss: 0.0903 - val_binary_accuracy: 0.8776\n",
            "Epoch 14/20\n",
            "30/30 [==============================] - 1s 19ms/step - loss: 0.0191 - binary_accuracy: 0.9845 - val_loss: 0.0944 - val_binary_accuracy: 0.8757\n",
            "Epoch 15/20\n",
            "30/30 [==============================] - 1s 19ms/step - loss: 0.0176 - binary_accuracy: 0.9862 - val_loss: 0.0941 - val_binary_accuracy: 0.8741\n",
            "Epoch 16/20\n",
            "30/30 [==============================] - 1s 20ms/step - loss: 0.0166 - binary_accuracy: 0.9867 - val_loss: 0.0953 - val_binary_accuracy: 0.8746\n",
            "Epoch 17/20\n",
            "30/30 [==============================] - 1s 20ms/step - loss: 0.0143 - binary_accuracy: 0.9883 - val_loss: 0.0950 - val_binary_accuracy: 0.8750\n",
            "Epoch 18/20\n",
            "30/30 [==============================] - 1s 19ms/step - loss: 0.0136 - binary_accuracy: 0.9893 - val_loss: 0.0984 - val_binary_accuracy: 0.8715\n",
            "Epoch 19/20\n",
            "30/30 [==============================] - 1s 19ms/step - loss: 0.0122 - binary_accuracy: 0.9907 - val_loss: 0.1006 - val_binary_accuracy: 0.8703\n",
            "Epoch 20/20\n",
            "30/30 [==============================] - 1s 20ms/step - loss: 0.0114 - binary_accuracy: 0.9906 - val_loss: 0.0982 - val_binary_accuracy: 0.8730\n"
          ]
        },
        {
          "output_type": "display_data",
          "data": {
            "text/plain": [
              "<Figure size 432x288 with 1 Axes>"
            ],
            "image/png": "[encoded data removed]"
          },
          "metadata": {
            "needs_background": "light"
          }
        },
        {
          "output_type": "display_data",
          "data": {
            "text/plain": [
              "<Figure size 432x288 with 1 Axes>"
            ],
            "image/png": "[encoded data removed]"
          },
          "metadata": {
            "needs_background": "light"
          }
        },
        {
          "output_type": "stream",
          "name": "stdout",
          "text": [
            "Epoch 1/3\n",
            "49/49 [==============================] - 1s 19ms/step - loss: 0.1764 - accuracy: 0.7744\n",
            "Epoch 2/3\n",
            "49/49 [==============================] - 1s 17ms/step - loss: 0.0959 - accuracy: 0.8939\n",
            "Epoch 3/3\n",
            "49/49 [==============================] - 1s 14ms/step - loss: 0.0722 - accuracy: 0.9158\n",
            "782/782 [==============================] - 1s 2ms/step - loss: 0.0857 - accuracy: 0.8882\n"
          ]
        },
        {
          "output_type": "execute_result",
          "data": {
            "text/plain": [
              "[0.08573915809392929, 0.8882399797439575]"
            ]
          },
          "metadata": {},
          "execution_count": 21
        }
      ]
    },
    {
      "cell_type": "markdown",
      "source": [
        "Testing the MSE with 32 neurons instead of 16"
      ],
      "metadata": {
        "id": "oy2T-qe79uw4"
      }
    },
    {
      "cell_type": "code",
      "source": [
        "from keras import models\n",
        "from tensorflow.keras import layers\n",
        "\n",
        "model = models.Sequential()\n",
        "model.add(layers.Dense(32, activation='relu', input_shape=(10000,)))\n",
        "model.add(layers.Dense(32, activation='relu'))\n",
        "model.add(layers.Dense(1, activation='sigmoid'))\n",
        "\n",
        "model.compile(optimizer='rmsprop',\n",
        "              loss='MSE',\n",
        "              metrics=['accuracy'])\n",
        "\n",
        "from keras import optimizers\n",
        "from keras import losses\n",
        "from keras import metrics\n",
        "\n",
        "from tensorflow import keras\n",
        "from keras import optimizers\n",
        "from tensorflow.keras import optimizers\n",
        "from tensorflow.keras import optimizers\n",
        "\n",
        "model.compile(optimizer=optimizers.RMSprop(learning_rate=0.001),\n",
        "              loss = losses.MSE,\n",
        "              metrics = [metrics.binary_accuracy])\n",
        "\n",
        "x_val = x_train[:10000]\n",
        "partial_x_train = x_train[10000:]\n",
        "\n",
        "y_val = y_train[:10000]\n",
        "partial_y_train = y_train[10000:]\n",
        "\n",
        "history = model.fit(partial_x_train,\n",
        "                    partial_y_train,\n",
        "                    epochs=20,\n",
        "                    batch_size=512,\n",
        "                    validation_data=(x_val, y_val))\n",
        "\n",
        "history_dict = history.history\n",
        "history_dict.keys()\n",
        "\n",
        "# Plotting the training and validation loss\n",
        "\n",
        "import matplotlib.pyplot as plt\n",
        "\n",
        "Loss_Values = history_dict['loss']\n",
        "Val_Loss_Values = history_dict['val_loss']\n",
        "\n",
        "epochs = range(1, len(Loss_Values) + 1)\n",
        "\n",
        "plt.plot(epochs, Loss_Values, 'bo', label=\"Training Loss\")\n",
        "plt.plot(epochs, Val_Loss_Values, 'b', label=\"Validation Loss\")\n",
        "\n",
        "plt.title('Training and Validation Loss')\n",
        "plt.xlabel('Epochs')\n",
        "plt.ylabel('Loss Value')\n",
        "plt.legend()\n",
        "\n",
        "plt.show()\n",
        "\n",
        "\n",
        "# Plotting the training and validation accuracy\n",
        "# Training and Validation Accuracy\n",
        "\n",
        "Acc_Values = history_dict['binary_accuracy']\n",
        "Val_Acc_Values = history_dict['val_binary_accuracy']\n",
        "\n",
        "epochs = range(1, len(Loss_Values) + 1)\n",
        "\n",
        "plt.plot(epochs, Acc_Values, 'ro', label=\"Training Accuracy\")\n",
        "plt.plot(epochs, Val_Acc_Values, 'r', label=\"Validation Accuracy\")\n",
        "\n",
        "plt.title('Training and Validation Accuraccy')\n",
        "plt.xlabel('Epochs')\n",
        "plt.ylabel('Accuracy')\n",
        "plt.legend()\n",
        "\n",
        "plt.show()\n",
        "\n",
        "\n",
        "model = models.Sequential()\n",
        "model.add(layers.Dense(32, activation='relu', input_shape=(10000,)))\n",
        "model.add(layers.Dense(32, activation='relu'))\n",
        "model.add(layers.Dense(1, activation='sigmoid'))\n",
        "\n",
        "model.compile(optimizer='rmsprop',\n",
        "              loss='MSE',\n",
        "              metrics=['accuracy'])\n",
        "\n",
        "model.fit(x_train, y_train, epochs=3, batch_size=512)\n",
        "results = model.evaluate(x_test, y_test)\n",
        "\n",
        "results"
      ],
      "metadata": {
        "colab": {
          "base_uri": "https://localhost:8080/",
          "height": 1000
        },
        "id": "LWseBVRW9tuG",
        "outputId": "b8c60a76-c9c9-4615-d375-9b4a31b02d88"
      },
      "execution_count": 13,
      "outputs": [
        {
          "output_type": "stream",
          "name": "stdout",
          "text": [
            "Epoch 1/20\n",
            "30/30 [==============================] - 2s 41ms/step - loss: 0.1824 - binary_accuracy: 0.7583 - val_loss: 0.1379 - val_binary_accuracy: 0.8261\n",
            "Epoch 2/20\n",
            "30/30 [==============================] - 1s 23ms/step - loss: 0.1052 - binary_accuracy: 0.8784 - val_loss: 0.1041 - val_binary_accuracy: 0.8705\n",
            "Epoch 3/20\n",
            "30/30 [==============================] - 1s 23ms/step - loss: 0.0799 - binary_accuracy: 0.9066 - val_loss: 0.0879 - val_binary_accuracy: 0.8870\n",
            "Epoch 4/20\n",
            "30/30 [==============================] - 1s 28ms/step - loss: 0.0657 - binary_accuracy: 0.9225 - val_loss: 0.0875 - val_binary_accuracy: 0.8834\n",
            "Epoch 5/20\n",
            "30/30 [==============================] - 1s 28ms/step - loss: 0.0553 - binary_accuracy: 0.9349 - val_loss: 0.0837 - val_binary_accuracy: 0.8862\n",
            "Epoch 6/20\n",
            "30/30 [==============================] - 1s 32ms/step - loss: 0.0503 - binary_accuracy: 0.9405 - val_loss: 0.0843 - val_binary_accuracy: 0.8860\n",
            "Epoch 7/20\n",
            "30/30 [==============================] - 1s 23ms/step - loss: 0.0431 - binary_accuracy: 0.9524 - val_loss: 0.0861 - val_binary_accuracy: 0.8848\n",
            "Epoch 8/20\n",
            "30/30 [==============================] - 1s 24ms/step - loss: 0.0391 - binary_accuracy: 0.9568 - val_loss: 0.0843 - val_binary_accuracy: 0.8839\n",
            "Epoch 9/20\n",
            "30/30 [==============================] - 1s 23ms/step - loss: 0.0344 - binary_accuracy: 0.9632 - val_loss: 0.0855 - val_binary_accuracy: 0.8829\n",
            "Epoch 10/20\n",
            "30/30 [==============================] - 1s 24ms/step - loss: 0.0309 - binary_accuracy: 0.9667 - val_loss: 0.0866 - val_binary_accuracy: 0.8814\n",
            "Epoch 11/20\n",
            "30/30 [==============================] - 1s 24ms/step - loss: 0.0273 - binary_accuracy: 0.9735 - val_loss: 0.0947 - val_binary_accuracy: 0.8717\n",
            "Epoch 12/20\n",
            "30/30 [==============================] - 1s 23ms/step - loss: 0.0251 - binary_accuracy: 0.9753 - val_loss: 0.0892 - val_binary_accuracy: 0.8802\n",
            "Epoch 13/20\n",
            "30/30 [==============================] - 1s 23ms/step - loss: 0.0220 - binary_accuracy: 0.9798 - val_loss: 0.1033 - val_binary_accuracy: 0.8664\n",
            "Epoch 14/20\n",
            "30/30 [==============================] - 1s 24ms/step - loss: 0.0214 - binary_accuracy: 0.9799 - val_loss: 0.0923 - val_binary_accuracy: 0.8768\n",
            "Epoch 15/20\n",
            "30/30 [==============================] - 1s 24ms/step - loss: 0.0174 - binary_accuracy: 0.9843 - val_loss: 0.0935 - val_binary_accuracy: 0.8761\n",
            "Epoch 16/20\n",
            "30/30 [==============================] - 1s 24ms/step - loss: 0.0154 - binary_accuracy: 0.9869 - val_loss: 0.0960 - val_binary_accuracy: 0.8776\n",
            "Epoch 17/20\n",
            "30/30 [==============================] - 1s 28ms/step - loss: 0.0153 - binary_accuracy: 0.9864 - val_loss: 0.0970 - val_binary_accuracy: 0.8763\n",
            "Epoch 18/20\n",
            "30/30 [==============================] - 1s 23ms/step - loss: 0.0140 - binary_accuracy: 0.9872 - val_loss: 0.0974 - val_binary_accuracy: 0.8770\n",
            "Epoch 19/20\n",
            "30/30 [==============================] - 1s 23ms/step - loss: 0.0141 - binary_accuracy: 0.9855 - val_loss: 0.0973 - val_binary_accuracy: 0.8752\n",
            "Epoch 20/20\n",
            "30/30 [==============================] - 1s 22ms/step - loss: 0.0130 - binary_accuracy: 0.9868 - val_loss: 0.0981 - val_binary_accuracy: 0.8761\n"
          ]
        },
        {
          "output_type": "display_data",
          "data": {
            "text/plain": [
              "<Figure size 432x288 with 1 Axes>"
            ],
            "image/png": "[encoded data removed]"
          },
          "metadata": {
            "needs_background": "light"
          }
        },
        {
          "output_type": "display_data",
          "data": {
            "text/plain": [
              "<Figure size 432x288 with 1 Axes>"
            ],
            "image/png": "[encoded data removed]"
          },
          "metadata": {
            "needs_background": "light"
          }
        },
        {
          "output_type": "stream",
          "name": "stdout",
          "text": [
            "Epoch 1/3\n",
            "49/49 [==============================] - 1s 18ms/step - loss: 0.1517 - accuracy: 0.7979\n",
            "Epoch 2/3\n",
            "49/49 [==============================] - 1s 17ms/step - loss: 0.0846 - accuracy: 0.8950\n",
            "Epoch 3/3\n",
            "49/49 [==============================] - 1s 17ms/step - loss: 0.0684 - accuracy: 0.9142\n",
            "782/782 [==============================] - 2s 2ms/step - loss: 0.0844 - accuracy: 0.8853\n"
          ]
        },
        {
          "output_type": "execute_result",
          "data": {
            "text/plain": [
              "[0.08441386371850967, 0.8853200078010559]"
            ]
          },
          "metadata": {},
          "execution_count": 13
        }
      ]
    },
    {
      "cell_type": "markdown",
      "source": [
        "Now trying with 64 neurons, 2 hidden layers, with MSE activation function"
      ],
      "metadata": {
        "id": "yQf5T-Db-GBo"
      }
    },
    {
      "cell_type": "code",
      "source": [
        "from keras import models\n",
        "from tensorflow.keras import layers\n",
        "\n",
        "model = models.Sequential()\n",
        "model.add(layers.Dense(64, activation='relu', input_shape=(10000,)))\n",
        "model.add(layers.Dense(64, activation='relu'))\n",
        "model.add(layers.Dense(1, activation='sigmoid'))\n",
        "\n",
        "model.compile(optimizer='rmsprop',\n",
        "              loss='MSE',\n",
        "              metrics=['accuracy'])\n",
        "\n",
        "from keras import optimizers\n",
        "from keras import losses\n",
        "from keras import metrics\n",
        "\n",
        "from tensorflow import keras\n",
        "from keras import optimizers\n",
        "from tensorflow.keras import optimizers\n",
        "from tensorflow.keras import optimizers\n",
        "\n",
        "model.compile(optimizer=optimizers.RMSprop(learning_rate=0.001),\n",
        "              loss = losses.MSE,\n",
        "              metrics = [metrics.binary_accuracy])\n",
        "\n",
        "x_val = x_train[:10000]\n",
        "partial_x_train = x_train[10000:]\n",
        "\n",
        "y_val = y_train[:10000]\n",
        "partial_y_train = y_train[10000:]\n",
        "\n",
        "history = model.fit(partial_x_train,\n",
        "                    partial_y_train,\n",
        "                    epochs=20,\n",
        "                    batch_size=512,\n",
        "                    validation_data=(x_val, y_val))\n",
        "\n",
        "history_dict = history.history\n",
        "history_dict.keys()\n",
        "\n",
        "# Plotting the training and validation loss\n",
        "\n",
        "import matplotlib.pyplot as plt\n",
        "\n",
        "Loss_Values = history_dict['loss']\n",
        "Val_Loss_Values = history_dict['val_loss']\n",
        "\n",
        "epochs = range(1, len(Loss_Values) + 1)\n",
        "\n",
        "plt.plot(epochs, Loss_Values, 'bo', label=\"Training Loss\")\n",
        "plt.plot(epochs, Val_Loss_Values, 'b', label=\"Validation Loss\")\n",
        "\n",
        "plt.title('Training and Validation Loss')\n",
        "plt.xlabel('Epochs')\n",
        "plt.ylabel('Loss Value')\n",
        "plt.legend()\n",
        "\n",
        "plt.show()\n",
        "\n",
        "\n",
        "# Plotting the training and validation accuracy\n",
        "# Training and Validation Accuracy\n",
        "\n",
        "Acc_Values = history_dict['binary_accuracy']\n",
        "Val_Acc_Values = history_dict['val_binary_accuracy']\n",
        "\n",
        "epochs = range(1, len(Loss_Values) + 1)\n",
        "\n",
        "plt.plot(epochs, Acc_Values, 'ro', label=\"Training Accuracy\")\n",
        "plt.plot(epochs, Val_Acc_Values, 'r', label=\"Validation Accuracy\")\n",
        "\n",
        "plt.title('Training and Validation Accuraccy')\n",
        "plt.xlabel('Epochs')\n",
        "plt.ylabel('Accuracy')\n",
        "plt.legend()\n",
        "\n",
        "plt.show()\n",
        "\n",
        "\n",
        "model = models.Sequential()\n",
        "model.add(layers.Dense(64, activation='relu', input_shape=(10000,)))\n",
        "model.add(layers.Dense(64, activation='relu'))\n",
        "model.add(layers.Dense(1, activation='sigmoid'))\n",
        "\n",
        "model.compile(optimizer='rmsprop',\n",
        "              loss='MSE',\n",
        "              metrics=['accuracy'])\n",
        "\n",
        "model.fit(x_train, y_train, epochs=3, batch_size=512)\n",
        "results = model.evaluate(x_test, y_test)\n",
        "\n",
        "results"
      ],
      "metadata": {
        "colab": {
          "base_uri": "https://localhost:8080/",
          "height": 1000
        },
        "id": "S_6ojvvn-K4a",
        "outputId": "32b0fd97-5451-4b1b-c188-16fbe6459b0b"
      },
      "execution_count": 14,
      "outputs": [
        {
          "output_type": "stream",
          "name": "stdout",
          "text": [
            "Epoch 1/20\n",
            "30/30 [==============================] - 2s 52ms/step - loss: 0.1721 - binary_accuracy: 0.7547 - val_loss: 0.1536 - val_binary_accuracy: 0.7748\n",
            "Epoch 2/20\n",
            "30/30 [==============================] - 1s 39ms/step - loss: 0.1004 - binary_accuracy: 0.8703 - val_loss: 0.0931 - val_binary_accuracy: 0.8765\n",
            "Epoch 3/20\n",
            "30/30 [==============================] - 1s 39ms/step - loss: 0.0782 - binary_accuracy: 0.9016 - val_loss: 0.0850 - val_binary_accuracy: 0.8862\n",
            "Epoch 4/20\n",
            "30/30 [==============================] - 1s 42ms/step - loss: 0.0642 - binary_accuracy: 0.9184 - val_loss: 0.0877 - val_binary_accuracy: 0.8835\n",
            "Epoch 5/20\n",
            "30/30 [==============================] - 1s 34ms/step - loss: 0.0529 - binary_accuracy: 0.9351 - val_loss: 0.0832 - val_binary_accuracy: 0.8862\n",
            "Epoch 6/20\n",
            "30/30 [==============================] - 1s 32ms/step - loss: 0.0469 - binary_accuracy: 0.9427 - val_loss: 0.0847 - val_binary_accuracy: 0.8820\n",
            "Epoch 7/20\n",
            "30/30 [==============================] - 1s 32ms/step - loss: 0.0396 - binary_accuracy: 0.9537 - val_loss: 0.0974 - val_binary_accuracy: 0.8673\n",
            "Epoch 8/20\n",
            "30/30 [==============================] - 1s 32ms/step - loss: 0.0392 - binary_accuracy: 0.9530 - val_loss: 0.0930 - val_binary_accuracy: 0.8759\n",
            "Epoch 9/20\n",
            "30/30 [==============================] - 1s 32ms/step - loss: 0.0282 - binary_accuracy: 0.9702 - val_loss: 0.0889 - val_binary_accuracy: 0.8797\n",
            "Epoch 10/20\n",
            "30/30 [==============================] - 1s 33ms/step - loss: 0.0273 - binary_accuracy: 0.9707 - val_loss: 0.1024 - val_binary_accuracy: 0.8688\n",
            "Epoch 11/20\n",
            "30/30 [==============================] - 1s 33ms/step - loss: 0.0259 - binary_accuracy: 0.9711 - val_loss: 0.0914 - val_binary_accuracy: 0.8805\n",
            "Epoch 12/20\n",
            "30/30 [==============================] - 1s 33ms/step - loss: 0.0190 - binary_accuracy: 0.9815 - val_loss: 0.1050 - val_binary_accuracy: 0.8654\n",
            "Epoch 13/20\n",
            "30/30 [==============================] - 1s 33ms/step - loss: 0.0183 - binary_accuracy: 0.9814 - val_loss: 0.0942 - val_binary_accuracy: 0.8787\n",
            "Epoch 14/20\n",
            "30/30 [==============================] - 1s 32ms/step - loss: 0.0170 - binary_accuracy: 0.9817 - val_loss: 0.0961 - val_binary_accuracy: 0.8777\n",
            "Epoch 15/20\n",
            "30/30 [==============================] - 1s 38ms/step - loss: 0.0168 - binary_accuracy: 0.9823 - val_loss: 0.0957 - val_binary_accuracy: 0.8781\n",
            "Epoch 16/20\n",
            "30/30 [==============================] - 1s 42ms/step - loss: 0.0154 - binary_accuracy: 0.9833 - val_loss: 0.0969 - val_binary_accuracy: 0.8772\n",
            "Epoch 17/20\n",
            "30/30 [==============================] - 1s 35ms/step - loss: 0.0083 - binary_accuracy: 0.9929 - val_loss: 0.1038 - val_binary_accuracy: 0.8697\n",
            "Epoch 18/20\n",
            "30/30 [==============================] - 1s 33ms/step - loss: 0.0149 - binary_accuracy: 0.9839 - val_loss: 0.1052 - val_binary_accuracy: 0.8679\n",
            "Epoch 19/20\n",
            "30/30 [==============================] - 1s 32ms/step - loss: 0.0142 - binary_accuracy: 0.9842 - val_loss: 0.0982 - val_binary_accuracy: 0.8790\n",
            "Epoch 20/20\n",
            "30/30 [==============================] - 1s 32ms/step - loss: 0.0067 - binary_accuracy: 0.9940 - val_loss: 0.0993 - val_binary_accuracy: 0.8783\n"
          ]
        },
        {
          "output_type": "display_data",
          "data": {
            "text/plain": [
              "<Figure size 432x288 with 1 Axes>"
            ],
            "image/png": "[encoded data removed]"
          },
          "metadata": {
            "needs_background": "light"
          }
        },
        {
          "output_type": "display_data",
          "data": {
            "text/plain": [
              "<Figure size 432x288 with 1 Axes>"
            ],
            "image/png": "[encoded data removed]"
          },
          "metadata": {
            "needs_background": "light"
          }
        },
        {
          "output_type": "stream",
          "name": "stdout",
          "text": [
            "Epoch 1/3\n",
            "49/49 [==============================] - 2s 24ms/step - loss: 0.1526 - accuracy: 0.7918\n",
            "Epoch 2/3\n",
            "49/49 [==============================] - 1s 24ms/step - loss: 0.0871 - accuracy: 0.8873\n",
            "Epoch 3/3\n",
            "49/49 [==============================] - 1s 23ms/step - loss: 0.0695 - accuracy: 0.9098\n",
            "782/782 [==============================] - 2s 2ms/step - loss: 0.0837 - accuracy: 0.8875\n"
          ]
        },
        {
          "output_type": "execute_result",
          "data": {
            "text/plain": [
              "[0.08365724980831146, 0.8875200152397156]"
            ]
          },
          "metadata": {},
          "execution_count": 14
        }
      ]
    },
    {
      "cell_type": "markdown",
      "source": [
        "Part 4 of the assignment - using the tanh activation instead of relu "
      ],
      "metadata": {
        "id": "YbK708nBeicS"
      }
    },
    {
      "cell_type": "code",
      "source": [
        "from keras import models\n",
        "from tensorflow.keras import layers\n",
        "\n",
        "model = models.Sequential()\n",
        "model.add(layers.Dense(16, activation='tanh', input_shape=(10000,)))\n",
        "model.add(layers.Dense(16, activation='tanh'))\n",
        "model.add(layers.Dense(1, activation='sigmoid'))\n",
        "\n",
        "model.compile(optimizer='rmsprop',\n",
        "              loss='binary_crossentropy',\n",
        "              metrics=['accuracy'])\n",
        "\n",
        "from keras import optimizers\n",
        "from keras import losses\n",
        "from keras import metrics\n",
        "\n",
        "from tensorflow import keras\n",
        "from keras import optimizers\n",
        "from tensorflow.keras import optimizers\n",
        "from tensorflow.keras import optimizers\n",
        "\n",
        "model.compile(optimizer=optimizers.RMSprop(learning_rate=0.001),\n",
        "              loss = losses.binary_crossentropy,\n",
        "              metrics = [metrics.binary_accuracy])\n",
        "\n",
        "x_val = x_train[:10000]\n",
        "partial_x_train = x_train[10000:]\n",
        "\n",
        "y_val = y_train[:10000]\n",
        "partial_y_train = y_train[10000:]\n",
        "\n",
        "history = model.fit(partial_x_train,\n",
        "                    partial_y_train,\n",
        "                    epochs=20,\n",
        "                    batch_size=512,\n",
        "                    validation_data=(x_val, y_val))\n",
        "\n",
        "history_dict = history.history\n",
        "history_dict.keys()\n",
        "\n",
        "# Plotting the training and validation loss\n",
        "\n",
        "import matplotlib.pyplot as plt\n",
        "\n",
        "Loss_Values = history_dict['loss']\n",
        "Val_Loss_Values = history_dict['val_loss']\n",
        "\n",
        "epochs = range(1, len(Loss_Values) + 1)\n",
        "\n",
        "plt.plot(epochs, Loss_Values, 'bo', label=\"Training Loss\")\n",
        "plt.plot(epochs, Val_Loss_Values, 'b', label=\"Validation Loss\")\n",
        "\n",
        "plt.title('Training and Validation Loss')\n",
        "plt.xlabel('Epochs')\n",
        "plt.ylabel('Loss Value')\n",
        "plt.legend()\n",
        "\n",
        "plt.show()\n",
        "\n",
        "\n",
        "# Plotting the training and validation accuracy\n",
        "# Training and Validation Accuracy\n",
        "\n",
        "Acc_Values = history_dict['binary_accuracy']\n",
        "Val_Acc_Values = history_dict['val_binary_accuracy']\n",
        "\n",
        "epochs = range(1, len(Loss_Values) + 1)\n",
        "\n",
        "plt.plot(epochs, Acc_Values, 'ro', label=\"Training Accuracy\")\n",
        "plt.plot(epochs, Val_Acc_Values, 'r', label=\"Validation Accuracy\")\n",
        "\n",
        "plt.title('Training and Validation Accuraccy')\n",
        "plt.xlabel('Epochs')\n",
        "plt.ylabel('Accuracy')\n",
        "plt.legend()\n",
        "\n",
        "plt.show()\n",
        "\n",
        "\n",
        "model = models.Sequential()\n",
        "model.add(layers.Dense(16, activation='tanh', input_shape=(10000,)))\n",
        "model.add(layers.Dense(16, activation='tanh'))\n",
        "model.add(layers.Dense(1, activation='sigmoid'))\n",
        "\n",
        "model.compile(optimizer='rmsprop',\n",
        "              loss='binary_crossentropy',\n",
        "              metrics=['accuracy'])\n",
        "\n",
        "model.fit(x_train, y_train, epochs=3, batch_size=512)\n",
        "results = model.evaluate(x_test, y_test)\n",
        "\n",
        "results"
      ],
      "metadata": {
        "colab": {
          "base_uri": "https://localhost:8080/",
          "height": 1000
        },
        "id": "JWY3xYjgeol5",
        "outputId": "3668488d-7808-4c4d-cd68-e576e65b1b7d"
      },
      "execution_count": null,
      "outputs": [
        {
          "output_type": "stream",
          "name": "stdout",
          "text": [
            "Epoch 1/20\n",
            "30/30 [==============================] - 3s 75ms/step - loss: 0.5216 - binary_accuracy: 0.7854 - val_loss: 0.4021 - val_binary_accuracy: 0.8639\n",
            "Epoch 2/20\n",
            "30/30 [==============================] - 2s 59ms/step - loss: 0.3199 - binary_accuracy: 0.8974 - val_loss: 0.3111 - val_binary_accuracy: 0.8795\n",
            "Epoch 3/20\n",
            "30/30 [==============================] - 1s 38ms/step - loss: 0.2374 - binary_accuracy: 0.9185 - val_loss: 0.2756 - val_binary_accuracy: 0.8899\n",
            "Epoch 4/20\n",
            "30/30 [==============================] - 1s 47ms/step - loss: 0.1785 - binary_accuracy: 0.9400 - val_loss: 0.2766 - val_binary_accuracy: 0.8852\n",
            "Epoch 5/20\n",
            "30/30 [==============================] - 1s 33ms/step - loss: 0.1469 - binary_accuracy: 0.9514 - val_loss: 0.2869 - val_binary_accuracy: 0.8830\n",
            "Epoch 6/20\n",
            "30/30 [==============================] - 2s 59ms/step - loss: 0.1153 - binary_accuracy: 0.9625 - val_loss: 0.3057 - val_binary_accuracy: 0.8815\n",
            "Epoch 7/20\n",
            "30/30 [==============================] - 2s 61ms/step - loss: 0.1013 - binary_accuracy: 0.9681 - val_loss: 0.3307 - val_binary_accuracy: 0.8806\n",
            "Epoch 8/20\n",
            "30/30 [==============================] - 1s 42ms/step - loss: 0.0800 - binary_accuracy: 0.9763 - val_loss: 0.3615 - val_binary_accuracy: 0.8767\n",
            "Epoch 9/20\n",
            "30/30 [==============================] - 1s 40ms/step - loss: 0.0685 - binary_accuracy: 0.9787 - val_loss: 0.3901 - val_binary_accuracy: 0.8756\n",
            "Epoch 10/20\n",
            "30/30 [==============================] - 1s 32ms/step - loss: 0.0561 - binary_accuracy: 0.9837 - val_loss: 0.4341 - val_binary_accuracy: 0.8700\n",
            "Epoch 11/20\n",
            "30/30 [==============================] - 1s 22ms/step - loss: 0.0404 - binary_accuracy: 0.9896 - val_loss: 0.4960 - val_binary_accuracy: 0.8623\n",
            "Epoch 12/20\n",
            "30/30 [==============================] - 1s 20ms/step - loss: 0.0454 - binary_accuracy: 0.9875 - val_loss: 0.4910 - val_binary_accuracy: 0.8713\n",
            "Epoch 13/20\n",
            "30/30 [==============================] - 1s 20ms/step - loss: 0.0339 - binary_accuracy: 0.9912 - val_loss: 0.5180 - val_binary_accuracy: 0.8709\n",
            "Epoch 14/20\n",
            "30/30 [==============================] - 1s 23ms/step - loss: 0.0213 - binary_accuracy: 0.9959 - val_loss: 0.7343 - val_binary_accuracy: 0.8388\n",
            "Epoch 15/20\n",
            "30/30 [==============================] - 1s 20ms/step - loss: 0.0223 - binary_accuracy: 0.9947 - val_loss: 0.5857 - val_binary_accuracy: 0.8697\n",
            "Epoch 16/20\n",
            "30/30 [==============================] - 1s 21ms/step - loss: 0.0298 - binary_accuracy: 0.9923 - val_loss: 0.6044 - val_binary_accuracy: 0.8688\n",
            "Epoch 17/20\n",
            "30/30 [==============================] - 1s 22ms/step - loss: 0.0089 - binary_accuracy: 0.9992 - val_loss: 0.6333 - val_binary_accuracy: 0.8686\n",
            "Epoch 18/20\n",
            "30/30 [==============================] - 1s 21ms/step - loss: 0.0281 - binary_accuracy: 0.9922 - val_loss: 0.6426 - val_binary_accuracy: 0.8669\n",
            "Epoch 19/20\n",
            "30/30 [==============================] - 1s 20ms/step - loss: 0.0065 - binary_accuracy: 0.9994 - val_loss: 0.6645 - val_binary_accuracy: 0.8672\n",
            "Epoch 20/20\n",
            "30/30 [==============================] - 1s 22ms/step - loss: 0.0255 - binary_accuracy: 0.9935 - val_loss: 0.6725 - val_binary_accuracy: 0.8666\n"
          ]
        },
        {
          "output_type": "display_data",
          "data": {
            "text/plain": [
              "<Figure size 432x288 with 1 Axes>"
            ],
            "image/png": "[encoded data removed]"
          },
          "metadata": {
            "needs_background": "light"
          }
        },
        {
          "output_type": "display_data",
          "data": {
            "text/plain": [
              "<Figure size 432x288 with 1 Axes>"
            ],
            "image/png": "[encoded data removed]"
          },
          "metadata": {
            "needs_background": "light"
          }
        },
        {
          "output_type": "stream",
          "name": "stdout",
          "text": [
            "Epoch 1/3\n",
            "49/49 [==============================] - 1s 15ms/step - loss: 0.4388 - accuracy: 0.8266\n",
            "Epoch 2/3\n",
            "49/49 [==============================] - 1s 18ms/step - loss: 0.2565 - accuracy: 0.9064\n",
            "Epoch 3/3\n",
            "49/49 [==============================] - 1s 19ms/step - loss: 0.1983 - accuracy: 0.9256\n",
            "782/782 [==============================] - 1s 2ms/step - loss: 0.2808 - accuracy: 0.8867\n"
          ]
        },
        {
          "output_type": "execute_result",
          "data": {
            "text/plain": [
              "[0.28078657388687134, 0.8867200016975403]"
            ]
          },
          "metadata": {},
          "execution_count": 22
        }
      ]
    },
    {
      "cell_type": "code",
      "source": [
        "from keras import models\n",
        "from tensorflow.keras import layers\n",
        "\n",
        "model = models.Sequential()\n",
        "model.add(layers.Dense(32, activation='tanh', input_shape=(10000,)))\n",
        "model.add(layers.Dense(32, activation='tanh'))\n",
        "model.add(layers.Dense(1, activation='sigmoid'))\n",
        "\n",
        "model.compile(optimizer='rmsprop',\n",
        "              loss='binary_crossentropy',\n",
        "              metrics=['accuracy'])\n",
        "\n",
        "from keras import optimizers\n",
        "from keras import losses\n",
        "from keras import metrics\n",
        "\n",
        "from tensorflow import keras\n",
        "from keras import optimizers\n",
        "from tensorflow.keras import optimizers\n",
        "from tensorflow.keras import optimizers\n",
        "\n",
        "model.compile(optimizer=optimizers.RMSprop(learning_rate=0.001),\n",
        "              loss = losses.binary_crossentropy,\n",
        "              metrics = [metrics.binary_accuracy])\n",
        "\n",
        "x_val = x_train[:10000]\n",
        "partial_x_train = x_train[10000:]\n",
        "\n",
        "y_val = y_train[:10000]\n",
        "partial_y_train = y_train[10000:]\n",
        "\n",
        "history = model.fit(partial_x_train,\n",
        "                    partial_y_train,\n",
        "                    epochs=20,\n",
        "                    batch_size=512,\n",
        "                    validation_data=(x_val, y_val))\n",
        "\n",
        "history_dict = history.history\n",
        "history_dict.keys()\n",
        "\n",
        "# Plotting the training and validation loss\n",
        "\n",
        "import matplotlib.pyplot as plt\n",
        "\n",
        "Loss_Values = history_dict['loss']\n",
        "Val_Loss_Values = history_dict['val_loss']\n",
        "\n",
        "epochs = range(1, len(Loss_Values) + 1)\n",
        "\n",
        "plt.plot(epochs, Loss_Values, 'bo', label=\"Training Loss\")\n",
        "plt.plot(epochs, Val_Loss_Values, 'b', label=\"Validation Loss\")\n",
        "\n",
        "plt.title('Training and Validation Loss')\n",
        "plt.xlabel('Epochs')\n",
        "plt.ylabel('Loss Value')\n",
        "plt.legend()\n",
        "\n",
        "plt.show()\n",
        "\n",
        "\n",
        "# Plotting the training and validation accuracy\n",
        "# Training and Validation Accuracy\n",
        "\n",
        "Acc_Values = history_dict['binary_accuracy']\n",
        "Val_Acc_Values = history_dict['val_binary_accuracy']\n",
        "\n",
        "epochs = range(1, len(Loss_Values) + 1)\n",
        "\n",
        "plt.plot(epochs, Acc_Values, 'ro', label=\"Training Accuracy\")\n",
        "plt.plot(epochs, Val_Acc_Values, 'r', label=\"Validation Accuracy\")\n",
        "\n",
        "plt.title('Training and Validation Accuraccy')\n",
        "plt.xlabel('Epochs')\n",
        "plt.ylabel('Accuracy')\n",
        "plt.legend()\n",
        "\n",
        "plt.show()\n",
        "\n",
        "\n",
        "model = models.Sequential()\n",
        "model.add(layers.Dense(32, activation='tanh', input_shape=(10000,)))\n",
        "model.add(layers.Dense(32, activation='tanh'))\n",
        "model.add(layers.Dense(1, activation='sigmoid'))\n",
        "\n",
        "model.compile(optimizer='rmsprop',\n",
        "              loss='binary_crossentropy',\n",
        "              metrics=['accuracy'])\n",
        "\n",
        "model.fit(x_train, y_train, epochs=3, batch_size=512)\n",
        "results = model.evaluate(x_test, y_test)\n",
        "\n",
        "results"
      ],
      "metadata": {
        "colab": {
          "base_uri": "https://localhost:8080/",
          "height": 1000
        },
        "id": "UDOrCqAJWdsC",
        "outputId": "544de271-d0cf-4daf-d14e-5004e40b5ba4"
      },
      "execution_count": 15,
      "outputs": [
        {
          "output_type": "stream",
          "name": "stdout",
          "text": [
            "Epoch 1/20\n",
            "30/30 [==============================] - 3s 91ms/step - loss: 0.4825 - binary_accuracy: 0.7869 - val_loss: 0.3574 - val_binary_accuracy: 0.8551\n",
            "Epoch 2/20\n",
            "30/30 [==============================] - 1s 27ms/step - loss: 0.2699 - binary_accuracy: 0.8988 - val_loss: 0.2800 - val_binary_accuracy: 0.8850\n",
            "Epoch 3/20\n",
            "30/30 [==============================] - 1s 30ms/step - loss: 0.1943 - binary_accuracy: 0.9280 - val_loss: 0.4266 - val_binary_accuracy: 0.8315\n",
            "Epoch 4/20\n",
            "30/30 [==============================] - 1s 26ms/step - loss: 0.1667 - binary_accuracy: 0.9346 - val_loss: 0.2945 - val_binary_accuracy: 0.8853\n",
            "Epoch 5/20\n",
            "30/30 [==============================] - 1s 24ms/step - loss: 0.1265 - binary_accuracy: 0.9550 - val_loss: 0.3349 - val_binary_accuracy: 0.8815\n",
            "Epoch 6/20\n",
            "30/30 [==============================] - 1s 24ms/step - loss: 0.1153 - binary_accuracy: 0.9576 - val_loss: 0.4162 - val_binary_accuracy: 0.8686\n",
            "Epoch 7/20\n",
            "30/30 [==============================] - 1s 39ms/step - loss: 0.0830 - binary_accuracy: 0.9701 - val_loss: 0.4885 - val_binary_accuracy: 0.8591\n",
            "Epoch 8/20\n",
            "30/30 [==============================] - 1s 29ms/step - loss: 0.0758 - binary_accuracy: 0.9724 - val_loss: 0.4680 - val_binary_accuracy: 0.8712\n",
            "Epoch 9/20\n",
            "30/30 [==============================] - 1s 28ms/step - loss: 0.0677 - binary_accuracy: 0.9761 - val_loss: 0.4568 - val_binary_accuracy: 0.8720\n",
            "Epoch 10/20\n",
            "30/30 [==============================] - 1s 23ms/step - loss: 0.0604 - binary_accuracy: 0.9807 - val_loss: 0.4882 - val_binary_accuracy: 0.8688\n",
            "Epoch 11/20\n",
            "30/30 [==============================] - 1s 23ms/step - loss: 0.0461 - binary_accuracy: 0.9847 - val_loss: 0.5206 - val_binary_accuracy: 0.8705\n",
            "Epoch 12/20\n",
            "30/30 [==============================] - 1s 25ms/step - loss: 0.0545 - binary_accuracy: 0.9842 - val_loss: 0.5482 - val_binary_accuracy: 0.8699\n",
            "Epoch 13/20\n",
            "30/30 [==============================] - 1s 25ms/step - loss: 0.0140 - binary_accuracy: 0.9979 - val_loss: 0.8749 - val_binary_accuracy: 0.8342\n",
            "Epoch 14/20\n",
            "30/30 [==============================] - 1s 23ms/step - loss: 0.0308 - binary_accuracy: 0.9913 - val_loss: 0.9378 - val_binary_accuracy: 0.8202\n",
            "Epoch 15/20\n",
            "30/30 [==============================] - 1s 23ms/step - loss: 0.0301 - binary_accuracy: 0.9914 - val_loss: 0.6571 - val_binary_accuracy: 0.8639\n",
            "Epoch 16/20\n",
            "30/30 [==============================] - 1s 28ms/step - loss: 0.0432 - binary_accuracy: 0.9887 - val_loss: 0.6592 - val_binary_accuracy: 0.8679\n",
            "Epoch 17/20\n",
            "30/30 [==============================] - 1s 24ms/step - loss: 0.0055 - binary_accuracy: 0.9995 - val_loss: 1.1629 - val_binary_accuracy: 0.8143\n",
            "Epoch 18/20\n",
            "30/30 [==============================] - 1s 23ms/step - loss: 0.0298 - binary_accuracy: 0.9905 - val_loss: 0.7164 - val_binary_accuracy: 0.8639\n",
            "Epoch 19/20\n",
            "30/30 [==============================] - 1s 24ms/step - loss: 0.0361 - binary_accuracy: 0.9909 - val_loss: 0.7291 - val_binary_accuracy: 0.8679\n",
            "Epoch 20/20\n",
            "30/30 [==============================] - 1s 23ms/step - loss: 0.0030 - binary_accuracy: 0.9999 - val_loss: 0.7454 - val_binary_accuracy: 0.8669\n"
          ]
        },
        {
          "output_type": "display_data",
          "data": {
            "text/plain": [
              "<Figure size 432x288 with 1 Axes>"
            ],
            "image/png": "[encoded data removed]"
          },
          "metadata": {
            "needs_background": "light"
          }
        },
        {
          "output_type": "display_data",
          "data": {
            "text/plain": [
              "<Figure size 432x288 with 1 Axes>"
            ],
            "image/png": "[encoded data removed]"
          },
          "metadata": {
            "needs_background": "light"
          }
        },
        {
          "output_type": "stream",
          "name": "stdout",
          "text": [
            "Epoch 1/3\n",
            "49/49 [==============================] - 1s 18ms/step - loss: 0.4167 - accuracy: 0.8206\n",
            "Epoch 2/3\n",
            "49/49 [==============================] - 1s 17ms/step - loss: 0.2437 - accuracy: 0.9048\n",
            "Epoch 3/3\n",
            "49/49 [==============================] - 1s 17ms/step - loss: 0.1945 - accuracy: 0.9246\n",
            "782/782 [==============================] - 1s 2ms/step - loss: 0.2935 - accuracy: 0.8838\n"
          ]
        },
        {
          "output_type": "execute_result",
          "data": {
            "text/plain": [
              "[0.2935309112071991, 0.8838000297546387]"
            ]
          },
          "metadata": {},
          "execution_count": 15
        }
      ]
    },
    {
      "cell_type": "code",
      "source": [
        "from keras import models\n",
        "from tensorflow.keras import layers\n",
        "\n",
        "model = models.Sequential()\n",
        "model.add(layers.Dense(64, activation='tanh', input_shape=(10000,)))\n",
        "model.add(layers.Dense(64, activation='tanh'))\n",
        "model.add(layers.Dense(1, activation='sigmoid'))\n",
        "\n",
        "model.compile(optimizer='rmsprop',\n",
        "              loss='binary_crossentropy',\n",
        "              metrics=['accuracy'])\n",
        "\n",
        "from keras import optimizers\n",
        "from keras import losses\n",
        "from keras import metrics\n",
        "\n",
        "from tensorflow import keras\n",
        "from keras import optimizers\n",
        "from tensorflow.keras import optimizers\n",
        "from tensorflow.keras import optimizers\n",
        "\n",
        "model.compile(optimizer=optimizers.RMSprop(learning_rate=0.001),\n",
        "              loss = losses.binary_crossentropy,\n",
        "              metrics = [metrics.binary_accuracy])\n",
        "\n",
        "x_val = x_train[:10000]\n",
        "partial_x_train = x_train[10000:]\n",
        "\n",
        "y_val = y_train[:10000]\n",
        "partial_y_train = y_train[10000:]\n",
        "\n",
        "history = model.fit(partial_x_train,\n",
        "                    partial_y_train,\n",
        "                    epochs=20,\n",
        "                    batch_size=512,\n",
        "                    validation_data=(x_val, y_val))\n",
        "\n",
        "history_dict = history.history\n",
        "history_dict.keys()\n",
        "\n",
        "# Plotting the training and validation loss\n",
        "\n",
        "import matplotlib.pyplot as plt\n",
        "\n",
        "Loss_Values = history_dict['loss']\n",
        "Val_Loss_Values = history_dict['val_loss']\n",
        "\n",
        "epochs = range(1, len(Loss_Values) + 1)\n",
        "\n",
        "plt.plot(epochs, Loss_Values, 'bo', label=\"Training Loss\")\n",
        "plt.plot(epochs, Val_Loss_Values, 'b', label=\"Validation Loss\")\n",
        "\n",
        "plt.title('Training and Validation Loss')\n",
        "plt.xlabel('Epochs')\n",
        "plt.ylabel('Loss Value')\n",
        "plt.legend()\n",
        "\n",
        "plt.show()\n",
        "\n",
        "\n",
        "# Plotting the training and validation accuracy\n",
        "# Training and Validation Accuracy\n",
        "\n",
        "Acc_Values = history_dict['binary_accuracy']\n",
        "Val_Acc_Values = history_dict['val_binary_accuracy']\n",
        "\n",
        "epochs = range(1, len(Loss_Values) + 1)\n",
        "\n",
        "plt.plot(epochs, Acc_Values, 'ro', label=\"Training Accuracy\")\n",
        "plt.plot(epochs, Val_Acc_Values, 'r', label=\"Validation Accuracy\")\n",
        "\n",
        "plt.title('Training and Validation Accuraccy')\n",
        "plt.xlabel('Epochs')\n",
        "plt.ylabel('Accuracy')\n",
        "plt.legend()\n",
        "\n",
        "plt.show()\n",
        "\n",
        "\n",
        "model = models.Sequential()\n",
        "model.add(layers.Dense(64, activation='tanh', input_shape=(10000,)))\n",
        "model.add(layers.Dense(64, activation='tanh'))\n",
        "model.add(layers.Dense(1, activation='sigmoid'))\n",
        "\n",
        "model.compile(optimizer='rmsprop',\n",
        "              loss='binary_crossentropy',\n",
        "              metrics=['accuracy'])\n",
        "\n",
        "model.fit(x_train, y_train, epochs=3, batch_size=512)\n",
        "results = model.evaluate(x_test, y_test)\n",
        "\n",
        "results"
      ],
      "metadata": {
        "colab": {
          "base_uri": "https://localhost:8080/",
          "height": 1000
        },
        "id": "PbojKFc3W5aZ",
        "outputId": "24d095de-5b67-4aeb-a072-bd3102e8c9ca"
      },
      "execution_count": 16,
      "outputs": [
        {
          "output_type": "stream",
          "name": "stdout",
          "text": [
            "Epoch 1/20\n",
            "30/30 [==============================] - 2s 52ms/step - loss: 0.4864 - binary_accuracy: 0.7723 - val_loss: 0.4007 - val_binary_accuracy: 0.8197\n",
            "Epoch 2/20\n",
            "30/30 [==============================] - 1s 39ms/step - loss: 0.2798 - binary_accuracy: 0.8875 - val_loss: 0.2981 - val_binary_accuracy: 0.8781\n",
            "Epoch 3/20\n",
            "30/30 [==============================] - 1s 46ms/step - loss: 0.2032 - binary_accuracy: 0.9249 - val_loss: 0.3547 - val_binary_accuracy: 0.8581\n",
            "Epoch 4/20\n",
            "30/30 [==============================] - 1s 45ms/step - loss: 0.1705 - binary_accuracy: 0.9353 - val_loss: 0.4669 - val_binary_accuracy: 0.8345\n",
            "Epoch 5/20\n",
            "30/30 [==============================] - 1s 38ms/step - loss: 0.1392 - binary_accuracy: 0.9513 - val_loss: 0.3596 - val_binary_accuracy: 0.8707\n",
            "Epoch 6/20\n",
            "30/30 [==============================] - 1s 39ms/step - loss: 0.1258 - binary_accuracy: 0.9543 - val_loss: 0.3399 - val_binary_accuracy: 0.8793\n",
            "Epoch 7/20\n",
            "30/30 [==============================] - 1s 34ms/step - loss: 0.0965 - binary_accuracy: 0.9667 - val_loss: 0.3805 - val_binary_accuracy: 0.8781\n",
            "Epoch 8/20\n",
            "30/30 [==============================] - 1s 33ms/step - loss: 0.0875 - binary_accuracy: 0.9708 - val_loss: 0.4341 - val_binary_accuracy: 0.8675\n",
            "Epoch 9/20\n",
            "30/30 [==============================] - 1s 31ms/step - loss: 0.0767 - binary_accuracy: 0.9756 - val_loss: 0.4713 - val_binary_accuracy: 0.8666\n",
            "Epoch 10/20\n",
            "30/30 [==============================] - 1s 32ms/step - loss: 0.0761 - binary_accuracy: 0.9698 - val_loss: 0.5372 - val_binary_accuracy: 0.8575\n",
            "Epoch 11/20\n",
            "30/30 [==============================] - 1s 31ms/step - loss: 0.0525 - binary_accuracy: 0.9821 - val_loss: 0.5129 - val_binary_accuracy: 0.8702\n",
            "Epoch 12/20\n",
            "30/30 [==============================] - 1s 32ms/step - loss: 0.0537 - binary_accuracy: 0.9833 - val_loss: 0.5390 - val_binary_accuracy: 0.8709\n",
            "Epoch 13/20\n",
            "30/30 [==============================] - 1s 31ms/step - loss: 0.0411 - binary_accuracy: 0.9882 - val_loss: 0.5688 - val_binary_accuracy: 0.8710\n",
            "Epoch 14/20\n",
            "30/30 [==============================] - 1s 31ms/step - loss: 0.0428 - binary_accuracy: 0.9902 - val_loss: 0.6116 - val_binary_accuracy: 0.8638\n",
            "Epoch 15/20\n",
            "30/30 [==============================] - 1s 30ms/step - loss: 0.0109 - binary_accuracy: 0.9985 - val_loss: 0.6528 - val_binary_accuracy: 0.8692\n",
            "Epoch 16/20\n",
            "30/30 [==============================] - 1s 32ms/step - loss: 0.0526 - binary_accuracy: 0.9867 - val_loss: 0.6535 - val_binary_accuracy: 0.8690\n",
            "Epoch 17/20\n",
            "30/30 [==============================] - 1s 35ms/step - loss: 0.0186 - binary_accuracy: 0.9948 - val_loss: 0.7689 - val_binary_accuracy: 0.8513\n",
            "Epoch 18/20\n",
            "30/30 [==============================] - 1s 40ms/step - loss: 0.0073 - binary_accuracy: 0.9993 - val_loss: 0.7236 - val_binary_accuracy: 0.8671\n",
            "Epoch 19/20\n",
            "30/30 [==============================] - 1s 36ms/step - loss: 0.0447 - binary_accuracy: 0.9885 - val_loss: 0.7207 - val_binary_accuracy: 0.8687\n",
            "Epoch 20/20\n",
            "30/30 [==============================] - 1s 31ms/step - loss: 0.0036 - binary_accuracy: 0.9999 - val_loss: 0.7561 - val_binary_accuracy: 0.8715\n"
          ]
        },
        {
          "output_type": "display_data",
          "data": {
            "text/plain": [
              "<Figure size 432x288 with 1 Axes>"
            ],
            "image/png": "[encoded data removed]"
          },
          "metadata": {
            "needs_background": "light"
          }
        },
        {
          "output_type": "display_data",
          "data": {
            "text/plain": [
              "<Figure size 432x288 with 1 Axes>"
            ],
            "image/png": "[encoded data removed]"
          },
          "metadata": {
            "needs_background": "light"
          }
        },
        {
          "output_type": "stream",
          "name": "stdout",
          "text": [
            "Epoch 1/3\n",
            "49/49 [==============================] - 2s 24ms/step - loss: 0.4204 - accuracy: 0.8112\n",
            "Epoch 2/3\n",
            "49/49 [==============================] - 1s 23ms/step - loss: 0.2485 - accuracy: 0.9013\n",
            "Epoch 3/3\n",
            "49/49 [==============================] - 1s 23ms/step - loss: 0.1956 - accuracy: 0.9252\n",
            "782/782 [==============================] - 2s 2ms/step - loss: 0.3167 - accuracy: 0.8738\n"
          ]
        },
        {
          "output_type": "execute_result",
          "data": {
            "text/plain": [
              "[0.316706120967865, 0.8737999796867371]"
            ]
          },
          "metadata": {},
          "execution_count": 16
        }
      ]
    },
    {
      "cell_type": "markdown",
      "source": [
        "Part 5 - I am going to test the dropout method on the model to see its effects"
      ],
      "metadata": {
        "id": "CfUrB4jllD7s"
      }
    },
    {
      "cell_type": "code",
      "source": [
        "from keras import models\n",
        "from tensorflow.keras import layers\n",
        "\n",
        "model = models.Sequential()\n",
        "model.add(layers.Dense(16, activation='relu', input_shape=(10000,)))\n",
        "layers.Dropout(0.5),\n",
        "model.add(layers.Dense(16, activation='relu'))\n",
        "layers.Dropout(0.5),\n",
        "model.add(layers.Dense(1, activation='sigmoid'))\n",
        "\n",
        "model.compile(optimizer='rmsprop',\n",
        "              loss='binary_crossentropy',\n",
        "              metrics=['accuracy'])\n",
        "\n",
        "from keras import optimizers\n",
        "from keras import losses\n",
        "from keras import metrics\n",
        "\n",
        "from tensorflow import keras\n",
        "from keras import optimizers\n",
        "from tensorflow.keras import optimizers\n",
        "from tensorflow.keras import optimizers\n",
        "\n",
        "model.compile(optimizer=optimizers.RMSprop(learning_rate=0.001),\n",
        "              loss = losses.binary_crossentropy,\n",
        "              metrics = [metrics.binary_accuracy])\n",
        "\n",
        "x_val = x_train[:10000]\n",
        "partial_x_train = x_train[10000:]\n",
        "\n",
        "y_val = y_train[:10000]\n",
        "partial_y_train = y_train[10000:]\n",
        "\n",
        "history = model.fit(partial_x_train,\n",
        "                    partial_y_train,\n",
        "                    epochs=20,\n",
        "                    batch_size=512,\n",
        "                    validation_data=(x_val, y_val))\n",
        "\n",
        "history_dict = history.history\n",
        "history_dict.keys()\n",
        "\n",
        "# Plotting the training and validation loss\n",
        "\n",
        "import matplotlib.pyplot as plt\n",
        "\n",
        "Loss_Values = history_dict['loss']\n",
        "Val_Loss_Values = history_dict['val_loss']\n",
        "\n",
        "epochs = range(1, len(Loss_Values) + 1)\n",
        "\n",
        "plt.plot(epochs, Loss_Values, 'bo', label=\"Training Loss\")\n",
        "plt.plot(epochs, Val_Loss_Values, 'b', label=\"Validation Loss\")\n",
        "\n",
        "plt.title('Training and Validation Loss')\n",
        "plt.xlabel('Epochs')\n",
        "plt.ylabel('Loss Value')\n",
        "plt.legend()\n",
        "\n",
        "plt.show()\n",
        "\n",
        "\n",
        "# Plotting the training and validation accuracy\n",
        "# Training and Validation Accuracy\n",
        "\n",
        "Acc_Values = history_dict['binary_accuracy']\n",
        "Val_Acc_Values = history_dict['val_binary_accuracy']\n",
        "\n",
        "epochs = range(1, len(Loss_Values) + 1)\n",
        "\n",
        "plt.plot(epochs, Acc_Values, 'ro', label=\"Training Accuracy\")\n",
        "plt.plot(epochs, Val_Acc_Values, 'r', label=\"Validation Accuracy\")\n",
        "\n",
        "plt.title('Training and Validation Accuraccy')\n",
        "plt.xlabel('Epochs')\n",
        "plt.ylabel('Accuracy')\n",
        "plt.legend()\n",
        "\n",
        "plt.show()\n",
        "\n",
        "\n",
        "model = models.Sequential()\n",
        "model.add(layers.Dense(16, activation='relu', input_shape=(10000,)))\n",
        "layers.Dropout(0.5),\n",
        "model.add(layers.Dense(16, activation='relu'))\n",
        "layers.Dropout(0.5),\n",
        "model.add(layers.Dense(1, activation='sigmoid'))\n",
        "\n",
        "model.compile(optimizer='rmsprop',\n",
        "              loss='binary_crossentropy',\n",
        "              metrics=['accuracy'])\n",
        "\n",
        "model.fit(x_train, y_train, epochs=3, batch_size=512)\n",
        "results = model.evaluate(x_test, y_test)\n",
        "\n",
        "results"
      ],
      "metadata": {
        "colab": {
          "base_uri": "https://localhost:8080/",
          "height": 1000
        },
        "id": "DQkipKMclLT2",
        "outputId": "d99f6518-8e0d-4d96-813d-dd08f3ed8eb8"
      },
      "execution_count": null,
      "outputs": [
        {
          "output_type": "stream",
          "name": "stdout",
          "text": [
            "Epoch 1/20\n",
            "30/30 [==============================] - 2s 46ms/step - loss: 0.5676 - binary_accuracy: 0.7524 - val_loss: 0.4644 - val_binary_accuracy: 0.8270\n",
            "Epoch 2/20\n",
            "30/30 [==============================] - 1s 22ms/step - loss: 0.3751 - binary_accuracy: 0.8847 - val_loss: 0.3491 - val_binary_accuracy: 0.8766\n",
            "Epoch 3/20\n",
            "30/30 [==============================] - 1s 21ms/step - loss: 0.2785 - binary_accuracy: 0.9108 - val_loss: 0.3106 - val_binary_accuracy: 0.8782\n",
            "Epoch 4/20\n",
            "30/30 [==============================] - 1s 23ms/step - loss: 0.2242 - binary_accuracy: 0.9271 - val_loss: 0.2940 - val_binary_accuracy: 0.8822\n",
            "Epoch 5/20\n",
            "30/30 [==============================] - 1s 22ms/step - loss: 0.1881 - binary_accuracy: 0.9391 - val_loss: 0.2783 - val_binary_accuracy: 0.8885\n",
            "Epoch 6/20\n",
            "30/30 [==============================] - 1s 22ms/step - loss: 0.1601 - binary_accuracy: 0.9498 - val_loss: 0.2781 - val_binary_accuracy: 0.8885\n",
            "Epoch 7/20\n",
            "30/30 [==============================] - 1s 28ms/step - loss: 0.1402 - binary_accuracy: 0.9563 - val_loss: 0.3090 - val_binary_accuracy: 0.8788\n",
            "Epoch 8/20\n",
            "30/30 [==============================] - 1s 29ms/step - loss: 0.1183 - binary_accuracy: 0.9640 - val_loss: 0.3160 - val_binary_accuracy: 0.8789\n",
            "Epoch 9/20\n",
            "30/30 [==============================] - 1s 25ms/step - loss: 0.1037 - binary_accuracy: 0.9684 - val_loss: 0.3074 - val_binary_accuracy: 0.8825\n",
            "Epoch 10/20\n",
            "30/30 [==============================] - 1s 20ms/step - loss: 0.0889 - binary_accuracy: 0.9760 - val_loss: 0.3304 - val_binary_accuracy: 0.8786\n",
            "Epoch 11/20\n",
            "30/30 [==============================] - 1s 20ms/step - loss: 0.0761 - binary_accuracy: 0.9803 - val_loss: 0.3368 - val_binary_accuracy: 0.8799\n",
            "Epoch 12/20\n",
            "30/30 [==============================] - 1s 20ms/step - loss: 0.0671 - binary_accuracy: 0.9821 - val_loss: 0.3641 - val_binary_accuracy: 0.8759\n",
            "Epoch 13/20\n",
            "30/30 [==============================] - 1s 20ms/step - loss: 0.0562 - binary_accuracy: 0.9874 - val_loss: 0.3797 - val_binary_accuracy: 0.8762\n",
            "Epoch 14/20\n",
            "30/30 [==============================] - 1s 21ms/step - loss: 0.0498 - binary_accuracy: 0.9895 - val_loss: 0.3919 - val_binary_accuracy: 0.8780\n",
            "Epoch 15/20\n",
            "30/30 [==============================] - 1s 20ms/step - loss: 0.0420 - binary_accuracy: 0.9918 - val_loss: 0.4237 - val_binary_accuracy: 0.8740\n",
            "Epoch 16/20\n",
            "30/30 [==============================] - 1s 26ms/step - loss: 0.0351 - binary_accuracy: 0.9936 - val_loss: 0.4429 - val_binary_accuracy: 0.8707\n",
            "Epoch 17/20\n",
            "30/30 [==============================] - 1s 27ms/step - loss: 0.0304 - binary_accuracy: 0.9952 - val_loss: 0.4586 - val_binary_accuracy: 0.8723\n",
            "Epoch 18/20\n",
            "30/30 [==============================] - 1s 21ms/step - loss: 0.0249 - binary_accuracy: 0.9971 - val_loss: 0.5455 - val_binary_accuracy: 0.8579\n",
            "Epoch 19/20\n",
            "30/30 [==============================] - 1s 20ms/step - loss: 0.0223 - binary_accuracy: 0.9965 - val_loss: 0.4991 - val_binary_accuracy: 0.8714\n",
            "Epoch 20/20\n",
            "30/30 [==============================] - 1s 26ms/step - loss: 0.0151 - binary_accuracy: 0.9991 - val_loss: 0.5569 - val_binary_accuracy: 0.8659\n"
          ]
        },
        {
          "output_type": "display_data",
          "data": {
            "text/plain": [
              "<Figure size 432x288 with 1 Axes>"
            ],
            "image/png": "[encoded data removed]"
          },
          "metadata": {
            "needs_background": "light"
          }
        },
        {
          "output_type": "display_data",
          "data": {
            "text/plain": [
              "<Figure size 432x288 with 1 Axes>"
            ],
            "image/png": "[encoded data removed]"
          },
          "metadata": {
            "needs_background": "light"
          }
        },
        {
          "output_type": "stream",
          "name": "stdout",
          "text": [
            "Epoch 1/3\n",
            "49/49 [==============================] - 1s 17ms/step - loss: 0.4716 - accuracy: 0.8041\n",
            "Epoch 2/3\n",
            "49/49 [==============================] - 1s 19ms/step - loss: 0.2746 - accuracy: 0.9050\n",
            "Epoch 3/3\n",
            "49/49 [==============================] - 1s 18ms/step - loss: 0.2147 - accuracy: 0.9231\n",
            "782/782 [==============================] - 2s 2ms/step - loss: 0.2881 - accuracy: 0.8837\n"
          ]
        },
        {
          "output_type": "execute_result",
          "data": {
            "text/plain": [
              "[0.28810861706733704, 0.8837199807167053]"
            ]
          },
          "metadata": {},
          "execution_count": 23
        }
      ]
    },
    {
      "cell_type": "code",
      "source": [
        "from keras import models\n",
        "from tensorflow.keras import layers\n",
        "\n",
        "model = models.Sequential()\n",
        "model.add(layers.Dense(32, activation='relu', input_shape=(10000,)))\n",
        "layers.Dropout(0.5),\n",
        "model.add(layers.Dense(32, activation='relu'))\n",
        "layers.Dropout(0.5),\n",
        "model.add(layers.Dense(1, activation='sigmoid'))\n",
        "\n",
        "model.compile(optimizer='rmsprop',\n",
        "              loss='binary_crossentropy',\n",
        "              metrics=['accuracy'])\n",
        "\n",
        "from keras import optimizers\n",
        "from keras import losses\n",
        "from keras import metrics\n",
        "\n",
        "from tensorflow import keras\n",
        "from keras import optimizers\n",
        "from tensorflow.keras import optimizers\n",
        "from tensorflow.keras import optimizers\n",
        "\n",
        "model.compile(optimizer=optimizers.RMSprop(learning_rate=0.001),\n",
        "              loss = losses.binary_crossentropy,\n",
        "              metrics = [metrics.binary_accuracy])\n",
        "\n",
        "x_val = x_train[:10000]\n",
        "partial_x_train = x_train[10000:]\n",
        "\n",
        "y_val = y_train[:10000]\n",
        "partial_y_train = y_train[10000:]\n",
        "\n",
        "history = model.fit(partial_x_train,\n",
        "                    partial_y_train,\n",
        "                    epochs=20,\n",
        "                    batch_size=512,\n",
        "                    validation_data=(x_val, y_val))\n",
        "\n",
        "history_dict = history.history\n",
        "history_dict.keys()\n",
        "\n",
        "# Plotting the training and validation loss\n",
        "\n",
        "import matplotlib.pyplot as plt\n",
        "\n",
        "Loss_Values = history_dict['loss']\n",
        "Val_Loss_Values = history_dict['val_loss']\n",
        "\n",
        "epochs = range(1, len(Loss_Values) + 1)\n",
        "\n",
        "plt.plot(epochs, Loss_Values, 'bo', label=\"Training Loss\")\n",
        "plt.plot(epochs, Val_Loss_Values, 'b', label=\"Validation Loss\")\n",
        "\n",
        "plt.title('Training and Validation Loss')\n",
        "plt.xlabel('Epochs')\n",
        "plt.ylabel('Loss Value')\n",
        "plt.legend()\n",
        "\n",
        "plt.show()\n",
        "\n",
        "\n",
        "# Plotting the training and validation accuracy\n",
        "# Training and Validation Accuracy\n",
        "\n",
        "Acc_Values = history_dict['binary_accuracy']\n",
        "Val_Acc_Values = history_dict['val_binary_accuracy']\n",
        "\n",
        "epochs = range(1, len(Loss_Values) + 1)\n",
        "\n",
        "plt.plot(epochs, Acc_Values, 'ro', label=\"Training Accuracy\")\n",
        "plt.plot(epochs, Val_Acc_Values, 'r', label=\"Validation Accuracy\")\n",
        "\n",
        "plt.title('Training and Validation Accuraccy')\n",
        "plt.xlabel('Epochs')\n",
        "plt.ylabel('Accuracy')\n",
        "plt.legend()\n",
        "\n",
        "plt.show()\n",
        "\n",
        "\n",
        "model = models.Sequential()\n",
        "model.add(layers.Dense(32, activation='relu', input_shape=(10000,)))\n",
        "layers.Dropout(0.5),\n",
        "model.add(layers.Dense(32, activation='relu'))\n",
        "layers.Dropout(0.5),\n",
        "model.add(layers.Dense(1, activation='sigmoid'))\n",
        "\n",
        "model.compile(optimizer='rmsprop',\n",
        "              loss='binary_crossentropy',\n",
        "              metrics=['accuracy'])\n",
        "\n",
        "model.fit(x_train, y_train, epochs=3, batch_size=512)\n",
        "results = model.evaluate(x_test, y_test)\n",
        "\n",
        "results"
      ],
      "metadata": {
        "colab": {
          "base_uri": "https://localhost:8080/",
          "height": 1000
        },
        "id": "iykhRfdpXP-w",
        "outputId": "0ab20052-d909-44e0-ea97-2dc7310e978a"
      },
      "execution_count": 17,
      "outputs": [
        {
          "output_type": "stream",
          "name": "stdout",
          "text": [
            "Epoch 1/20\n",
            "30/30 [==============================] - 2s 53ms/step - loss: 0.5219 - binary_accuracy: 0.7663 - val_loss: 0.4043 - val_binary_accuracy: 0.8395\n",
            "Epoch 2/20\n",
            "30/30 [==============================] - 1s 22ms/step - loss: 0.3077 - binary_accuracy: 0.8939 - val_loss: 0.2978 - val_binary_accuracy: 0.8874\n",
            "Epoch 3/20\n",
            "30/30 [==============================] - 1s 22ms/step - loss: 0.2314 - binary_accuracy: 0.9177 - val_loss: 0.3179 - val_binary_accuracy: 0.8699\n",
            "Epoch 4/20\n",
            "30/30 [==============================] - 1s 28ms/step - loss: 0.1843 - binary_accuracy: 0.9337 - val_loss: 0.3114 - val_binary_accuracy: 0.8738\n",
            "Epoch 5/20\n",
            "30/30 [==============================] - 1s 31ms/step - loss: 0.1514 - binary_accuracy: 0.9477 - val_loss: 0.3112 - val_binary_accuracy: 0.8767\n",
            "Epoch 6/20\n",
            "30/30 [==============================] - 1s 21ms/step - loss: 0.1302 - binary_accuracy: 0.9565 - val_loss: 0.3342 - val_binary_accuracy: 0.8717\n",
            "Epoch 7/20\n",
            "30/30 [==============================] - 1s 22ms/step - loss: 0.1093 - binary_accuracy: 0.9635 - val_loss: 0.3295 - val_binary_accuracy: 0.8762\n",
            "Epoch 8/20\n",
            "30/30 [==============================] - 1s 23ms/step - loss: 0.0952 - binary_accuracy: 0.9681 - val_loss: 0.3339 - val_binary_accuracy: 0.8827\n",
            "Epoch 9/20\n",
            "30/30 [==============================] - 1s 23ms/step - loss: 0.0724 - binary_accuracy: 0.9785 - val_loss: 0.3496 - val_binary_accuracy: 0.8802\n",
            "Epoch 10/20\n",
            "30/30 [==============================] - 1s 23ms/step - loss: 0.0672 - binary_accuracy: 0.9799 - val_loss: 0.3707 - val_binary_accuracy: 0.8819\n",
            "Epoch 11/20\n",
            "30/30 [==============================] - 1s 21ms/step - loss: 0.0494 - binary_accuracy: 0.9873 - val_loss: 0.4232 - val_binary_accuracy: 0.8675\n",
            "Epoch 12/20\n",
            "30/30 [==============================] - 1s 27ms/step - loss: 0.0439 - binary_accuracy: 0.9886 - val_loss: 0.4246 - val_binary_accuracy: 0.8740\n",
            "Epoch 13/20\n",
            "30/30 [==============================] - 1s 28ms/step - loss: 0.0371 - binary_accuracy: 0.9898 - val_loss: 0.4430 - val_binary_accuracy: 0.8768\n",
            "Epoch 14/20\n",
            "30/30 [==============================] - 1s 27ms/step - loss: 0.0304 - binary_accuracy: 0.9927 - val_loss: 0.4707 - val_binary_accuracy: 0.8761\n",
            "Epoch 15/20\n",
            "30/30 [==============================] - 1s 22ms/step - loss: 0.0257 - binary_accuracy: 0.9941 - val_loss: 0.4956 - val_binary_accuracy: 0.8696\n",
            "Epoch 16/20\n",
            "30/30 [==============================] - 1s 21ms/step - loss: 0.0252 - binary_accuracy: 0.9937 - val_loss: 0.5107 - val_binary_accuracy: 0.8739\n",
            "Epoch 17/20\n",
            "30/30 [==============================] - 1s 23ms/step - loss: 0.0095 - binary_accuracy: 0.9997 - val_loss: 0.5406 - val_binary_accuracy: 0.8749\n",
            "Epoch 18/20\n",
            "30/30 [==============================] - 1s 23ms/step - loss: 0.0212 - binary_accuracy: 0.9939 - val_loss: 0.5574 - val_binary_accuracy: 0.8719\n",
            "Epoch 19/20\n",
            "30/30 [==============================] - 1s 23ms/step - loss: 0.0068 - binary_accuracy: 0.9996 - val_loss: 0.9369 - val_binary_accuracy: 0.8198\n",
            "Epoch 20/20\n",
            "30/30 [==============================] - 1s 22ms/step - loss: 0.0150 - binary_accuracy: 0.9957 - val_loss: 0.5999 - val_binary_accuracy: 0.8728\n"
          ]
        },
        {
          "output_type": "display_data",
          "data": {
            "text/plain": [
              "<Figure size 432x288 with 1 Axes>"
            ],
            "image/png": "[encoded data removed]"
          },
          "metadata": {
            "needs_background": "light"
          }
        },
        {
          "output_type": "display_data",
          "data": {
            "text/plain": [
              "<Figure size 432x288 with 1 Axes>"
            ],
            "image/png": "[encoded data removed]"
          },
          "metadata": {
            "needs_background": "light"
          }
        },
        {
          "output_type": "stream",
          "name": "stdout",
          "text": [
            "Epoch 1/3\n",
            "49/49 [==============================] - 1s 17ms/step - loss: 0.4558 - accuracy: 0.8016\n",
            "Epoch 2/3\n",
            "49/49 [==============================] - 1s 17ms/step - loss: 0.2662 - accuracy: 0.9021\n",
            "Epoch 3/3\n",
            "49/49 [==============================] - 1s 16ms/step - loss: 0.2095 - accuracy: 0.9228\n",
            "782/782 [==============================] - 2s 2ms/step - loss: 0.3259 - accuracy: 0.8677\n"
          ]
        },
        {
          "output_type": "execute_result",
          "data": {
            "text/plain": [
              "[0.32594484090805054, 0.8677200078964233]"
            ]
          },
          "metadata": {},
          "execution_count": 17
        }
      ]
    },
    {
      "cell_type": "code",
      "source": [
        "from keras import models\n",
        "from tensorflow.keras import layers\n",
        "\n",
        "model = models.Sequential()\n",
        "model.add(layers.Dense(64, activation='relu', input_shape=(10000,)))\n",
        "layers.Dropout(0.5),\n",
        "model.add(layers.Dense(64, activation='relu'))\n",
        "layers.Dropout(0.5),\n",
        "model.add(layers.Dense(1, activation='sigmoid'))\n",
        "\n",
        "model.compile(optimizer='rmsprop',\n",
        "              loss='binary_crossentropy',\n",
        "              metrics=['accuracy'])\n",
        "\n",
        "from keras import optimizers\n",
        "from keras import losses\n",
        "from keras import metrics\n",
        "\n",
        "from tensorflow import keras\n",
        "from keras import optimizers\n",
        "from tensorflow.keras import optimizers\n",
        "from tensorflow.keras import optimizers\n",
        "\n",
        "model.compile(optimizer=optimizers.RMSprop(learning_rate=0.001),\n",
        "              loss = losses.binary_crossentropy,\n",
        "              metrics = [metrics.binary_accuracy])\n",
        "\n",
        "x_val = x_train[:10000]\n",
        "partial_x_train = x_train[10000:]\n",
        "\n",
        "y_val = y_train[:10000]\n",
        "partial_y_train = y_train[10000:]\n",
        "\n",
        "history = model.fit(partial_x_train,\n",
        "                    partial_y_train,\n",
        "                    epochs=20,\n",
        "                    batch_size=512,\n",
        "                    validation_data=(x_val, y_val))\n",
        "\n",
        "history_dict = history.history\n",
        "history_dict.keys()\n",
        "\n",
        "# Plotting the training and validation loss\n",
        "\n",
        "import matplotlib.pyplot as plt\n",
        "\n",
        "Loss_Values = history_dict['loss']\n",
        "Val_Loss_Values = history_dict['val_loss']\n",
        "\n",
        "epochs = range(1, len(Loss_Values) + 1)\n",
        "\n",
        "plt.plot(epochs, Loss_Values, 'bo', label=\"Training Loss\")\n",
        "plt.plot(epochs, Val_Loss_Values, 'b', label=\"Validation Loss\")\n",
        "\n",
        "plt.title('Training and Validation Loss')\n",
        "plt.xlabel('Epochs')\n",
        "plt.ylabel('Loss Value')\n",
        "plt.legend()\n",
        "\n",
        "plt.show()\n",
        "\n",
        "\n",
        "# Plotting the training and validation accuracy\n",
        "# Training and Validation Accuracy\n",
        "\n",
        "Acc_Values = history_dict['binary_accuracy']\n",
        "Val_Acc_Values = history_dict['val_binary_accuracy']\n",
        "\n",
        "epochs = range(1, len(Loss_Values) + 1)\n",
        "\n",
        "plt.plot(epochs, Acc_Values, 'ro', label=\"Training Accuracy\")\n",
        "plt.plot(epochs, Val_Acc_Values, 'r', label=\"Validation Accuracy\")\n",
        "\n",
        "plt.title('Training and Validation Accuraccy')\n",
        "plt.xlabel('Epochs')\n",
        "plt.ylabel('Accuracy')\n",
        "plt.legend()\n",
        "\n",
        "plt.show()\n",
        "\n",
        "\n",
        "model = models.Sequential()\n",
        "model.add(layers.Dense(64, activation='relu', input_shape=(10000,)))\n",
        "layers.Dropout(0.5),\n",
        "model.add(layers.Dense(64, activation='relu'))\n",
        "layers.Dropout(0.5),\n",
        "model.add(layers.Dense(1, activation='sigmoid'))\n",
        "\n",
        "model.compile(optimizer='rmsprop',\n",
        "              loss='binary_crossentropy',\n",
        "              metrics=['accuracy'])\n",
        "\n",
        "model.fit(x_train, y_train, epochs=3, batch_size=512)\n",
        "results = model.evaluate(x_test, y_test)\n",
        "\n",
        "results"
      ],
      "metadata": {
        "colab": {
          "base_uri": "https://localhost:8080/",
          "height": 1000
        },
        "id": "Lt_-xD8QXQ3z",
        "outputId": "6c9f80bb-ca93-451a-91d4-09a51639e5d0"
      },
      "execution_count": 18,
      "outputs": [
        {
          "output_type": "stream",
          "name": "stdout",
          "text": [
            "Epoch 1/20\n",
            "30/30 [==============================] - 2s 57ms/step - loss: 0.5109 - binary_accuracy: 0.7537 - val_loss: 0.4073 - val_binary_accuracy: 0.8275\n",
            "Epoch 2/20\n",
            "30/30 [==============================] - 1s 37ms/step - loss: 0.2984 - binary_accuracy: 0.8861 - val_loss: 0.3941 - val_binary_accuracy: 0.8306\n",
            "Epoch 3/20\n",
            "30/30 [==============================] - 1s 31ms/step - loss: 0.2265 - binary_accuracy: 0.9143 - val_loss: 0.2757 - val_binary_accuracy: 0.8899\n",
            "Epoch 4/20\n",
            "30/30 [==============================] - 1s 31ms/step - loss: 0.1755 - binary_accuracy: 0.9378 - val_loss: 0.3068 - val_binary_accuracy: 0.8795\n",
            "Epoch 5/20\n",
            "30/30 [==============================] - 1s 32ms/step - loss: 0.1514 - binary_accuracy: 0.9449 - val_loss: 0.3011 - val_binary_accuracy: 0.8819\n",
            "Epoch 6/20\n",
            "30/30 [==============================] - 1s 31ms/step - loss: 0.1213 - binary_accuracy: 0.9568 - val_loss: 0.3478 - val_binary_accuracy: 0.8678\n",
            "Epoch 7/20\n",
            "30/30 [==============================] - 1s 33ms/step - loss: 0.1000 - binary_accuracy: 0.9661 - val_loss: 0.3311 - val_binary_accuracy: 0.8842\n",
            "Epoch 8/20\n",
            "30/30 [==============================] - 1s 31ms/step - loss: 0.0893 - binary_accuracy: 0.9687 - val_loss: 0.4000 - val_binary_accuracy: 0.8725\n",
            "Epoch 9/20\n",
            "30/30 [==============================] - 1s 33ms/step - loss: 0.0702 - binary_accuracy: 0.9766 - val_loss: 0.3805 - val_binary_accuracy: 0.8716\n",
            "Epoch 10/20\n",
            "30/30 [==============================] - 1s 32ms/step - loss: 0.0526 - binary_accuracy: 0.9848 - val_loss: 0.3948 - val_binary_accuracy: 0.8799\n",
            "Epoch 11/20\n",
            "30/30 [==============================] - 1s 31ms/step - loss: 0.0438 - binary_accuracy: 0.9875 - val_loss: 0.4417 - val_binary_accuracy: 0.8774\n",
            "Epoch 12/20\n",
            "30/30 [==============================] - 1s 32ms/step - loss: 0.0409 - binary_accuracy: 0.9888 - val_loss: 0.4401 - val_binary_accuracy: 0.8769\n",
            "Epoch 13/20\n",
            "30/30 [==============================] - 1s 39ms/step - loss: 0.0400 - binary_accuracy: 0.9878 - val_loss: 0.4552 - val_binary_accuracy: 0.8765\n",
            "Epoch 14/20\n",
            "30/30 [==============================] - 1s 40ms/step - loss: 0.0103 - binary_accuracy: 0.9996 - val_loss: 0.4949 - val_binary_accuracy: 0.8717\n",
            "Epoch 15/20\n",
            "30/30 [==============================] - 1s 34ms/step - loss: 0.0437 - binary_accuracy: 0.9872 - val_loss: 0.5033 - val_binary_accuracy: 0.8747\n",
            "Epoch 16/20\n",
            "30/30 [==============================] - 1s 32ms/step - loss: 0.0059 - binary_accuracy: 0.9998 - val_loss: 0.5374 - val_binary_accuracy: 0.8776\n",
            "Epoch 17/20\n",
            "30/30 [==============================] - 1s 32ms/step - loss: 0.0375 - binary_accuracy: 0.9895 - val_loss: 0.5494 - val_binary_accuracy: 0.8726\n",
            "Epoch 18/20\n",
            "30/30 [==============================] - 1s 32ms/step - loss: 0.0036 - binary_accuracy: 0.9999 - val_loss: 0.5731 - val_binary_accuracy: 0.8759\n",
            "Epoch 19/20\n",
            "30/30 [==============================] - 1s 30ms/step - loss: 0.0027 - binary_accuracy: 0.9999 - val_loss: 0.6230 - val_binary_accuracy: 0.8691\n",
            "Epoch 20/20\n",
            "30/30 [==============================] - 1s 30ms/step - loss: 0.0303 - binary_accuracy: 0.9911 - val_loss: 0.6098 - val_binary_accuracy: 0.8763\n"
          ]
        },
        {
          "output_type": "display_data",
          "data": {
            "text/plain": [
              "<Figure size 432x288 with 1 Axes>"
            ],
            "image/png": "[encoded data removed]"
          },
          "metadata": {
            "needs_background": "light"
          }
        },
        {
          "output_type": "display_data",
          "data": {
            "text/plain": [
              "<Figure size 432x288 with 1 Axes>"
            ],
            "image/png": "[encoded data removed]"
          },
          "metadata": {
            "needs_background": "light"
          }
        },
        {
          "output_type": "stream",
          "name": "stdout",
          "text": [
            "Epoch 1/3\n",
            "49/49 [==============================] - 2s 24ms/step - loss: 0.4465 - accuracy: 0.7964\n",
            "Epoch 2/3\n",
            "49/49 [==============================] - 1s 24ms/step - loss: 0.2601 - accuracy: 0.9005\n",
            "Epoch 3/3\n",
            "49/49 [==============================] - 1s 30ms/step - loss: 0.2073 - accuracy: 0.9192\n",
            "782/782 [==============================] - 2s 2ms/step - loss: 0.3051 - accuracy: 0.8768\n"
          ]
        },
        {
          "output_type": "execute_result",
          "data": {
            "text/plain": [
              "[0.3051413297653198, 0.8767600059509277]"
            ]
          },
          "metadata": {},
          "execution_count": 18
        }
      ]
    }
  ]
}